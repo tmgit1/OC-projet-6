{
 "cells": [
  {
   "cell_type": "code",
   "execution_count": 1,
   "id": "initial_id",
   "metadata": {
    "collapsed": true,
    "ExecuteTime": {
     "end_time": "2024-09-10T13:13:39.641745Z",
     "start_time": "2024-09-10T13:12:58.227203Z"
    }
   },
   "outputs": [
    {
     "name": "stderr",
     "output_type": "stream",
     "text": [
      "2024-09-10 15:13:26.008948: I tensorflow/core/platform/cpu_feature_guard.cc:210] This TensorFlow binary is optimized to use available CPU instructions in performance-critical operations.\n",
      "To enable the following instructions: AVX2 AVX512F AVX512_VNNI FMA, in other operations, rebuild TensorFlow with the appropriate compiler flags.\n"
     ]
    }
   ],
   "source": [
    "from tensorflow.keras.models import Sequential\n",
    "from tensorflow.keras.layers import Conv2D, Activation, MaxPooling2D, Flatten, Dense, Dropout\n",
    "from tensorflow.keras.optimizers import SGD\n",
    "from tensorflow.keras.preprocessing.image import ImageDataGenerator\n",
    "import matplotlib.pyplot as plt\n",
    "from sklearn.metrics import classification_report, confusion_matrix\n",
    "import seaborn as sns\n",
    "import mlflow\n",
    "import mlflow.keras\n",
    "import numpy as np\n",
    "import time"
   ]
  },
  {
   "cell_type": "code",
   "outputs": [],
   "source": [
    "# Paths pour les dataset d'entraînement, de validation et de test\n",
    "train_dir = 'ten_breed_split_dataset/train'\n",
    "val_dir = 'ten_breed_split_dataset/val'\n",
    "test_dir = 'ten_breed_split_dataset/test'"
   ],
   "metadata": {
    "collapsed": false,
    "ExecuteTime": {
     "end_time": "2024-09-10T13:13:39.646559Z",
     "start_time": "2024-09-10T13:13:39.643373Z"
    }
   },
   "id": "6398b8c4819cd007",
   "execution_count": 2
  },
  {
   "cell_type": "code",
   "outputs": [],
   "source": [
    "train_datagen = ImageDataGenerator(\n",
    "    rescale=1./255,\n",
    ")\n",
    "val_datagen = ImageDataGenerator(\n",
    "    rescale=1./255\n",
    ")\n",
    "test_datagen = ImageDataGenerator(\n",
    "    rescale=1./255\n",
    ")"
   ],
   "metadata": {
    "collapsed": false,
    "ExecuteTime": {
     "end_time": "2024-09-10T13:13:39.652765Z",
     "start_time": "2024-09-10T13:13:39.649557Z"
    }
   },
   "id": "b31e69316ff057fe",
   "execution_count": 3
  },
  {
   "cell_type": "code",
   "outputs": [],
   "source": [
    "batch_size = 32"
   ],
   "metadata": {
    "collapsed": false,
    "ExecuteTime": {
     "end_time": "2024-09-10T13:13:39.657644Z",
     "start_time": "2024-09-10T13:13:39.654314Z"
    }
   },
   "id": "f990ab3f089e7ee9",
   "execution_count": 4
  },
  {
   "cell_type": "code",
   "outputs": [
    {
     "name": "stdout",
     "output_type": "stream",
     "text": [
      "Found 1298 images belonging to 10 classes.\n",
      "Found 369 images belonging to 10 classes.\n",
      "Found 193 images belonging to 10 classes.\n"
     ]
    }
   ],
   "source": [
    "# Chargement des données\n",
    "train_generator = train_datagen.flow_from_directory(\n",
    "    train_dir,\n",
    "    target_size=(224, 224),\n",
    "    batch_size=batch_size,\n",
    "    class_mode='categorical'\n",
    ")\n",
    "val_generator = val_datagen.flow_from_directory(\n",
    "    val_dir,\n",
    "    target_size=(224, 224),\n",
    "    batch_size=batch_size,\n",
    "    class_mode='categorical'\n",
    ")\n",
    "test_generator = test_datagen.flow_from_directory(\n",
    "    test_dir,\n",
    "    target_size=(224, 224),\n",
    "    batch_size=batch_size,\n",
    "    class_mode='categorical',\n",
    "    shuffle=False\n",
    ")"
   ],
   "metadata": {
    "collapsed": false,
    "ExecuteTime": {
     "end_time": "2024-09-10T13:13:39.809438Z",
     "start_time": "2024-09-10T13:13:39.659337Z"
    }
   },
   "id": "b190cc5e1ab02dd0",
   "execution_count": 5
  },
  {
   "cell_type": "code",
   "outputs": [
    {
     "name": "stderr",
     "output_type": "stream",
     "text": [
      "/Users/tom/anaconda3/lib/python3.11/site-packages/keras/src/layers/convolutional/base_conv.py:99: UserWarning: Do not pass an `input_shape`/`input_dim` argument to a layer. When using Sequential models, prefer using an `Input(shape)` object as the first layer in the model instead.\n",
      "  super().__init__(\n"
     ]
    }
   ],
   "source": [
    "# Architecture du modèle\n",
    "model = Sequential()\n",
    "model.add(Conv2D(32, (3, 3), input_shape=(224, 224, 3)))\n",
    "model.add(Activation('relu'))\n",
    "model.add(MaxPooling2D(pool_size=(2, 2)))\n",
    "\n",
    "model.add(Conv2D(32, (3, 3)))\n",
    "model.add(Activation('relu'))\n",
    "model.add(MaxPooling2D(pool_size=(2, 2)))\n",
    "\n",
    "model.add(Conv2D(64, (3, 3)))\n",
    "model.add(Activation('relu'))\n",
    "model.add(MaxPooling2D(pool_size=(2, 2)))\n",
    "\n",
    "model.add(Conv2D(64, (3, 3)))\n",
    "model.add(Activation('relu'))\n",
    "model.add(MaxPooling2D(pool_size=(2, 2)))\n",
    "\n",
    "model.add(Conv2D(64, (3, 3)))\n",
    "model.add(Activation('relu'))\n",
    "\n",
    "model.add(Flatten())\n",
    "model.add(Dense(64))\n",
    "model.add(Activation('relu'))\n",
    "model.add(Dropout(0.5))\n",
    "model.add(Dense(10))\n",
    "model.add(Activation('softmax'))"
   ],
   "metadata": {
    "collapsed": false,
    "ExecuteTime": {
     "end_time": "2024-09-10T13:13:40.014545Z",
     "start_time": "2024-09-10T13:13:39.811625Z"
    }
   },
   "id": "d24191c3771be9ef",
   "execution_count": 6
  },
  {
   "cell_type": "code",
   "outputs": [
    {
     "data": {
      "text/plain": "\u001B[1mModel: \"sequential\"\u001B[0m\n",
      "text/html": "<pre style=\"white-space:pre;overflow-x:auto;line-height:normal;font-family:Menlo,'DejaVu Sans Mono',consolas,'Courier New',monospace\"><span style=\"font-weight: bold\">Model: \"sequential\"</span>\n</pre>\n"
     },
     "metadata": {},
     "output_type": "display_data"
    },
    {
     "data": {
      "text/plain": "┏━━━━━━━━━━━━━━━━━━━━━━━━━━━━━━━━━┳━━━━━━━━━━━━━━━━━━━━━━━━┳━━━━━━━━━━━━━━━┓\n┃\u001B[1m \u001B[0m\u001B[1mLayer (type)                   \u001B[0m\u001B[1m \u001B[0m┃\u001B[1m \u001B[0m\u001B[1mOutput Shape          \u001B[0m\u001B[1m \u001B[0m┃\u001B[1m \u001B[0m\u001B[1m      Param #\u001B[0m\u001B[1m \u001B[0m┃\n┡━━━━━━━━━━━━━━━━━━━━━━━━━━━━━━━━━╇━━━━━━━━━━━━━━━━━━━━━━━━╇━━━━━━━━━━━━━━━┩\n│ conv2d (\u001B[38;5;33mConv2D\u001B[0m)                 │ (\u001B[38;5;45mNone\u001B[0m, \u001B[38;5;34m222\u001B[0m, \u001B[38;5;34m222\u001B[0m, \u001B[38;5;34m32\u001B[0m)   │           \u001B[38;5;34m896\u001B[0m │\n├─────────────────────────────────┼────────────────────────┼───────────────┤\n│ activation (\u001B[38;5;33mActivation\u001B[0m)         │ (\u001B[38;5;45mNone\u001B[0m, \u001B[38;5;34m222\u001B[0m, \u001B[38;5;34m222\u001B[0m, \u001B[38;5;34m32\u001B[0m)   │             \u001B[38;5;34m0\u001B[0m │\n├─────────────────────────────────┼────────────────────────┼───────────────┤\n│ max_pooling2d (\u001B[38;5;33mMaxPooling2D\u001B[0m)    │ (\u001B[38;5;45mNone\u001B[0m, \u001B[38;5;34m111\u001B[0m, \u001B[38;5;34m111\u001B[0m, \u001B[38;5;34m32\u001B[0m)   │             \u001B[38;5;34m0\u001B[0m │\n├─────────────────────────────────┼────────────────────────┼───────────────┤\n│ conv2d_1 (\u001B[38;5;33mConv2D\u001B[0m)               │ (\u001B[38;5;45mNone\u001B[0m, \u001B[38;5;34m109\u001B[0m, \u001B[38;5;34m109\u001B[0m, \u001B[38;5;34m32\u001B[0m)   │         \u001B[38;5;34m9,248\u001B[0m │\n├─────────────────────────────────┼────────────────────────┼───────────────┤\n│ activation_1 (\u001B[38;5;33mActivation\u001B[0m)       │ (\u001B[38;5;45mNone\u001B[0m, \u001B[38;5;34m109\u001B[0m, \u001B[38;5;34m109\u001B[0m, \u001B[38;5;34m32\u001B[0m)   │             \u001B[38;5;34m0\u001B[0m │\n├─────────────────────────────────┼────────────────────────┼───────────────┤\n│ max_pooling2d_1 (\u001B[38;5;33mMaxPooling2D\u001B[0m)  │ (\u001B[38;5;45mNone\u001B[0m, \u001B[38;5;34m54\u001B[0m, \u001B[38;5;34m54\u001B[0m, \u001B[38;5;34m32\u001B[0m)     │             \u001B[38;5;34m0\u001B[0m │\n├─────────────────────────────────┼────────────────────────┼───────────────┤\n│ conv2d_2 (\u001B[38;5;33mConv2D\u001B[0m)               │ (\u001B[38;5;45mNone\u001B[0m, \u001B[38;5;34m52\u001B[0m, \u001B[38;5;34m52\u001B[0m, \u001B[38;5;34m64\u001B[0m)     │        \u001B[38;5;34m18,496\u001B[0m │\n├─────────────────────────────────┼────────────────────────┼───────────────┤\n│ activation_2 (\u001B[38;5;33mActivation\u001B[0m)       │ (\u001B[38;5;45mNone\u001B[0m, \u001B[38;5;34m52\u001B[0m, \u001B[38;5;34m52\u001B[0m, \u001B[38;5;34m64\u001B[0m)     │             \u001B[38;5;34m0\u001B[0m │\n├─────────────────────────────────┼────────────────────────┼───────────────┤\n│ max_pooling2d_2 (\u001B[38;5;33mMaxPooling2D\u001B[0m)  │ (\u001B[38;5;45mNone\u001B[0m, \u001B[38;5;34m26\u001B[0m, \u001B[38;5;34m26\u001B[0m, \u001B[38;5;34m64\u001B[0m)     │             \u001B[38;5;34m0\u001B[0m │\n├─────────────────────────────────┼────────────────────────┼───────────────┤\n│ conv2d_3 (\u001B[38;5;33mConv2D\u001B[0m)               │ (\u001B[38;5;45mNone\u001B[0m, \u001B[38;5;34m24\u001B[0m, \u001B[38;5;34m24\u001B[0m, \u001B[38;5;34m64\u001B[0m)     │        \u001B[38;5;34m36,928\u001B[0m │\n├─────────────────────────────────┼────────────────────────┼───────────────┤\n│ activation_3 (\u001B[38;5;33mActivation\u001B[0m)       │ (\u001B[38;5;45mNone\u001B[0m, \u001B[38;5;34m24\u001B[0m, \u001B[38;5;34m24\u001B[0m, \u001B[38;5;34m64\u001B[0m)     │             \u001B[38;5;34m0\u001B[0m │\n├─────────────────────────────────┼────────────────────────┼───────────────┤\n│ max_pooling2d_3 (\u001B[38;5;33mMaxPooling2D\u001B[0m)  │ (\u001B[38;5;45mNone\u001B[0m, \u001B[38;5;34m12\u001B[0m, \u001B[38;5;34m12\u001B[0m, \u001B[38;5;34m64\u001B[0m)     │             \u001B[38;5;34m0\u001B[0m │\n├─────────────────────────────────┼────────────────────────┼───────────────┤\n│ conv2d_4 (\u001B[38;5;33mConv2D\u001B[0m)               │ (\u001B[38;5;45mNone\u001B[0m, \u001B[38;5;34m10\u001B[0m, \u001B[38;5;34m10\u001B[0m, \u001B[38;5;34m64\u001B[0m)     │        \u001B[38;5;34m36,928\u001B[0m │\n├─────────────────────────────────┼────────────────────────┼───────────────┤\n│ activation_4 (\u001B[38;5;33mActivation\u001B[0m)       │ (\u001B[38;5;45mNone\u001B[0m, \u001B[38;5;34m10\u001B[0m, \u001B[38;5;34m10\u001B[0m, \u001B[38;5;34m64\u001B[0m)     │             \u001B[38;5;34m0\u001B[0m │\n├─────────────────────────────────┼────────────────────────┼───────────────┤\n│ flatten (\u001B[38;5;33mFlatten\u001B[0m)               │ (\u001B[38;5;45mNone\u001B[0m, \u001B[38;5;34m6400\u001B[0m)           │             \u001B[38;5;34m0\u001B[0m │\n├─────────────────────────────────┼────────────────────────┼───────────────┤\n│ dense (\u001B[38;5;33mDense\u001B[0m)                   │ (\u001B[38;5;45mNone\u001B[0m, \u001B[38;5;34m64\u001B[0m)             │       \u001B[38;5;34m409,664\u001B[0m │\n├─────────────────────────────────┼────────────────────────┼───────────────┤\n│ activation_5 (\u001B[38;5;33mActivation\u001B[0m)       │ (\u001B[38;5;45mNone\u001B[0m, \u001B[38;5;34m64\u001B[0m)             │             \u001B[38;5;34m0\u001B[0m │\n├─────────────────────────────────┼────────────────────────┼───────────────┤\n│ dropout (\u001B[38;5;33mDropout\u001B[0m)               │ (\u001B[38;5;45mNone\u001B[0m, \u001B[38;5;34m64\u001B[0m)             │             \u001B[38;5;34m0\u001B[0m │\n├─────────────────────────────────┼────────────────────────┼───────────────┤\n│ dense_1 (\u001B[38;5;33mDense\u001B[0m)                 │ (\u001B[38;5;45mNone\u001B[0m, \u001B[38;5;34m10\u001B[0m)             │           \u001B[38;5;34m650\u001B[0m │\n├─────────────────────────────────┼────────────────────────┼───────────────┤\n│ activation_6 (\u001B[38;5;33mActivation\u001B[0m)       │ (\u001B[38;5;45mNone\u001B[0m, \u001B[38;5;34m10\u001B[0m)             │             \u001B[38;5;34m0\u001B[0m │\n└─────────────────────────────────┴────────────────────────┴───────────────┘\n",
      "text/html": "<pre style=\"white-space:pre;overflow-x:auto;line-height:normal;font-family:Menlo,'DejaVu Sans Mono',consolas,'Courier New',monospace\">┏━━━━━━━━━━━━━━━━━━━━━━━━━━━━━━━━━┳━━━━━━━━━━━━━━━━━━━━━━━━┳━━━━━━━━━━━━━━━┓\n┃<span style=\"font-weight: bold\"> Layer (type)                    </span>┃<span style=\"font-weight: bold\"> Output Shape           </span>┃<span style=\"font-weight: bold\">       Param # </span>┃\n┡━━━━━━━━━━━━━━━━━━━━━━━━━━━━━━━━━╇━━━━━━━━━━━━━━━━━━━━━━━━╇━━━━━━━━━━━━━━━┩\n│ conv2d (<span style=\"color: #0087ff; text-decoration-color: #0087ff\">Conv2D</span>)                 │ (<span style=\"color: #00d7ff; text-decoration-color: #00d7ff\">None</span>, <span style=\"color: #00af00; text-decoration-color: #00af00\">222</span>, <span style=\"color: #00af00; text-decoration-color: #00af00\">222</span>, <span style=\"color: #00af00; text-decoration-color: #00af00\">32</span>)   │           <span style=\"color: #00af00; text-decoration-color: #00af00\">896</span> │\n├─────────────────────────────────┼────────────────────────┼───────────────┤\n│ activation (<span style=\"color: #0087ff; text-decoration-color: #0087ff\">Activation</span>)         │ (<span style=\"color: #00d7ff; text-decoration-color: #00d7ff\">None</span>, <span style=\"color: #00af00; text-decoration-color: #00af00\">222</span>, <span style=\"color: #00af00; text-decoration-color: #00af00\">222</span>, <span style=\"color: #00af00; text-decoration-color: #00af00\">32</span>)   │             <span style=\"color: #00af00; text-decoration-color: #00af00\">0</span> │\n├─────────────────────────────────┼────────────────────────┼───────────────┤\n│ max_pooling2d (<span style=\"color: #0087ff; text-decoration-color: #0087ff\">MaxPooling2D</span>)    │ (<span style=\"color: #00d7ff; text-decoration-color: #00d7ff\">None</span>, <span style=\"color: #00af00; text-decoration-color: #00af00\">111</span>, <span style=\"color: #00af00; text-decoration-color: #00af00\">111</span>, <span style=\"color: #00af00; text-decoration-color: #00af00\">32</span>)   │             <span style=\"color: #00af00; text-decoration-color: #00af00\">0</span> │\n├─────────────────────────────────┼────────────────────────┼───────────────┤\n│ conv2d_1 (<span style=\"color: #0087ff; text-decoration-color: #0087ff\">Conv2D</span>)               │ (<span style=\"color: #00d7ff; text-decoration-color: #00d7ff\">None</span>, <span style=\"color: #00af00; text-decoration-color: #00af00\">109</span>, <span style=\"color: #00af00; text-decoration-color: #00af00\">109</span>, <span style=\"color: #00af00; text-decoration-color: #00af00\">32</span>)   │         <span style=\"color: #00af00; text-decoration-color: #00af00\">9,248</span> │\n├─────────────────────────────────┼────────────────────────┼───────────────┤\n│ activation_1 (<span style=\"color: #0087ff; text-decoration-color: #0087ff\">Activation</span>)       │ (<span style=\"color: #00d7ff; text-decoration-color: #00d7ff\">None</span>, <span style=\"color: #00af00; text-decoration-color: #00af00\">109</span>, <span style=\"color: #00af00; text-decoration-color: #00af00\">109</span>, <span style=\"color: #00af00; text-decoration-color: #00af00\">32</span>)   │             <span style=\"color: #00af00; text-decoration-color: #00af00\">0</span> │\n├─────────────────────────────────┼────────────────────────┼───────────────┤\n│ max_pooling2d_1 (<span style=\"color: #0087ff; text-decoration-color: #0087ff\">MaxPooling2D</span>)  │ (<span style=\"color: #00d7ff; text-decoration-color: #00d7ff\">None</span>, <span style=\"color: #00af00; text-decoration-color: #00af00\">54</span>, <span style=\"color: #00af00; text-decoration-color: #00af00\">54</span>, <span style=\"color: #00af00; text-decoration-color: #00af00\">32</span>)     │             <span style=\"color: #00af00; text-decoration-color: #00af00\">0</span> │\n├─────────────────────────────────┼────────────────────────┼───────────────┤\n│ conv2d_2 (<span style=\"color: #0087ff; text-decoration-color: #0087ff\">Conv2D</span>)               │ (<span style=\"color: #00d7ff; text-decoration-color: #00d7ff\">None</span>, <span style=\"color: #00af00; text-decoration-color: #00af00\">52</span>, <span style=\"color: #00af00; text-decoration-color: #00af00\">52</span>, <span style=\"color: #00af00; text-decoration-color: #00af00\">64</span>)     │        <span style=\"color: #00af00; text-decoration-color: #00af00\">18,496</span> │\n├─────────────────────────────────┼────────────────────────┼───────────────┤\n│ activation_2 (<span style=\"color: #0087ff; text-decoration-color: #0087ff\">Activation</span>)       │ (<span style=\"color: #00d7ff; text-decoration-color: #00d7ff\">None</span>, <span style=\"color: #00af00; text-decoration-color: #00af00\">52</span>, <span style=\"color: #00af00; text-decoration-color: #00af00\">52</span>, <span style=\"color: #00af00; text-decoration-color: #00af00\">64</span>)     │             <span style=\"color: #00af00; text-decoration-color: #00af00\">0</span> │\n├─────────────────────────────────┼────────────────────────┼───────────────┤\n│ max_pooling2d_2 (<span style=\"color: #0087ff; text-decoration-color: #0087ff\">MaxPooling2D</span>)  │ (<span style=\"color: #00d7ff; text-decoration-color: #00d7ff\">None</span>, <span style=\"color: #00af00; text-decoration-color: #00af00\">26</span>, <span style=\"color: #00af00; text-decoration-color: #00af00\">26</span>, <span style=\"color: #00af00; text-decoration-color: #00af00\">64</span>)     │             <span style=\"color: #00af00; text-decoration-color: #00af00\">0</span> │\n├─────────────────────────────────┼────────────────────────┼───────────────┤\n│ conv2d_3 (<span style=\"color: #0087ff; text-decoration-color: #0087ff\">Conv2D</span>)               │ (<span style=\"color: #00d7ff; text-decoration-color: #00d7ff\">None</span>, <span style=\"color: #00af00; text-decoration-color: #00af00\">24</span>, <span style=\"color: #00af00; text-decoration-color: #00af00\">24</span>, <span style=\"color: #00af00; text-decoration-color: #00af00\">64</span>)     │        <span style=\"color: #00af00; text-decoration-color: #00af00\">36,928</span> │\n├─────────────────────────────────┼────────────────────────┼───────────────┤\n│ activation_3 (<span style=\"color: #0087ff; text-decoration-color: #0087ff\">Activation</span>)       │ (<span style=\"color: #00d7ff; text-decoration-color: #00d7ff\">None</span>, <span style=\"color: #00af00; text-decoration-color: #00af00\">24</span>, <span style=\"color: #00af00; text-decoration-color: #00af00\">24</span>, <span style=\"color: #00af00; text-decoration-color: #00af00\">64</span>)     │             <span style=\"color: #00af00; text-decoration-color: #00af00\">0</span> │\n├─────────────────────────────────┼────────────────────────┼───────────────┤\n│ max_pooling2d_3 (<span style=\"color: #0087ff; text-decoration-color: #0087ff\">MaxPooling2D</span>)  │ (<span style=\"color: #00d7ff; text-decoration-color: #00d7ff\">None</span>, <span style=\"color: #00af00; text-decoration-color: #00af00\">12</span>, <span style=\"color: #00af00; text-decoration-color: #00af00\">12</span>, <span style=\"color: #00af00; text-decoration-color: #00af00\">64</span>)     │             <span style=\"color: #00af00; text-decoration-color: #00af00\">0</span> │\n├─────────────────────────────────┼────────────────────────┼───────────────┤\n│ conv2d_4 (<span style=\"color: #0087ff; text-decoration-color: #0087ff\">Conv2D</span>)               │ (<span style=\"color: #00d7ff; text-decoration-color: #00d7ff\">None</span>, <span style=\"color: #00af00; text-decoration-color: #00af00\">10</span>, <span style=\"color: #00af00; text-decoration-color: #00af00\">10</span>, <span style=\"color: #00af00; text-decoration-color: #00af00\">64</span>)     │        <span style=\"color: #00af00; text-decoration-color: #00af00\">36,928</span> │\n├─────────────────────────────────┼────────────────────────┼───────────────┤\n│ activation_4 (<span style=\"color: #0087ff; text-decoration-color: #0087ff\">Activation</span>)       │ (<span style=\"color: #00d7ff; text-decoration-color: #00d7ff\">None</span>, <span style=\"color: #00af00; text-decoration-color: #00af00\">10</span>, <span style=\"color: #00af00; text-decoration-color: #00af00\">10</span>, <span style=\"color: #00af00; text-decoration-color: #00af00\">64</span>)     │             <span style=\"color: #00af00; text-decoration-color: #00af00\">0</span> │\n├─────────────────────────────────┼────────────────────────┼───────────────┤\n│ flatten (<span style=\"color: #0087ff; text-decoration-color: #0087ff\">Flatten</span>)               │ (<span style=\"color: #00d7ff; text-decoration-color: #00d7ff\">None</span>, <span style=\"color: #00af00; text-decoration-color: #00af00\">6400</span>)           │             <span style=\"color: #00af00; text-decoration-color: #00af00\">0</span> │\n├─────────────────────────────────┼────────────────────────┼───────────────┤\n│ dense (<span style=\"color: #0087ff; text-decoration-color: #0087ff\">Dense</span>)                   │ (<span style=\"color: #00d7ff; text-decoration-color: #00d7ff\">None</span>, <span style=\"color: #00af00; text-decoration-color: #00af00\">64</span>)             │       <span style=\"color: #00af00; text-decoration-color: #00af00\">409,664</span> │\n├─────────────────────────────────┼────────────────────────┼───────────────┤\n│ activation_5 (<span style=\"color: #0087ff; text-decoration-color: #0087ff\">Activation</span>)       │ (<span style=\"color: #00d7ff; text-decoration-color: #00d7ff\">None</span>, <span style=\"color: #00af00; text-decoration-color: #00af00\">64</span>)             │             <span style=\"color: #00af00; text-decoration-color: #00af00\">0</span> │\n├─────────────────────────────────┼────────────────────────┼───────────────┤\n│ dropout (<span style=\"color: #0087ff; text-decoration-color: #0087ff\">Dropout</span>)               │ (<span style=\"color: #00d7ff; text-decoration-color: #00d7ff\">None</span>, <span style=\"color: #00af00; text-decoration-color: #00af00\">64</span>)             │             <span style=\"color: #00af00; text-decoration-color: #00af00\">0</span> │\n├─────────────────────────────────┼────────────────────────┼───────────────┤\n│ dense_1 (<span style=\"color: #0087ff; text-decoration-color: #0087ff\">Dense</span>)                 │ (<span style=\"color: #00d7ff; text-decoration-color: #00d7ff\">None</span>, <span style=\"color: #00af00; text-decoration-color: #00af00\">10</span>)             │           <span style=\"color: #00af00; text-decoration-color: #00af00\">650</span> │\n├─────────────────────────────────┼────────────────────────┼───────────────┤\n│ activation_6 (<span style=\"color: #0087ff; text-decoration-color: #0087ff\">Activation</span>)       │ (<span style=\"color: #00d7ff; text-decoration-color: #00d7ff\">None</span>, <span style=\"color: #00af00; text-decoration-color: #00af00\">10</span>)             │             <span style=\"color: #00af00; text-decoration-color: #00af00\">0</span> │\n└─────────────────────────────────┴────────────────────────┴───────────────┘\n</pre>\n"
     },
     "metadata": {},
     "output_type": "display_data"
    },
    {
     "data": {
      "text/plain": "\u001B[1m Total params: \u001B[0m\u001B[38;5;34m512,810\u001B[0m (1.96 MB)\n",
      "text/html": "<pre style=\"white-space:pre;overflow-x:auto;line-height:normal;font-family:Menlo,'DejaVu Sans Mono',consolas,'Courier New',monospace\"><span style=\"font-weight: bold\"> Total params: </span><span style=\"color: #00af00; text-decoration-color: #00af00\">512,810</span> (1.96 MB)\n</pre>\n"
     },
     "metadata": {},
     "output_type": "display_data"
    },
    {
     "data": {
      "text/plain": "\u001B[1m Trainable params: \u001B[0m\u001B[38;5;34m512,810\u001B[0m (1.96 MB)\n",
      "text/html": "<pre style=\"white-space:pre;overflow-x:auto;line-height:normal;font-family:Menlo,'DejaVu Sans Mono',consolas,'Courier New',monospace\"><span style=\"font-weight: bold\"> Trainable params: </span><span style=\"color: #00af00; text-decoration-color: #00af00\">512,810</span> (1.96 MB)\n</pre>\n"
     },
     "metadata": {},
     "output_type": "display_data"
    },
    {
     "data": {
      "text/plain": "\u001B[1m Non-trainable params: \u001B[0m\u001B[38;5;34m0\u001B[0m (0.00 B)\n",
      "text/html": "<pre style=\"white-space:pre;overflow-x:auto;line-height:normal;font-family:Menlo,'DejaVu Sans Mono',consolas,'Courier New',monospace\"><span style=\"font-weight: bold\"> Non-trainable params: </span><span style=\"color: #00af00; text-decoration-color: #00af00\">0</span> (0.00 B)\n</pre>\n"
     },
     "metadata": {},
     "output_type": "display_data"
    }
   ],
   "source": [
    "model.summary()"
   ],
   "metadata": {
    "collapsed": false,
    "ExecuteTime": {
     "end_time": "2024-09-10T13:13:40.045091Z",
     "start_time": "2024-09-10T13:13:40.016216Z"
    }
   },
   "id": "4c9d90714ac08376",
   "execution_count": 7
  },
  {
   "cell_type": "code",
   "outputs": [],
   "source": [
    "# Compilation\n",
    "model.compile(loss='categorical_crossentropy',\n",
    "              optimizer=SGD(learning_rate=0.001, momentum=0.9),\n",
    "              metrics=['accuracy'])"
   ],
   "metadata": {
    "collapsed": false,
    "ExecuteTime": {
     "end_time": "2024-09-10T13:13:40.058922Z",
     "start_time": "2024-09-10T13:13:40.047032Z"
    }
   },
   "id": "700bf82b31bb2f35",
   "execution_count": 8
  },
  {
   "cell_type": "code",
   "outputs": [
    {
     "name": "stdout",
     "output_type": "stream",
     "text": [
      "Epoch 1/20\n"
     ]
    },
    {
     "name": "stderr",
     "output_type": "stream",
     "text": [
      "/Users/tom/anaconda3/lib/python3.11/site-packages/keras/src/trainers/data_adapters/py_dataset_adapter.py:120: UserWarning: Your `PyDataset` class should call `super().__init__(**kwargs)` in its constructor. `**kwargs` can include `workers`, `use_multiprocessing`, `max_queue_size`. Do not pass these arguments to `fit()`, as they will be ignored.\n",
      "  self._warn_if_super_not_called()\n"
     ]
    },
    {
     "name": "stdout",
     "output_type": "stream",
     "text": [
      "41/41 - 64s - 2s/step - accuracy: 0.0986 - loss: 2.3038 - val_accuracy: 0.0867 - val_loss: 2.3014\n",
      "Epoch 2/20\n",
      "41/41 - 72s - 2s/step - accuracy: 0.1055 - loss: 2.3012 - val_accuracy: 0.1382 - val_loss: 2.2994\n",
      "Epoch 3/20\n",
      "41/41 - 73s - 2s/step - accuracy: 0.1032 - loss: 2.2989 - val_accuracy: 0.1003 - val_loss: 2.2979\n",
      "Epoch 4/20\n",
      "41/41 - 70s - 2s/step - accuracy: 0.1040 - loss: 2.2992 - val_accuracy: 0.1463 - val_loss: 2.2969\n",
      "Epoch 5/20\n",
      "41/41 - 63s - 2s/step - accuracy: 0.1086 - loss: 2.2985 - val_accuracy: 0.1274 - val_loss: 2.2972\n",
      "Epoch 6/20\n",
      "41/41 - 66s - 2s/step - accuracy: 0.1125 - loss: 2.2977 - val_accuracy: 0.1301 - val_loss: 2.2962\n",
      "Epoch 7/20\n",
      "41/41 - 77s - 2s/step - accuracy: 0.1171 - loss: 2.2984 - val_accuracy: 0.1165 - val_loss: 2.2968\n",
      "Epoch 8/20\n",
      "41/41 - 71s - 2s/step - accuracy: 0.1117 - loss: 2.2979 - val_accuracy: 0.1165 - val_loss: 2.2960\n",
      "Epoch 9/20\n",
      "41/41 - 70s - 2s/step - accuracy: 0.1171 - loss: 2.2977 - val_accuracy: 0.1165 - val_loss: 2.2947\n",
      "Epoch 10/20\n",
      "41/41 - 68s - 2s/step - accuracy: 0.1148 - loss: 2.2959 - val_accuracy: 0.1165 - val_loss: 2.2940\n",
      "Epoch 11/20\n",
      "41/41 - 68s - 2s/step - accuracy: 0.1140 - loss: 2.2946 - val_accuracy: 0.1301 - val_loss: 2.2935\n",
      "Epoch 12/20\n",
      "41/41 - 75s - 2s/step - accuracy: 0.1171 - loss: 2.2955 - val_accuracy: 0.1165 - val_loss: 2.2927\n",
      "Epoch 13/20\n",
      "41/41 - 77s - 2s/step - accuracy: 0.1263 - loss: 2.2921 - val_accuracy: 0.1165 - val_loss: 2.2928\n",
      "Epoch 14/20\n",
      "41/41 - 57s - 1s/step - accuracy: 0.1156 - loss: 2.2936 - val_accuracy: 0.1247 - val_loss: 2.2913\n",
      "Epoch 15/20\n",
      "41/41 - 67s - 2s/step - accuracy: 0.1217 - loss: 2.2934 - val_accuracy: 0.1192 - val_loss: 2.2901\n",
      "Epoch 16/20\n",
      "41/41 - 57s - 1s/step - accuracy: 0.1225 - loss: 2.2892 - val_accuracy: 0.1165 - val_loss: 2.2894\n",
      "Epoch 17/20\n",
      "41/41 - 56s - 1s/step - accuracy: 0.1148 - loss: 2.2908 - val_accuracy: 0.1382 - val_loss: 2.2869\n",
      "Epoch 18/20\n",
      "41/41 - 55s - 1s/step - accuracy: 0.1302 - loss: 2.2898 - val_accuracy: 0.1220 - val_loss: 2.2865\n",
      "Epoch 19/20\n",
      "41/41 - 53s - 1s/step - accuracy: 0.1217 - loss: 2.2878 - val_accuracy: 0.1165 - val_loss: 2.2856\n",
      "Epoch 20/20\n",
      "41/41 - 54s - 1s/step - accuracy: 0.1310 - loss: 2.2868 - val_accuracy: 0.1491 - val_loss: 2.2806\n"
     ]
    }
   ],
   "source": [
    "# Entraînement the model\n",
    "model_info = model.fit(\n",
    "    train_generator,\n",
    "    epochs=20,\n",
    "    validation_data=val_generator,\n",
    "    verbose=2\n",
    ")"
   ],
   "metadata": {
    "collapsed": false,
    "ExecuteTime": {
     "end_time": "2024-09-10T13:35:33.421940Z",
     "start_time": "2024-09-10T13:13:40.060833Z"
    }
   },
   "id": "59902404536426d5",
   "execution_count": 9
  },
  {
   "cell_type": "code",
   "outputs": [
    {
     "name": "stdout",
     "output_type": "stream",
     "text": [
      "\u001B[1m7/7\u001B[0m \u001B[32m━━━━━━━━━━━━━━━━━━━━\u001B[0m\u001B[37m\u001B[0m \u001B[1m2s\u001B[0m 306ms/step - accuracy: 0.1122 - loss: 2.3043\n",
      "Test accuracy: 0.15025906264781952\n"
     ]
    }
   ],
   "source": [
    "# Evaluation du modèle sur le jeu de test\n",
    "test_loss, test_acc = model.evaluate(test_generator)\n",
    "print(f'Test accuracy: {test_acc}')"
   ],
   "metadata": {
    "collapsed": false,
    "ExecuteTime": {
     "end_time": "2024-09-10T13:35:36.205433Z",
     "start_time": "2024-09-10T13:35:33.424311Z"
    }
   },
   "id": "139e667c155b32e4",
   "execution_count": 10
  },
  {
   "cell_type": "code",
   "outputs": [
    {
     "data": {
      "text/plain": "<Figure size 1200x400 with 2 Axes>",
      "image/png": "[encoded data removed]"
     },
     "metadata": {},
     "output_type": "display_data"
    }
   ],
   "source": [
    "# Visualisation de l'historique d'entraînement\n",
    "history = model_info.history\n",
    "\n",
    "plt.figure(figsize=(12, 4))\n",
    "plt.subplot(1, 2, 1)\n",
    "plt.plot(history['accuracy'])\n",
    "plt.plot(history['val_accuracy'])\n",
    "plt.title('Model accuracy')\n",
    "plt.ylabel('Accuracy')\n",
    "plt.xlabel('Epoch')\n",
    "plt.legend(['Train', 'Validation'], loc='upper left')\n",
    "\n",
    "plt.subplot(1, 2, 2)\n",
    "plt.plot(history['loss'])\n",
    "plt.plot(history['val_loss'])\n",
    "plt.title('Model loss')\n",
    "plt.ylabel('Loss')\n",
    "plt.xlabel('Epoch')\n",
    "plt.legend(['Train', 'Validation'], loc='upper left')\n",
    "\n",
    "plt.show()"
   ],
   "metadata": {
    "collapsed": false,
    "ExecuteTime": {
     "end_time": "2024-09-10T13:35:36.851294Z",
     "start_time": "2024-09-10T13:35:36.207941Z"
    }
   },
   "id": "87242b49aa402af9",
   "execution_count": 11
  },
  {
   "cell_type": "code",
   "outputs": [
    {
     "name": "stdout",
     "output_type": "stream",
     "text": [
      "\u001B[1m7/7\u001B[0m \u001B[32m━━━━━━━━━━━━━━━━━━━━\u001B[0m\u001B[37m\u001B[0m \u001B[1m3s\u001B[0m 384ms/step\n",
      "Classification Report:\n",
      "                               precision    recall  f1-score   support\n",
      "\n",
      "          n02085620-Chihuahua       0.00      0.00      0.00        16\n",
      "   n02086646-Blenheim-spaniel       0.00      0.00      0.00        20\n",
      "             n02088364-beagle       0.00      0.00      0.00        20\n",
      " n02091467-Norwegian-elkhound       0.16      0.70      0.26        20\n",
      "             n02091831-Saluki       0.00      0.00      0.00        20\n",
      " n02099712-Labrador-retriever       0.00      0.00      0.00        18\n",
      "      n02109525-Saint-Bernard       0.00      0.00      0.00        18\n",
      "                n02110958-pug       0.00      0.00      0.00        20\n",
      "         n02112018-Pomeranian       0.14      0.65      0.23        23\n",
      "n02116738-African-hunting-dog       0.00      0.00      0.00        18\n",
      "\n",
      "                     accuracy                           0.15       193\n",
      "                    macro avg       0.03      0.14      0.05       193\n",
      "                 weighted avg       0.03      0.15      0.05       193\n"
     ]
    },
    {
     "name": "stderr",
     "output_type": "stream",
     "text": [
      "/Users/tom/anaconda3/lib/python3.11/site-packages/sklearn/metrics/_classification.py:1469: UndefinedMetricWarning: Precision and F-score are ill-defined and being set to 0.0 in labels with no predicted samples. Use `zero_division` parameter to control this behavior.\n",
      "  _warn_prf(average, modifier, msg_start, len(result))\n",
      "/Users/tom/anaconda3/lib/python3.11/site-packages/sklearn/metrics/_classification.py:1469: UndefinedMetricWarning: Precision and F-score are ill-defined and being set to 0.0 in labels with no predicted samples. Use `zero_division` parameter to control this behavior.\n",
      "  _warn_prf(average, modifier, msg_start, len(result))\n",
      "/Users/tom/anaconda3/lib/python3.11/site-packages/sklearn/metrics/_classification.py:1469: UndefinedMetricWarning: Precision and F-score are ill-defined and being set to 0.0 in labels with no predicted samples. Use `zero_division` parameter to control this behavior.\n",
      "  _warn_prf(average, modifier, msg_start, len(result))\n"
     ]
    },
    {
     "data": {
      "text/plain": "<Figure size 1000x800 with 2 Axes>",
      "image/png": "[encoded data removed]"
     },
     "metadata": {},
     "output_type": "display_data"
    }
   ],
   "source": [
    "# Classification report et confusion matrix\n",
    "y_pred = model.predict(test_generator)\n",
    "y_pred_classes = np.argmax(y_pred, axis=1)\n",
    "y_true = test_generator.classes\n",
    "\n",
    "print(\"Classification Report:\")\n",
    "print(classification_report(y_true, y_pred_classes, target_names=test_generator.class_indices.keys()))\n",
    "\n",
    "cm = confusion_matrix(y_true, y_pred_classes)\n",
    "plt.figure(figsize=(10, 8))\n",
    "sns.heatmap(cm, annot=True, fmt='d', cmap='Blues', xticklabels=test_generator.class_indices.keys(),\n",
    "            yticklabels=test_generator.class_indices.keys())\n",
    "plt.xlabel('Predicted')\n",
    "plt.ylabel('True')\n",
    "plt.title('Confusion Matrix')\n",
    "plt.show()"
   ],
   "metadata": {
    "collapsed": false,
    "ExecuteTime": {
     "end_time": "2024-09-10T13:35:40.536236Z",
     "start_time": "2024-09-10T13:35:36.856304Z"
    }
   },
   "id": "6730837c81647d66",
   "execution_count": 12
  },
  {
   "cell_type": "code",
   "outputs": [],
   "source": [
    "# Fonction de création du modèle à 3 couches\n",
    "def create_model_3_couches():\n",
    "    model = Sequential()\n",
    "    model.add(Conv2D(32, (3, 3), input_shape=(224, 224, 3)))\n",
    "    model.add(Activation('relu'))\n",
    "    model.add(MaxPooling2D(pool_size=(2, 2)))\n",
    "\n",
    "    model.add(Conv2D(32, (3, 3)))\n",
    "    model.add(Activation('relu'))\n",
    "    model.add(MaxPooling2D(pool_size=(2, 2)))\n",
    "\n",
    "    model.add(Conv2D(64, (3, 3)))\n",
    "    model.add(Activation('relu'))\n",
    "    model.add(MaxPooling2D(pool_size=(2, 2)))\n",
    "\n",
    "    model.add(Flatten())\n",
    "    model.add(Dense(64))\n",
    "    model.add(Activation('relu'))\n",
    "    model.add(Dropout(0.5))\n",
    "    model.add(Dense(10))  # 10 classes for 10 breeds\n",
    "    model.add(Activation('softmax'))\n",
    "\n",
    "    return model"
   ],
   "metadata": {
    "collapsed": false,
    "ExecuteTime": {
     "end_time": "2024-09-10T13:35:40.543564Z",
     "start_time": "2024-09-10T13:35:40.537642Z"
    }
   },
   "id": "e2d81a2c995935f4",
   "execution_count": 13
  },
  {
   "cell_type": "code",
   "outputs": [],
   "source": [
    "train_datagen = ImageDataGenerator(\n",
    "    rescale=1./255,\n",
    ")\n",
    "val_datagen = ImageDataGenerator(\n",
    "    rescale=1./255  # Normalize pixel values\n",
    ")\n",
    "test_datagen = ImageDataGenerator(\n",
    "    rescale=1./255  # Normalize pixel values\n",
    ")"
   ],
   "metadata": {
    "collapsed": false,
    "ExecuteTime": {
     "end_time": "2024-09-10T13:35:40.548549Z",
     "start_time": "2024-09-10T13:35:40.544783Z"
    }
   },
   "id": "466ffe86f4c24db8",
   "execution_count": 14
  },
  {
   "cell_type": "code",
   "outputs": [
    {
     "name": "stdout",
     "output_type": "stream",
     "text": [
      "Found 1298 images belonging to 10 classes.\n",
      "Found 369 images belonging to 10 classes.\n",
      "Found 193 images belonging to 10 classes.\n"
     ]
    }
   ],
   "source": [
    "# Chargement des données\n",
    "train_generator = train_datagen.flow_from_directory(\n",
    "    train_dir,\n",
    "    target_size=(224, 224),\n",
    "    batch_size=batch_size,\n",
    "    class_mode='categorical'\n",
    ")\n",
    "val_generator = val_datagen.flow_from_directory(\n",
    "    val_dir,\n",
    "    target_size=(224, 224),\n",
    "    batch_size=batch_size,\n",
    "    class_mode='categorical'\n",
    ")\n",
    "test_generator = test_datagen.flow_from_directory(\n",
    "    test_dir,\n",
    "    target_size=(224, 224),\n",
    "    batch_size=batch_size,\n",
    "    class_mode='categorical',\n",
    "    shuffle=False\n",
    ")"
   ],
   "metadata": {
    "collapsed": false,
    "ExecuteTime": {
     "end_time": "2024-09-10T13:35:40.664491Z",
     "start_time": "2024-09-10T13:35:40.550356Z"
    }
   },
   "id": "c4db280964be0c77",
   "execution_count": 15
  },
  {
   "cell_type": "code",
   "outputs": [
    {
     "data": {
      "text/plain": "<Experiment: artifact_location='mlflow-artifacts:/925267995700102517', creation_time=1717666661730, experiment_id='925267995700102517', last_update_time=1717666661730, lifecycle_stage='active', name='CNN', tags={}>"
     },
     "execution_count": 16,
     "metadata": {},
     "output_type": "execute_result"
    }
   ],
   "source": [
    "mlflow.set_tracking_uri(uri=\"http://127.0.0.1:8080\")\n",
    "# Define MLflow experiment name\n",
    "mlflow.set_experiment(\"CNN\")"
   ],
   "metadata": {
    "collapsed": false,
    "ExecuteTime": {
     "end_time": "2024-09-10T13:35:41.604813Z",
     "start_time": "2024-09-10T13:35:40.666193Z"
    }
   },
   "id": "660ceb561660f382",
   "execution_count": 16
  },
  {
   "cell_type": "code",
   "outputs": [],
   "source": [
    "# Fonction d'entraînement du modèle\n",
    "def train_model_3_couches(batch_size, epochs, learning_rate):\n",
    "    model = create_model_3_couches()\n",
    "    optimizer=SGD(learning_rate=learning_rate, momentum=0.9)\n",
    "    model.compile(loss='categorical_crossentropy', optimizer=optimizer, metrics=['accuracy'])\n",
    "\n",
    "    # Start MLFlow run\n",
    "    with mlflow.start_run():\n",
    "        mlflow.log_param(\"batch_size\", batch_size)\n",
    "        mlflow.log_param(\"epochs\", epochs)\n",
    "        mlflow.log_param(\"learning_rate\", learning_rate)\n",
    "\n",
    "        # Enregistrement du temps d'entraînement du modèle\n",
    "        start_time = time.time()\n",
    "        \n",
    "        history = model.fit(\n",
    "            train_generator,\n",
    "            batch_size=batch_size,\n",
    "            epochs=epochs,\n",
    "            validation_data=val_generator,\n",
    "            verbose = 2\n",
    "        )\n",
    "        \n",
    "        # Fin du temps d'entraînement du modèle\n",
    "        end_time = time.time()\n",
    "\n",
    "        # Calcul du temps écoulé\n",
    "        elapsed_time = end_time - start_time\n",
    "\n",
    "        val_accuracy = history.history['val_accuracy'][-1]\n",
    "        mlflow.log_metric(\"val_accuracy\", val_accuracy)\n",
    "\n",
    "        # Enregistrement du temps écoulé comme une métrique\n",
    "        mlflow.log_metric(\"training_time\", elapsed_time)\n",
    "\n",
    "        mlflow.keras.log_model(model, \"model\")\n",
    "        \n",
    "        # Evaluation du modèle sur le jeu de test\n",
    "        test_loss, test_acc = model.evaluate(test_generator)\n",
    "        print(f'Test accuracy: {test_acc}')\n",
    "\n",
    "        # Enregistrement de la précision sur le jeu de test\n",
    "        mlflow.log_metric(\"test_accuracy\", test_acc)"
   ],
   "metadata": {
    "collapsed": false,
    "ExecuteTime": {
     "end_time": "2024-09-10T13:35:41.613707Z",
     "start_time": "2024-09-10T13:35:41.606768Z"
    }
   },
   "id": "df77fa5a0562e656",
   "execution_count": 17
  },
  {
   "cell_type": "code",
   "outputs": [],
   "source": [
    "# Hyperparamètres\n",
    "batch_sizes = [16, 32]\n",
    "epochs_list = [10, 20]\n",
    "learning_rates = [0.001, 0.0001]"
   ],
   "metadata": {
    "collapsed": false,
    "ExecuteTime": {
     "end_time": "2024-09-10T13:35:41.617781Z",
     "start_time": "2024-09-10T13:35:41.615238Z"
    }
   },
   "id": "cc8cf27acef8614c",
   "execution_count": 18
  },
  {
   "cell_type": "code",
   "outputs": [
    {
     "name": "stderr",
     "output_type": "stream",
     "text": [
      "/Users/tom/anaconda3/lib/python3.11/site-packages/keras/src/layers/convolutional/base_conv.py:99: UserWarning: Do not pass an `input_shape`/`input_dim` argument to a layer. When using Sequential models, prefer using an `Input(shape)` object as the first layer in the model instead.\n",
      "  super().__init__(\n"
     ]
    },
    {
     "name": "stdout",
     "output_type": "stream",
     "text": [
      "Epoch 1/10\n"
     ]
    },
    {
     "name": "stderr",
     "output_type": "stream",
     "text": [
      "/Users/tom/anaconda3/lib/python3.11/site-packages/keras/src/trainers/data_adapters/py_dataset_adapter.py:120: UserWarning: Your `PyDataset` class should call `super().__init__(**kwargs)` in its constructor. `**kwargs` can include `workers`, `use_multiprocessing`, `max_queue_size`. Do not pass these arguments to `fit()`, as they will be ignored.\n",
      "  self._warn_if_super_not_called()\n"
     ]
    },
    {
     "name": "stdout",
     "output_type": "stream",
     "text": [
      "41/41 - 54s - 1s/step - accuracy: 0.1094 - loss: 2.3022 - val_accuracy: 0.1084 - val_loss: 2.2961\n",
      "Epoch 2/10\n",
      "41/41 - 53s - 1s/step - accuracy: 0.1009 - loss: 2.3010 - val_accuracy: 0.1220 - val_loss: 2.2980\n",
      "Epoch 3/10\n",
      "41/41 - 54s - 1s/step - accuracy: 0.0932 - loss: 2.3004 - val_accuracy: 0.1382 - val_loss: 2.2948\n",
      "Epoch 4/10\n",
      "41/41 - 52s - 1s/step - accuracy: 0.1171 - loss: 2.2976 - val_accuracy: 0.1220 - val_loss: 2.2934\n",
      "Epoch 5/10\n",
      "41/41 - 57s - 1s/step - accuracy: 0.1086 - loss: 2.2931 - val_accuracy: 0.1138 - val_loss: 2.2926\n",
      "Epoch 6/10\n",
      "41/41 - 56s - 1s/step - accuracy: 0.0978 - loss: 2.2928 - val_accuracy: 0.1057 - val_loss: 2.2884\n",
      "Epoch 7/10\n",
      "41/41 - 60s - 1s/step - accuracy: 0.1279 - loss: 2.2895 - val_accuracy: 0.1572 - val_loss: 2.2860\n",
      "Epoch 8/10\n",
      "41/41 - 60s - 1s/step - accuracy: 0.1256 - loss: 2.2893 - val_accuracy: 0.1436 - val_loss: 2.2865\n",
      "Epoch 9/10\n",
      "41/41 - 59s - 1s/step - accuracy: 0.1348 - loss: 2.2822 - val_accuracy: 0.1436 - val_loss: 2.2783\n",
      "Epoch 10/10\n",
      "41/41 - 61s - 1s/step - accuracy: 0.1217 - loss: 2.2839 - val_accuracy: 0.1518 - val_loss: 2.2770\n"
     ]
    },
    {
     "name": "stderr",
     "output_type": "stream",
     "text": [
      "2024/09/10 15:45:08 WARNING mlflow.tensorflow: You are saving a TensorFlow Core model or Keras model without a signature. Inference with mlflow.pyfunc.spark_udf() will not work unless the model's pyfunc representation accepts pandas DataFrames as inference inputs.\n",
      "/Users/tom/anaconda3/lib/python3.11/site-packages/_distutils_hack/__init__.py:33: UserWarning: Setuptools is replacing distutils.\n",
      "  warnings.warn(\"Setuptools is replacing distutils.\")\n"
     ]
    },
    {
     "name": "stdout",
     "output_type": "stream",
     "text": [
      "\u001B[1m7/7\u001B[0m \u001B[32m━━━━━━━━━━━━━━━━━━━━\u001B[0m\u001B[37m\u001B[0m \u001B[1m2s\u001B[0m 331ms/step - accuracy: 0.1561 - loss: 2.2899\n",
      "Test accuracy: 0.15025906264781952\n"
     ]
    },
    {
     "name": "stderr",
     "output_type": "stream",
     "text": [
      "/Users/tom/anaconda3/lib/python3.11/site-packages/keras/src/layers/convolutional/base_conv.py:99: UserWarning: Do not pass an `input_shape`/`input_dim` argument to a layer. When using Sequential models, prefer using an `Input(shape)` object as the first layer in the model instead.\n",
      "  super().__init__(\n"
     ]
    },
    {
     "name": "stdout",
     "output_type": "stream",
     "text": [
      "Epoch 1/10\n",
      "41/41 - 58s - 1s/step - accuracy: 0.1032 - loss: 2.3024 - val_accuracy: 0.0894 - val_loss: 2.2976\n",
      "Epoch 2/10\n",
      "41/41 - 71s - 2s/step - accuracy: 0.1063 - loss: 2.2978 - val_accuracy: 0.1220 - val_loss: 2.2964\n",
      "Epoch 3/10\n",
      "41/41 - 67s - 2s/step - accuracy: 0.1109 - loss: 2.2948 - val_accuracy: 0.1247 - val_loss: 2.2958\n",
      "Epoch 4/10\n",
      "41/41 - 60s - 1s/step - accuracy: 0.1109 - loss: 2.2973 - val_accuracy: 0.1192 - val_loss: 2.2947\n",
      "Epoch 5/10\n",
      "41/41 - 59s - 1s/step - accuracy: 0.1163 - loss: 2.2998 - val_accuracy: 0.1111 - val_loss: 2.2955\n",
      "Epoch 6/10\n",
      "41/41 - 48s - 1s/step - accuracy: 0.1040 - loss: 2.2996 - val_accuracy: 0.1220 - val_loss: 2.2958\n",
      "Epoch 7/10\n",
      "41/41 - 54s - 1s/step - accuracy: 0.1071 - loss: 2.2925 - val_accuracy: 0.1084 - val_loss: 2.2955\n",
      "Epoch 8/10\n",
      "41/41 - 71s - 2s/step - accuracy: 0.0971 - loss: 2.2989 - val_accuracy: 0.1057 - val_loss: 2.2942\n",
      "Epoch 9/10\n",
      "41/41 - 58s - 1s/step - accuracy: 0.1140 - loss: 2.2983 - val_accuracy: 0.1084 - val_loss: 2.2956\n",
      "Epoch 10/10\n",
      "41/41 - 57s - 1s/step - accuracy: 0.1140 - loss: 2.2959 - val_accuracy: 0.1111 - val_loss: 2.2929\n"
     ]
    },
    {
     "name": "stderr",
     "output_type": "stream",
     "text": [
      "2024/09/10 15:55:33 WARNING mlflow.tensorflow: You are saving a TensorFlow Core model or Keras model without a signature. Inference with mlflow.pyfunc.spark_udf() will not work unless the model's pyfunc representation accepts pandas DataFrames as inference inputs.\n"
     ]
    },
    {
     "name": "stdout",
     "output_type": "stream",
     "text": [
      "\u001B[1m7/7\u001B[0m \u001B[32m━━━━━━━━━━━━━━━━━━━━\u001B[0m\u001B[37m\u001B[0m \u001B[1m2s\u001B[0m 294ms/step - accuracy: 0.0546 - loss: 2.3123\n",
      "Test accuracy: 0.10362694412469864\n",
      "Epoch 1/20\n",
      "41/41 - 59s - 1s/step - accuracy: 0.1125 - loss: 2.3043 - val_accuracy: 0.1084 - val_loss: 2.2973\n",
      "Epoch 2/20\n",
      "41/41 - 57s - 1s/step - accuracy: 0.1279 - loss: 2.2961 - val_accuracy: 0.1057 - val_loss: 2.2968\n",
      "Epoch 3/20\n",
      "41/41 - 57s - 1s/step - accuracy: 0.0948 - loss: 2.2974 - val_accuracy: 0.1057 - val_loss: 2.2951\n",
      "Epoch 4/20\n",
      "41/41 - 58s - 1s/step - accuracy: 0.1032 - loss: 2.2958 - val_accuracy: 0.1057 - val_loss: 2.2950\n",
      "Epoch 5/20\n",
      "41/41 - 69s - 2s/step - accuracy: 0.1086 - loss: 2.2911 - val_accuracy: 0.1057 - val_loss: 2.2922\n",
      "Epoch 6/20\n",
      "41/41 - 60s - 1s/step - accuracy: 0.1217 - loss: 2.2926 - val_accuracy: 0.1409 - val_loss: 2.2931\n",
      "Epoch 7/20\n",
      "41/41 - 60s - 1s/step - accuracy: 0.1402 - loss: 2.2883 - val_accuracy: 0.1165 - val_loss: 2.2919\n",
      "Epoch 8/20\n",
      "41/41 - 59s - 1s/step - accuracy: 0.1156 - loss: 2.2895 - val_accuracy: 0.1165 - val_loss: 2.2868\n",
      "Epoch 9/20\n",
      "41/41 - 63s - 2s/step - accuracy: 0.1140 - loss: 2.2909 - val_accuracy: 0.1463 - val_loss: 2.2892\n",
      "Epoch 10/20\n",
      "41/41 - 59s - 1s/step - accuracy: 0.1156 - loss: 2.2908 - val_accuracy: 0.1328 - val_loss: 2.2897\n",
      "Epoch 11/20\n",
      "41/41 - 60s - 1s/step - accuracy: 0.1163 - loss: 2.2862 - val_accuracy: 0.1084 - val_loss: 2.2840\n",
      "Epoch 12/20\n",
      "41/41 - 60s - 1s/step - accuracy: 0.1194 - loss: 2.2902 - val_accuracy: 0.1382 - val_loss: 2.2781\n",
      "Epoch 13/20\n",
      "41/41 - 60s - 1s/step - accuracy: 0.1325 - loss: 2.2806 - val_accuracy: 0.1626 - val_loss: 2.2723\n",
      "Epoch 14/20\n",
      "41/41 - 60s - 1s/step - accuracy: 0.1587 - loss: 2.2747 - val_accuracy: 0.1572 - val_loss: 2.2658\n",
      "Epoch 15/20\n",
      "41/41 - 60s - 1s/step - accuracy: 0.1564 - loss: 2.2699 - val_accuracy: 0.1897 - val_loss: 2.2623\n",
      "Epoch 16/20\n",
      "41/41 - 60s - 1s/step - accuracy: 0.1549 - loss: 2.2681 - val_accuracy: 0.1978 - val_loss: 2.2568\n",
      "Epoch 17/20\n",
      "41/41 - 60s - 1s/step - accuracy: 0.1595 - loss: 2.2594 - val_accuracy: 0.2087 - val_loss: 2.2431\n",
      "Epoch 18/20\n",
      "41/41 - 62s - 2s/step - accuracy: 0.1641 - loss: 2.2597 - val_accuracy: 0.1382 - val_loss: 2.2743\n",
      "Epoch 19/20\n",
      "41/41 - 61s - 1s/step - accuracy: 0.1610 - loss: 2.2455 - val_accuracy: 0.2087 - val_loss: 2.2143\n",
      "Epoch 20/20\n",
      "41/41 - 60s - 1s/step - accuracy: 0.1841 - loss: 2.2244 - val_accuracy: 0.2087 - val_loss: 2.2140\n"
     ]
    },
    {
     "name": "stderr",
     "output_type": "stream",
     "text": [
      "2024/09/10 16:15:55 WARNING mlflow.tensorflow: You are saving a TensorFlow Core model or Keras model without a signature. Inference with mlflow.pyfunc.spark_udf() will not work unless the model's pyfunc representation accepts pandas DataFrames as inference inputs.\n"
     ]
    },
    {
     "name": "stdout",
     "output_type": "stream",
     "text": [
      "\u001B[1m7/7\u001B[0m \u001B[32m━━━━━━━━━━━━━━━━━━━━\u001B[0m\u001B[37m\u001B[0m \u001B[1m2s\u001B[0m 328ms/step - accuracy: 0.1110 - loss: 2.2964\n",
      "Test accuracy: 0.1865285038948059\n",
      "Epoch 1/20\n",
      "41/41 - 61s - 1s/step - accuracy: 0.1017 - loss: 2.3091 - val_accuracy: 0.1220 - val_loss: 2.2969\n",
      "Epoch 2/20\n",
      "41/41 - 60s - 1s/step - accuracy: 0.0978 - loss: 2.3015 - val_accuracy: 0.1301 - val_loss: 2.2962\n",
      "Epoch 3/20\n",
      "41/41 - 61s - 1s/step - accuracy: 0.1171 - loss: 2.2990 - val_accuracy: 0.1030 - val_loss: 2.2967\n",
      "Epoch 4/20\n",
      "41/41 - 60s - 1s/step - accuracy: 0.1071 - loss: 2.2998 - val_accuracy: 0.1111 - val_loss: 2.2979\n",
      "Epoch 5/20\n",
      "41/41 - 62s - 2s/step - accuracy: 0.1109 - loss: 2.2947 - val_accuracy: 0.1057 - val_loss: 2.2947\n",
      "Epoch 6/20\n",
      "41/41 - 61s - 1s/step - accuracy: 0.1055 - loss: 2.2982 - val_accuracy: 0.1192 - val_loss: 2.2941\n",
      "Epoch 7/20\n",
      "41/41 - 62s - 2s/step - accuracy: 0.1071 - loss: 2.2966 - val_accuracy: 0.1247 - val_loss: 2.2932\n",
      "Epoch 8/20\n",
      "41/41 - 61s - 1s/step - accuracy: 0.1063 - loss: 2.2959 - val_accuracy: 0.1165 - val_loss: 2.2945\n",
      "Epoch 9/20\n",
      "41/41 - 60s - 1s/step - accuracy: 0.1240 - loss: 2.2961 - val_accuracy: 0.1084 - val_loss: 2.2957\n",
      "Epoch 10/20\n",
      "41/41 - 61s - 1s/step - accuracy: 0.1133 - loss: 2.2961 - val_accuracy: 0.1057 - val_loss: 2.2946\n",
      "Epoch 11/20\n",
      "41/41 - 61s - 1s/step - accuracy: 0.1248 - loss: 2.2944 - val_accuracy: 0.1057 - val_loss: 2.2949\n",
      "Epoch 12/20\n",
      "41/41 - 61s - 1s/step - accuracy: 0.0886 - loss: 2.2988 - val_accuracy: 0.1057 - val_loss: 2.2947\n",
      "Epoch 13/20\n",
      "41/41 - 61s - 1s/step - accuracy: 0.0994 - loss: 2.3020 - val_accuracy: 0.1003 - val_loss: 2.2971\n",
      "Epoch 14/20\n",
      "41/41 - 61s - 1s/step - accuracy: 0.1156 - loss: 2.3004 - val_accuracy: 0.1003 - val_loss: 2.2935\n",
      "Epoch 15/20\n",
      "41/41 - 61s - 1s/step - accuracy: 0.1233 - loss: 2.2960 - val_accuracy: 0.1192 - val_loss: 2.2941\n",
      "Epoch 16/20\n",
      "41/41 - 69s - 2s/step - accuracy: 0.0994 - loss: 2.2965 - val_accuracy: 0.1057 - val_loss: 2.2956\n",
      "Epoch 17/20\n",
      "41/41 - 63s - 2s/step - accuracy: 0.1233 - loss: 2.2938 - val_accuracy: 0.0949 - val_loss: 2.2940\n",
      "Epoch 18/20\n",
      "41/41 - 61s - 1s/step - accuracy: 0.1009 - loss: 2.2977 - val_accuracy: 0.1084 - val_loss: 2.2961\n",
      "Epoch 19/20\n",
      "41/41 - 61s - 1s/step - accuracy: 0.1179 - loss: 2.2968 - val_accuracy: 0.1030 - val_loss: 2.2946\n",
      "Epoch 20/20\n",
      "41/41 - 60s - 1s/step - accuracy: 0.1055 - loss: 2.2987 - val_accuracy: 0.1165 - val_loss: 2.2953\n"
     ]
    },
    {
     "name": "stderr",
     "output_type": "stream",
     "text": [
      "2024/09/10 16:36:42 WARNING mlflow.tensorflow: You are saving a TensorFlow Core model or Keras model without a signature. Inference with mlflow.pyfunc.spark_udf() will not work unless the model's pyfunc representation accepts pandas DataFrames as inference inputs.\n"
     ]
    },
    {
     "name": "stdout",
     "output_type": "stream",
     "text": [
      "\u001B[1m7/7\u001B[0m \u001B[32m━━━━━━━━━━━━━━━━━━━━\u001B[0m\u001B[37m\u001B[0m \u001B[1m3s\u001B[0m 365ms/step - accuracy: 0.0763 - loss: 2.3036\n",
      "Test accuracy: 0.08808290213346481\n",
      "Epoch 1/10\n",
      "41/41 - 61s - 1s/step - accuracy: 0.1117 - loss: 2.3062 - val_accuracy: 0.1165 - val_loss: 2.2976\n",
      "Epoch 2/10\n",
      "41/41 - 59s - 1s/step - accuracy: 0.1032 - loss: 2.3014 - val_accuracy: 0.1084 - val_loss: 2.2983\n",
      "Epoch 3/10\n",
      "41/41 - 60s - 1s/step - accuracy: 0.1156 - loss: 2.3009 - val_accuracy: 0.1165 - val_loss: 2.2977\n",
      "Epoch 4/10\n",
      "41/41 - 59s - 1s/step - accuracy: 0.1171 - loss: 2.2980 - val_accuracy: 0.1165 - val_loss: 2.2969\n",
      "Epoch 5/10\n",
      "41/41 - 62s - 2s/step - accuracy: 0.1163 - loss: 2.2980 - val_accuracy: 0.1165 - val_loss: 2.2939\n",
      "Epoch 6/10\n",
      "41/41 - 60s - 1s/step - accuracy: 0.1117 - loss: 2.2987 - val_accuracy: 0.1165 - val_loss: 2.2961\n",
      "Epoch 7/10\n",
      "41/41 - 61s - 1s/step - accuracy: 0.1179 - loss: 2.2939 - val_accuracy: 0.1165 - val_loss: 2.2941\n",
      "Epoch 8/10\n",
      "41/41 - 59s - 1s/step - accuracy: 0.1109 - loss: 2.2971 - val_accuracy: 0.1165 - val_loss: 2.2953\n",
      "Epoch 9/10\n",
      "41/41 - 61s - 1s/step - accuracy: 0.0986 - loss: 2.2951 - val_accuracy: 0.1165 - val_loss: 2.2933\n",
      "Epoch 10/10\n",
      "41/41 - 59s - 1s/step - accuracy: 0.1086 - loss: 2.2942 - val_accuracy: 0.1165 - val_loss: 2.2924\n"
     ]
    },
    {
     "name": "stderr",
     "output_type": "stream",
     "text": [
      "2024/09/10 16:47:05 WARNING mlflow.tensorflow: You are saving a TensorFlow Core model or Keras model without a signature. Inference with mlflow.pyfunc.spark_udf() will not work unless the model's pyfunc representation accepts pandas DataFrames as inference inputs.\n"
     ]
    },
    {
     "name": "stdout",
     "output_type": "stream",
     "text": [
      "\u001B[1m7/7\u001B[0m \u001B[32m━━━━━━━━━━━━━━━━━━━━\u001B[0m\u001B[37m\u001B[0m \u001B[1m2s\u001B[0m 331ms/step - accuracy: 0.0510 - loss: 2.3112\n",
      "Test accuracy: 0.11917098611593246\n",
      "Epoch 1/10\n",
      "41/41 - 61s - 1s/step - accuracy: 0.1048 - loss: 2.3076 - val_accuracy: 0.1220 - val_loss: 2.2986\n",
      "Epoch 2/10\n",
      "41/41 - 61s - 1s/step - accuracy: 0.0971 - loss: 2.3000 - val_accuracy: 0.1111 - val_loss: 2.2958\n",
      "Epoch 3/10\n",
      "41/41 - 60s - 1s/step - accuracy: 0.0994 - loss: 2.2986 - val_accuracy: 0.0949 - val_loss: 2.2957\n",
      "Epoch 4/10\n",
      "41/41 - 60s - 1s/step - accuracy: 0.1133 - loss: 2.2969 - val_accuracy: 0.0976 - val_loss: 2.2931\n",
      "Epoch 5/10\n",
      "41/41 - 60s - 1s/step - accuracy: 0.1140 - loss: 2.2917 - val_accuracy: 0.1328 - val_loss: 2.2924\n",
      "Epoch 6/10\n",
      "41/41 - 60s - 1s/step - accuracy: 0.0963 - loss: 2.2986 - val_accuracy: 0.1192 - val_loss: 2.2931\n",
      "Epoch 7/10\n",
      "41/41 - 60s - 1s/step - accuracy: 0.1071 - loss: 2.2965 - val_accuracy: 0.1138 - val_loss: 2.2938\n",
      "Epoch 8/10\n",
      "41/41 - 60s - 1s/step - accuracy: 0.1055 - loss: 2.2948 - val_accuracy: 0.1328 - val_loss: 2.2926\n",
      "Epoch 9/10\n",
      "41/41 - 60s - 1s/step - accuracy: 0.1210 - loss: 2.2955 - val_accuracy: 0.1057 - val_loss: 2.2944\n",
      "Epoch 10/10\n",
      "41/41 - 60s - 1s/step - accuracy: 0.1048 - loss: 2.2942 - val_accuracy: 0.1165 - val_loss: 2.2916\n"
     ]
    },
    {
     "name": "stderr",
     "output_type": "stream",
     "text": [
      "2024/09/10 16:57:26 WARNING mlflow.tensorflow: You are saving a TensorFlow Core model or Keras model without a signature. Inference with mlflow.pyfunc.spark_udf() will not work unless the model's pyfunc representation accepts pandas DataFrames as inference inputs.\n"
     ]
    },
    {
     "name": "stdout",
     "output_type": "stream",
     "text": [
      "\u001B[1m7/7\u001B[0m \u001B[32m━━━━━━━━━━━━━━━━━━━━\u001B[0m\u001B[37m\u001B[0m \u001B[1m2s\u001B[0m 323ms/step - accuracy: 0.0491 - loss: 2.3088\n",
      "Test accuracy: 0.11398963630199432\n",
      "Epoch 1/20\n",
      "41/41 - 60s - 1s/step - accuracy: 0.0955 - loss: 2.3117 - val_accuracy: 0.1084 - val_loss: 2.2993\n",
      "Epoch 2/20\n",
      "41/41 - 61s - 1s/step - accuracy: 0.0994 - loss: 2.3033 - val_accuracy: 0.1084 - val_loss: 2.3003\n",
      "Epoch 3/20\n",
      "41/41 - 58s - 1s/step - accuracy: 0.1025 - loss: 2.3028 - val_accuracy: 0.1165 - val_loss: 2.3008\n",
      "Epoch 4/20\n",
      "41/41 - 59s - 1s/step - accuracy: 0.1048 - loss: 2.3017 - val_accuracy: 0.1084 - val_loss: 2.2998\n",
      "Epoch 5/20\n",
      "41/41 - 59s - 1s/step - accuracy: 0.1156 - loss: 2.3015 - val_accuracy: 0.1138 - val_loss: 2.3004\n",
      "Epoch 6/20\n",
      "41/41 - 59s - 1s/step - accuracy: 0.1186 - loss: 2.3007 - val_accuracy: 0.1057 - val_loss: 2.3003\n",
      "Epoch 7/20\n",
      "41/41 - 59s - 1s/step - accuracy: 0.1117 - loss: 2.2996 - val_accuracy: 0.1084 - val_loss: 2.2988\n",
      "Epoch 8/20\n",
      "41/41 - 59s - 1s/step - accuracy: 0.1086 - loss: 2.3003 - val_accuracy: 0.1220 - val_loss: 2.2985\n",
      "Epoch 9/20\n",
      "41/41 - 59s - 1s/step - accuracy: 0.1287 - loss: 2.2980 - val_accuracy: 0.1030 - val_loss: 2.2980\n",
      "Epoch 10/20\n",
      "41/41 - 61s - 1s/step - accuracy: 0.1210 - loss: 2.2990 - val_accuracy: 0.1138 - val_loss: 2.2969\n",
      "Epoch 11/20\n",
      "41/41 - 60s - 1s/step - accuracy: 0.1171 - loss: 2.2985 - val_accuracy: 0.1192 - val_loss: 2.2967\n",
      "Epoch 12/20\n",
      "41/41 - 60s - 1s/step - accuracy: 0.1125 - loss: 2.2978 - val_accuracy: 0.1165 - val_loss: 2.2975\n",
      "Epoch 13/20\n",
      "41/41 - 59s - 1s/step - accuracy: 0.1102 - loss: 2.2981 - val_accuracy: 0.1165 - val_loss: 2.2963\n",
      "Epoch 14/20\n",
      "41/41 - 60s - 1s/step - accuracy: 0.1133 - loss: 2.2989 - val_accuracy: 0.1165 - val_loss: 2.2967\n",
      "Epoch 15/20\n",
      "41/41 - 60s - 1s/step - accuracy: 0.1287 - loss: 2.2959 - val_accuracy: 0.1220 - val_loss: 2.2945\n",
      "Epoch 16/20\n",
      "41/41 - 59s - 1s/step - accuracy: 0.1341 - loss: 2.2963 - val_accuracy: 0.1301 - val_loss: 2.2963\n",
      "Epoch 17/20\n",
      "41/41 - 60s - 1s/step - accuracy: 0.1287 - loss: 2.2962 - val_accuracy: 0.1165 - val_loss: 2.2937\n",
      "Epoch 18/20\n",
      "41/41 - 60s - 1s/step - accuracy: 0.1225 - loss: 2.2962 - val_accuracy: 0.1165 - val_loss: 2.2945\n",
      "Epoch 19/20\n",
      "41/41 - 60s - 1s/step - accuracy: 0.1217 - loss: 2.2936 - val_accuracy: 0.1192 - val_loss: 2.2906\n",
      "Epoch 20/20\n",
      "41/41 - 60s - 1s/step - accuracy: 0.1348 - loss: 2.2919 - val_accuracy: 0.1409 - val_loss: 2.2896\n"
     ]
    },
    {
     "name": "stderr",
     "output_type": "stream",
     "text": [
      "2024/09/10 17:17:36 WARNING mlflow.tensorflow: You are saving a TensorFlow Core model or Keras model without a signature. Inference with mlflow.pyfunc.spark_udf() will not work unless the model's pyfunc representation accepts pandas DataFrames as inference inputs.\n"
     ]
    },
    {
     "name": "stdout",
     "output_type": "stream",
     "text": [
      "\u001B[1m7/7\u001B[0m \u001B[32m━━━━━━━━━━━━━━━━━━━━\u001B[0m\u001B[37m\u001B[0m \u001B[1m3s\u001B[0m 333ms/step - accuracy: 0.1206 - loss: 2.3079\n",
      "Test accuracy: 0.15544041991233826\n",
      "Epoch 1/20\n",
      "41/41 - 59s - 1s/step - accuracy: 0.1025 - loss: 2.3094 - val_accuracy: 0.1003 - val_loss: 2.2979\n",
      "Epoch 2/20\n",
      "41/41 - 61s - 1s/step - accuracy: 0.1117 - loss: 2.3008 - val_accuracy: 0.1192 - val_loss: 2.2955\n",
      "Epoch 3/20\n",
      "41/41 - 59s - 1s/step - accuracy: 0.1117 - loss: 2.2979 - val_accuracy: 0.1192 - val_loss: 2.2933\n",
      "Epoch 4/20\n",
      "41/41 - 60s - 1s/step - accuracy: 0.1163 - loss: 2.2997 - val_accuracy: 0.1111 - val_loss: 2.2967\n",
      "Epoch 5/20\n",
      "41/41 - 59s - 1s/step - accuracy: 0.1163 - loss: 2.2982 - val_accuracy: 0.1138 - val_loss: 2.2951\n",
      "Epoch 6/20\n",
      "41/41 - 61s - 1s/step - accuracy: 0.1055 - loss: 2.2958 - val_accuracy: 0.0921 - val_loss: 2.2951\n",
      "Epoch 7/20\n",
      "41/41 - 59s - 1s/step - accuracy: 0.1163 - loss: 2.2985 - val_accuracy: 0.1192 - val_loss: 2.2950\n",
      "Epoch 8/20\n",
      "41/41 - 62s - 2s/step - accuracy: 0.1186 - loss: 2.2957 - val_accuracy: 0.1057 - val_loss: 2.2946\n",
      "Epoch 9/20\n",
      "41/41 - 60s - 1s/step - accuracy: 0.1086 - loss: 2.2981 - val_accuracy: 0.1111 - val_loss: 2.2939\n",
      "Epoch 10/20\n",
      "41/41 - 61s - 1s/step - accuracy: 0.1163 - loss: 2.2973 - val_accuracy: 0.1057 - val_loss: 2.2951\n",
      "Epoch 11/20\n",
      "41/41 - 60s - 1s/step - accuracy: 0.1140 - loss: 2.2984 - val_accuracy: 0.1030 - val_loss: 2.2938\n",
      "Epoch 12/20\n",
      "41/41 - 61s - 1s/step - accuracy: 0.1117 - loss: 2.2946 - val_accuracy: 0.1165 - val_loss: 2.2934\n",
      "Epoch 13/20\n",
      "41/41 - 59s - 1s/step - accuracy: 0.1117 - loss: 2.2967 - val_accuracy: 0.1084 - val_loss: 2.2939\n",
      "Epoch 14/20\n",
      "41/41 - 61s - 1s/step - accuracy: 0.1210 - loss: 2.2924 - val_accuracy: 0.1138 - val_loss: 2.2918\n",
      "Epoch 15/20\n",
      "41/41 - 60s - 1s/step - accuracy: 0.1156 - loss: 2.2969 - val_accuracy: 0.1165 - val_loss: 2.2952\n",
      "Epoch 16/20\n",
      "41/41 - 61s - 1s/step - accuracy: 0.1109 - loss: 2.2931 - val_accuracy: 0.1138 - val_loss: 2.2916\n",
      "Epoch 17/20\n",
      "41/41 - 61s - 1s/step - accuracy: 0.1017 - loss: 2.2961 - val_accuracy: 0.1084 - val_loss: 2.2926\n",
      "Epoch 18/20\n",
      "41/41 - 63s - 2s/step - accuracy: 0.1102 - loss: 2.2926 - val_accuracy: 0.1084 - val_loss: 2.2922\n",
      "Epoch 19/20\n",
      "41/41 - 61s - 1s/step - accuracy: 0.1163 - loss: 2.2967 - val_accuracy: 0.1084 - val_loss: 2.2931\n",
      "Epoch 20/20\n",
      "41/41 - 62s - 2s/step - accuracy: 0.1156 - loss: 2.2918 - val_accuracy: 0.1084 - val_loss: 2.2923\n"
     ]
    },
    {
     "name": "stderr",
     "output_type": "stream",
     "text": [
      "2024/09/10 17:38:06 WARNING mlflow.tensorflow: You are saving a TensorFlow Core model or Keras model without a signature. Inference with mlflow.pyfunc.spark_udf() will not work unless the model's pyfunc representation accepts pandas DataFrames as inference inputs.\n"
     ]
    },
    {
     "name": "stdout",
     "output_type": "stream",
     "text": [
      "\u001B[1m7/7\u001B[0m \u001B[32m━━━━━━━━━━━━━━━━━━━━\u001B[0m\u001B[37m\u001B[0m \u001B[1m2s\u001B[0m 333ms/step - accuracy: 0.0546 - loss: 2.3145\n",
      "Test accuracy: 0.10362694412469864\n"
     ]
    }
   ],
   "source": [
    "# Sans data augmentation\n",
    "# Entraînement de modèles à 3 couches avec différentes combinaisons d'hyperparamètres\n",
    "for batch_size in batch_sizes:\n",
    "    for epochs in epochs_list:\n",
    "        for learning_rate in learning_rates:\n",
    "            train_model_3_couches(batch_size, epochs, learning_rate)"
   ],
   "metadata": {
    "collapsed": false,
    "ExecuteTime": {
     "end_time": "2024-09-10T15:38:25.336402Z",
     "start_time": "2024-09-10T13:35:41.618950Z"
    }
   },
   "id": "b28e2cfaa9212a56",
   "execution_count": 19
  },
  {
   "cell_type": "code",
   "outputs": [],
   "source": [
    "# Modèle à plus de couches\n",
    "def create_model_5_couches():\n",
    "    model = Sequential()\n",
    "    model.add(Conv2D(32, (3, 3), input_shape=(224, 224, 3)))\n",
    "    model.add(Activation('relu'))\n",
    "    model.add(MaxPooling2D(pool_size=(2, 2)))\n",
    "    \n",
    "    model.add(Conv2D(32, (3, 3)))\n",
    "    model.add(Activation('relu'))\n",
    "    model.add(MaxPooling2D(pool_size=(2, 2)))\n",
    "    \n",
    "    model.add(Conv2D(64, (3, 3)))\n",
    "    model.add(Activation('relu'))\n",
    "    model.add(MaxPooling2D(pool_size=(2, 2)))\n",
    "    \n",
    "    model.add(Conv2D(64, (3, 3)))\n",
    "    model.add(Activation('relu'))\n",
    "    model.add(MaxPooling2D(pool_size=(2, 2)))\n",
    "    \n",
    "    model.add(Conv2D(64, (3, 3)))\n",
    "    model.add(Activation('relu'))\n",
    "    \n",
    "    model.add(Flatten())\n",
    "    model.add(Dense(64))\n",
    "    model.add(Activation('relu'))\n",
    "    model.add(Dropout(0.5))\n",
    "    model.add(Dense(10))\n",
    "    model.add(Activation('softmax'))\n",
    "\n",
    "    return model"
   ],
   "metadata": {
    "collapsed": false,
    "ExecuteTime": {
     "end_time": "2024-09-10T15:38:25.351047Z",
     "start_time": "2024-09-10T15:38:25.340890Z"
    }
   },
   "id": "d4b4344594c42934",
   "execution_count": 20
  },
  {
   "cell_type": "code",
   "outputs": [],
   "source": [
    "# Fonction d'entraînement du modèle à plus de couches\n",
    "def train_model_5_couches(batch_size, epochs, learning_rate):\n",
    "    model = create_model_5_couches()\n",
    "    optimizer=SGD(learning_rate=learning_rate, momentum=0.9)\n",
    "    model.compile(loss='categorical_crossentropy', optimizer=optimizer, metrics=['accuracy'])\n",
    "\n",
    "    # Start MLFlow run\n",
    "    with mlflow.start_run():\n",
    "        mlflow.log_param(\"batch_size\", batch_size)\n",
    "        mlflow.log_param(\"epochs\", epochs)\n",
    "        mlflow.log_param(\"learning_rate\", learning_rate)\n",
    "        \n",
    "        # Enregistrement du temps d'entraînement du modèle\n",
    "        start_time = time.time()\n",
    "        \n",
    "        history = model.fit(\n",
    "            train_generator,\n",
    "            batch_size=batch_size,\n",
    "            epochs=epochs,\n",
    "            validation_data=val_generator,\n",
    "            verbose = 2\n",
    "        )\n",
    "        \n",
    "        # Fin du temps d'entraînement du modèle\n",
    "        end_time = time.time()\n",
    "\n",
    "        # Calcul du temps écoulé\n",
    "        elapsed_time = end_time - start_time\n",
    "\n",
    "        # Enregistrement du temps écoulé comme une métrique\n",
    "        mlflow.log_metric(\"training_time\", elapsed_time)\n",
    "        \n",
    "        val_accuracy = history.history['val_accuracy'][-1]\n",
    "        mlflow.log_metric(\"val_accuracy\", val_accuracy)\n",
    "\n",
    "        mlflow.keras.log_model(model, \"model\")\n",
    "\n",
    "        # Evaluation du modèle sur le jeu de test\n",
    "        test_loss, test_acc = model.evaluate(test_generator)\n",
    "        print(f'Test accuracy: {test_acc}')\n",
    "\n",
    "        # Enregistrement de la précision sur le jeu de test\n",
    "        mlflow.log_metric(\"test_accuracy\", test_acc)"
   ],
   "metadata": {
    "collapsed": false,
    "ExecuteTime": {
     "end_time": "2024-09-10T15:38:25.360410Z",
     "start_time": "2024-09-10T15:38:25.353017Z"
    }
   },
   "id": "1d00fef27970407",
   "execution_count": 21
  },
  {
   "cell_type": "code",
   "outputs": [
    {
     "name": "stdout",
     "output_type": "stream",
     "text": [
      "Epoch 1/10\n",
      "41/41 - 65s - 2s/step - accuracy: 0.0994 - loss: 2.3034 - val_accuracy: 0.1084 - val_loss: 2.3016\n",
      "Epoch 2/10\n",
      "41/41 - 64s - 2s/step - accuracy: 0.1156 - loss: 2.3007 - val_accuracy: 0.1084 - val_loss: 2.3004\n",
      "Epoch 3/10\n",
      "41/41 - 65s - 2s/step - accuracy: 0.1140 - loss: 2.3009 - val_accuracy: 0.1084 - val_loss: 2.2989\n",
      "Epoch 4/10\n",
      "41/41 - 65s - 2s/step - accuracy: 0.1117 - loss: 2.2999 - val_accuracy: 0.0949 - val_loss: 2.2990\n",
      "Epoch 5/10\n",
      "41/41 - 64s - 2s/step - accuracy: 0.1233 - loss: 2.2971 - val_accuracy: 0.1084 - val_loss: 2.2967\n",
      "Epoch 6/10\n",
      "41/41 - 64s - 2s/step - accuracy: 0.1063 - loss: 2.2982 - val_accuracy: 0.1057 - val_loss: 2.2970\n",
      "Epoch 7/10\n",
      "41/41 - 64s - 2s/step - accuracy: 0.1094 - loss: 2.2951 - val_accuracy: 0.1030 - val_loss: 2.2947\n",
      "Epoch 8/10\n",
      "41/41 - 65s - 2s/step - accuracy: 0.1133 - loss: 2.2962 - val_accuracy: 0.1328 - val_loss: 2.2953\n",
      "Epoch 9/10\n",
      "41/41 - 64s - 2s/step - accuracy: 0.1148 - loss: 2.2952 - val_accuracy: 0.1491 - val_loss: 2.2943\n",
      "Epoch 10/10\n",
      "41/41 - 64s - 2s/step - accuracy: 0.1171 - loss: 2.2959 - val_accuracy: 0.1491 - val_loss: 2.2950\n"
     ]
    },
    {
     "name": "stderr",
     "output_type": "stream",
     "text": [
      "2024/09/10 17:49:08 WARNING mlflow.tensorflow: You are saving a TensorFlow Core model or Keras model without a signature. Inference with mlflow.pyfunc.spark_udf() will not work unless the model's pyfunc representation accepts pandas DataFrames as inference inputs.\n"
     ]
    },
    {
     "name": "stdout",
     "output_type": "stream",
     "text": [
      "\u001B[1m7/7\u001B[0m \u001B[32m━━━━━━━━━━━━━━━━━━━━\u001B[0m\u001B[37m\u001B[0m \u001B[1m3s\u001B[0m 409ms/step - accuracy: 0.1186 - loss: 2.3065\n",
      "Test accuracy: 0.13989637792110443\n",
      "Epoch 1/10\n",
      "41/41 - 65s - 2s/step - accuracy: 0.0832 - loss: 2.3037 - val_accuracy: 0.0949 - val_loss: 2.3030\n",
      "Epoch 2/10\n",
      "41/41 - 64s - 2s/step - accuracy: 0.0917 - loss: 2.3030 - val_accuracy: 0.0894 - val_loss: 2.3029\n",
      "Epoch 3/10\n",
      "41/41 - 64s - 2s/step - accuracy: 0.0978 - loss: 2.3030 - val_accuracy: 0.0949 - val_loss: 2.3026\n",
      "Epoch 4/10\n",
      "41/41 - 63s - 2s/step - accuracy: 0.1009 - loss: 2.3024 - val_accuracy: 0.1138 - val_loss: 2.3023\n",
      "Epoch 5/10\n",
      "41/41 - 64s - 2s/step - accuracy: 0.1032 - loss: 2.3027 - val_accuracy: 0.1192 - val_loss: 2.3023\n",
      "Epoch 6/10\n",
      "41/41 - 63s - 2s/step - accuracy: 0.1040 - loss: 2.3021 - val_accuracy: 0.1247 - val_loss: 2.3020\n",
      "Epoch 7/10\n",
      "41/41 - 64s - 2s/step - accuracy: 0.1025 - loss: 2.3025 - val_accuracy: 0.1192 - val_loss: 2.3018\n",
      "Epoch 8/10\n",
      "41/41 - 64s - 2s/step - accuracy: 0.1179 - loss: 2.3021 - val_accuracy: 0.1192 - val_loss: 2.3019\n",
      "Epoch 9/10\n",
      "41/41 - 65s - 2s/step - accuracy: 0.1210 - loss: 2.3015 - val_accuracy: 0.1165 - val_loss: 2.3014\n",
      "Epoch 10/10\n",
      "41/41 - 78s - 2s/step - accuracy: 0.1210 - loss: 2.3008 - val_accuracy: 0.1165 - val_loss: 2.3015\n"
     ]
    },
    {
     "name": "stderr",
     "output_type": "stream",
     "text": [
      "2024/09/10 18:00:21 WARNING mlflow.tensorflow: You are saving a TensorFlow Core model or Keras model without a signature. Inference with mlflow.pyfunc.spark_udf() will not work unless the model's pyfunc representation accepts pandas DataFrames as inference inputs.\n"
     ]
    },
    {
     "name": "stdout",
     "output_type": "stream",
     "text": [
      "\u001B[1m7/7\u001B[0m \u001B[32m━━━━━━━━━━━━━━━━━━━━\u001B[0m\u001B[37m\u001B[0m \u001B[1m3s\u001B[0m 414ms/step - accuracy: 0.0510 - loss: 2.3029\n",
      "Test accuracy: 0.11917098611593246\n",
      "Epoch 1/20\n",
      "41/41 - 83s - 2s/step - accuracy: 0.0940 - loss: 2.3074 - val_accuracy: 0.1057 - val_loss: 2.2988\n",
      "Epoch 2/20\n",
      "41/41 - 78s - 2s/step - accuracy: 0.1233 - loss: 2.2994 - val_accuracy: 0.1165 - val_loss: 2.2976\n",
      "Epoch 3/20\n",
      "41/41 - 70s - 2s/step - accuracy: 0.1171 - loss: 2.2992 - val_accuracy: 0.1165 - val_loss: 2.2951\n",
      "Epoch 4/20\n",
      "41/41 - 71s - 2s/step - accuracy: 0.1009 - loss: 2.2981 - val_accuracy: 0.1247 - val_loss: 2.2949\n",
      "Epoch 5/20\n",
      "41/41 - 70s - 2s/step - accuracy: 0.1210 - loss: 2.2972 - val_accuracy: 0.1220 - val_loss: 2.2932\n",
      "Epoch 6/20\n",
      "41/41 - 69s - 2s/step - accuracy: 0.1202 - loss: 2.2960 - val_accuracy: 0.1491 - val_loss: 2.2936\n",
      "Epoch 7/20\n",
      "41/41 - 86s - 2s/step - accuracy: 0.1225 - loss: 2.2936 - val_accuracy: 0.1057 - val_loss: 2.2912\n",
      "Epoch 8/20\n",
      "41/41 - 57s - 1s/step - accuracy: 0.1179 - loss: 2.2950 - val_accuracy: 0.1382 - val_loss: 2.2908\n",
      "Epoch 9/20\n",
      "41/41 - 59s - 1s/step - accuracy: 0.1425 - loss: 2.2941 - val_accuracy: 0.1382 - val_loss: 2.2901\n",
      "Epoch 10/20\n",
      "41/41 - 57s - 1s/step - accuracy: 0.1325 - loss: 2.2913 - val_accuracy: 0.1328 - val_loss: 2.2889\n",
      "Epoch 11/20\n",
      "41/41 - 57s - 1s/step - accuracy: 0.1163 - loss: 2.2919 - val_accuracy: 0.1545 - val_loss: 2.2891\n",
      "Epoch 12/20\n",
      "41/41 - 57s - 1s/step - accuracy: 0.1302 - loss: 2.2912 - val_accuracy: 0.1409 - val_loss: 2.2859\n",
      "Epoch 13/20\n",
      "41/41 - 57s - 1s/step - accuracy: 0.1394 - loss: 2.2856 - val_accuracy: 0.1409 - val_loss: 2.2826\n",
      "Epoch 14/20\n",
      "41/41 - 58s - 1s/step - accuracy: 0.1240 - loss: 2.2832 - val_accuracy: 0.1409 - val_loss: 2.2813\n",
      "Epoch 15/20\n",
      "41/41 - 57s - 1s/step - accuracy: 0.1279 - loss: 2.2811 - val_accuracy: 0.1545 - val_loss: 2.2762\n",
      "Epoch 16/20\n",
      "41/41 - 69s - 2s/step - accuracy: 0.1479 - loss: 2.2805 - val_accuracy: 0.1382 - val_loss: 2.2730\n",
      "Epoch 17/20\n",
      "41/41 - 61s - 1s/step - accuracy: 0.1394 - loss: 2.2748 - val_accuracy: 0.1382 - val_loss: 2.2675\n",
      "Epoch 18/20\n",
      "41/41 - 72s - 2s/step - accuracy: 0.1464 - loss: 2.2741 - val_accuracy: 0.1653 - val_loss: 2.2617\n",
      "Epoch 19/20\n",
      "41/41 - 73s - 2s/step - accuracy: 0.1541 - loss: 2.2706 - val_accuracy: 0.1491 - val_loss: 2.2557\n",
      "Epoch 20/20\n",
      "41/41 - 60s - 1s/step - accuracy: 0.1448 - loss: 2.2642 - val_accuracy: 0.1436 - val_loss: 2.2526\n"
     ]
    },
    {
     "name": "stderr",
     "output_type": "stream",
     "text": [
      "2024/09/10 18:22:57 WARNING mlflow.tensorflow: You are saving a TensorFlow Core model or Keras model without a signature. Inference with mlflow.pyfunc.spark_udf() will not work unless the model's pyfunc representation accepts pandas DataFrames as inference inputs.\n"
     ]
    },
    {
     "name": "stdout",
     "output_type": "stream",
     "text": [
      "\u001B[1m7/7\u001B[0m \u001B[32m━━━━━━━━━━━━━━━━━━━━\u001B[0m\u001B[37m\u001B[0m \u001B[1m2s\u001B[0m 268ms/step - accuracy: 0.1023 - loss: 2.2777\n",
      "Test accuracy: 0.1606217622756958\n",
      "Epoch 1/20\n",
      "41/41 - 71s - 2s/step - accuracy: 0.0986 - loss: 2.3029 - val_accuracy: 0.1057 - val_loss: 2.3022\n",
      "Epoch 2/20\n",
      "41/41 - 60s - 1s/step - accuracy: 0.0971 - loss: 2.3035 - val_accuracy: 0.1057 - val_loss: 2.3009\n",
      "Epoch 3/20\n",
      "41/41 - 61s - 1s/step - accuracy: 0.1133 - loss: 2.3007 - val_accuracy: 0.1084 - val_loss: 2.3006\n",
      "Epoch 4/20\n",
      "41/41 - 62s - 2s/step - accuracy: 0.0994 - loss: 2.3024 - val_accuracy: 0.1084 - val_loss: 2.3002\n",
      "Epoch 5/20\n",
      "41/41 - 61s - 1s/step - accuracy: 0.1117 - loss: 2.3002 - val_accuracy: 0.1138 - val_loss: 2.3001\n",
      "Epoch 6/20\n",
      "41/41 - 61s - 1s/step - accuracy: 0.1063 - loss: 2.3009 - val_accuracy: 0.1057 - val_loss: 2.2988\n",
      "Epoch 7/20\n",
      "41/41 - 60s - 1s/step - accuracy: 0.1117 - loss: 2.2991 - val_accuracy: 0.1057 - val_loss: 2.2988\n",
      "Epoch 8/20\n",
      "41/41 - 61s - 1s/step - accuracy: 0.1133 - loss: 2.2989 - val_accuracy: 0.1030 - val_loss: 2.2985\n",
      "Epoch 9/20\n",
      "41/41 - 61s - 1s/step - accuracy: 0.1225 - loss: 2.2991 - val_accuracy: 0.1030 - val_loss: 2.2979\n",
      "Epoch 10/20\n",
      "41/41 - 61s - 1s/step - accuracy: 0.1148 - loss: 2.2989 - val_accuracy: 0.1057 - val_loss: 2.2977\n",
      "Epoch 11/20\n",
      "41/41 - 61s - 1s/step - accuracy: 0.1048 - loss: 2.2989 - val_accuracy: 0.1084 - val_loss: 2.2975\n",
      "Epoch 12/20\n",
      "41/41 - 61s - 1s/step - accuracy: 0.1171 - loss: 2.2977 - val_accuracy: 0.1084 - val_loss: 2.2973\n",
      "Epoch 13/20\n",
      "41/41 - 61s - 1s/step - accuracy: 0.1109 - loss: 2.2974 - val_accuracy: 0.1084 - val_loss: 2.2980\n",
      "Epoch 14/20\n",
      "41/41 - 62s - 2s/step - accuracy: 0.1194 - loss: 2.2961 - val_accuracy: 0.1084 - val_loss: 2.2970\n",
      "Epoch 15/20\n",
      "41/41 - 61s - 1s/step - accuracy: 0.1156 - loss: 2.2970 - val_accuracy: 0.1084 - val_loss: 2.2966\n",
      "Epoch 16/20\n",
      "41/41 - 61s - 1s/step - accuracy: 0.1017 - loss: 2.2993 - val_accuracy: 0.1057 - val_loss: 2.2971\n",
      "Epoch 17/20\n",
      "41/41 - 61s - 1s/step - accuracy: 0.1217 - loss: 2.2953 - val_accuracy: 0.1057 - val_loss: 2.2968\n",
      "Epoch 18/20\n",
      "41/41 - 62s - 2s/step - accuracy: 0.1063 - loss: 2.2988 - val_accuracy: 0.1057 - val_loss: 2.2970\n",
      "Epoch 19/20\n",
      "41/41 - 62s - 2s/step - accuracy: 0.1048 - loss: 2.2964 - val_accuracy: 0.1057 - val_loss: 2.2963\n",
      "Epoch 20/20\n",
      "41/41 - 62s - 2s/step - accuracy: 0.1086 - loss: 2.2974 - val_accuracy: 0.1057 - val_loss: 2.2974\n"
     ]
    },
    {
     "name": "stderr",
     "output_type": "stream",
     "text": [
      "2024/09/10 18:43:47 WARNING mlflow.tensorflow: You are saving a TensorFlow Core model or Keras model without a signature. Inference with mlflow.pyfunc.spark_udf() will not work unless the model's pyfunc representation accepts pandas DataFrames as inference inputs.\n"
     ]
    },
    {
     "name": "stdout",
     "output_type": "stream",
     "text": [
      "\u001B[1m7/7\u001B[0m \u001B[32m━━━━━━━━━━━━━━━━━━━━\u001B[0m\u001B[37m\u001B[0m \u001B[1m3s\u001B[0m 428ms/step - accuracy: 0.0546 - loss: 2.3089\n",
      "Test accuracy: 0.10362694412469864\n",
      "Epoch 1/10\n",
      "41/41 - 62s - 2s/step - accuracy: 0.1179 - loss: 2.3070 - val_accuracy: 0.1192 - val_loss: 2.2967\n",
      "Epoch 2/10\n",
      "41/41 - 60s - 1s/step - accuracy: 0.1233 - loss: 2.2981 - val_accuracy: 0.1165 - val_loss: 2.2964\n",
      "Epoch 3/10\n",
      "41/41 - 62s - 2s/step - accuracy: 0.1179 - loss: 2.2993 - val_accuracy: 0.1165 - val_loss: 2.2951\n",
      "Epoch 4/10\n",
      "41/41 - 61s - 1s/step - accuracy: 0.1109 - loss: 2.2969 - val_accuracy: 0.1165 - val_loss: 2.2951\n",
      "Epoch 5/10\n",
      "41/41 - 61s - 1s/step - accuracy: 0.0994 - loss: 2.2992 - val_accuracy: 0.1165 - val_loss: 2.2968\n",
      "Epoch 6/10\n",
      "41/41 - 61s - 1s/step - accuracy: 0.1248 - loss: 2.2951 - val_accuracy: 0.1165 - val_loss: 2.2953\n",
      "Epoch 7/10\n",
      "41/41 - 62s - 2s/step - accuracy: 0.1263 - loss: 2.2950 - val_accuracy: 0.1165 - val_loss: 2.2923\n",
      "Epoch 8/10\n",
      "41/41 - 61s - 1s/step - accuracy: 0.1032 - loss: 2.2953 - val_accuracy: 0.1165 - val_loss: 2.2930\n",
      "Epoch 9/10\n",
      "41/41 - 62s - 2s/step - accuracy: 0.1063 - loss: 2.2962 - val_accuracy: 0.1165 - val_loss: 2.2936\n",
      "Epoch 10/10\n",
      "41/41 - 60s - 1s/step - accuracy: 0.1140 - loss: 2.2948 - val_accuracy: 0.1165 - val_loss: 2.2923\n"
     ]
    },
    {
     "name": "stderr",
     "output_type": "stream",
     "text": [
      "2024/09/10 18:54:17 WARNING mlflow.tensorflow: You are saving a TensorFlow Core model or Keras model without a signature. Inference with mlflow.pyfunc.spark_udf() will not work unless the model's pyfunc representation accepts pandas DataFrames as inference inputs.\n"
     ]
    },
    {
     "name": "stdout",
     "output_type": "stream",
     "text": [
      "\u001B[1m7/7\u001B[0m \u001B[32m━━━━━━━━━━━━━━━━━━━━\u001B[0m\u001B[37m\u001B[0m \u001B[1m3s\u001B[0m 379ms/step - accuracy: 0.0510 - loss: 2.3042\n",
      "Test accuracy: 0.11917098611593246\n",
      "Epoch 1/10\n",
      "41/41 - 61s - 1s/step - accuracy: 0.1048 - loss: 2.3024 - val_accuracy: 0.1057 - val_loss: 2.3019\n",
      "Epoch 2/10\n",
      "41/41 - 61s - 1s/step - accuracy: 0.1040 - loss: 2.3016 - val_accuracy: 0.1057 - val_loss: 2.3008\n",
      "Epoch 3/10\n",
      "41/41 - 61s - 1s/step - accuracy: 0.1040 - loss: 2.3009 - val_accuracy: 0.1057 - val_loss: 2.3006\n",
      "Epoch 4/10\n",
      "41/41 - 61s - 1s/step - accuracy: 0.1102 - loss: 2.3029 - val_accuracy: 0.1057 - val_loss: 2.2993\n",
      "Epoch 5/10\n",
      "41/41 - 60s - 1s/step - accuracy: 0.1163 - loss: 2.2989 - val_accuracy: 0.1057 - val_loss: 2.2992\n",
      "Epoch 6/10\n",
      "41/41 - 62s - 2s/step - accuracy: 0.1133 - loss: 2.3010 - val_accuracy: 0.1057 - val_loss: 2.2989\n",
      "Epoch 7/10\n",
      "41/41 - 61s - 1s/step - accuracy: 0.1071 - loss: 2.2984 - val_accuracy: 0.1057 - val_loss: 2.2983\n",
      "Epoch 8/10\n",
      "41/41 - 61s - 1s/step - accuracy: 0.1109 - loss: 2.2960 - val_accuracy: 0.1057 - val_loss: 2.2977\n",
      "Epoch 9/10\n",
      "41/41 - 61s - 1s/step - accuracy: 0.1102 - loss: 2.3002 - val_accuracy: 0.1057 - val_loss: 2.2983\n",
      "Epoch 10/10\n",
      "41/41 - 61s - 1s/step - accuracy: 0.1063 - loss: 2.2999 - val_accuracy: 0.1057 - val_loss: 2.2973\n"
     ]
    },
    {
     "name": "stderr",
     "output_type": "stream",
     "text": [
      "2024/09/10 19:04:47 WARNING mlflow.tensorflow: You are saving a TensorFlow Core model or Keras model without a signature. Inference with mlflow.pyfunc.spark_udf() will not work unless the model's pyfunc representation accepts pandas DataFrames as inference inputs.\n"
     ]
    },
    {
     "name": "stdout",
     "output_type": "stream",
     "text": [
      "\u001B[1m7/7\u001B[0m \u001B[32m━━━━━━━━━━━━━━━━━━━━\u001B[0m\u001B[37m\u001B[0m \u001B[1m3s\u001B[0m 345ms/step - accuracy: 0.1107 - loss: 2.3042\n",
      "Test accuracy: 0.0984455943107605\n",
      "Epoch 1/20\n",
      "41/41 - 61s - 1s/step - accuracy: 0.1032 - loss: 2.3021 - val_accuracy: 0.1057 - val_loss: 2.2954\n",
      "Epoch 2/20\n",
      "41/41 - 62s - 2s/step - accuracy: 0.1071 - loss: 2.2989 - val_accuracy: 0.1057 - val_loss: 2.2948\n",
      "Epoch 3/20\n",
      "41/41 - 60s - 1s/step - accuracy: 0.1102 - loss: 2.3005 - val_accuracy: 0.1138 - val_loss: 2.2958\n",
      "Epoch 4/20\n",
      "41/41 - 62s - 2s/step - accuracy: 0.1102 - loss: 2.3002 - val_accuracy: 0.1165 - val_loss: 2.2963\n",
      "Epoch 5/20\n",
      "41/41 - 61s - 1s/step - accuracy: 0.1040 - loss: 2.2972 - val_accuracy: 0.1165 - val_loss: 2.2958\n",
      "Epoch 6/20\n",
      "41/41 - 62s - 2s/step - accuracy: 0.1233 - loss: 2.2935 - val_accuracy: 0.1165 - val_loss: 2.2929\n",
      "Epoch 7/20\n",
      "41/41 - 61s - 1s/step - accuracy: 0.1156 - loss: 2.2951 - val_accuracy: 0.1165 - val_loss: 2.2913\n",
      "Epoch 8/20\n",
      "41/41 - 62s - 2s/step - accuracy: 0.1171 - loss: 2.2944 - val_accuracy: 0.1274 - val_loss: 2.2920\n",
      "Epoch 9/20\n",
      "41/41 - 61s - 1s/step - accuracy: 0.1109 - loss: 2.2947 - val_accuracy: 0.1165 - val_loss: 2.2907\n",
      "Epoch 10/20\n",
      "41/41 - 62s - 2s/step - accuracy: 0.1217 - loss: 2.2937 - val_accuracy: 0.1220 - val_loss: 2.2901\n",
      "Epoch 11/20\n",
      "41/41 - 62s - 2s/step - accuracy: 0.1163 - loss: 2.2890 - val_accuracy: 0.1111 - val_loss: 2.2864\n",
      "Epoch 12/20\n",
      "41/41 - 61s - 1s/step - accuracy: 0.1063 - loss: 2.2879 - val_accuracy: 0.1355 - val_loss: 2.2850\n",
      "Epoch 13/20\n",
      "41/41 - 61s - 1s/step - accuracy: 0.1233 - loss: 2.2884 - val_accuracy: 0.1355 - val_loss: 2.2846\n",
      "Epoch 14/20\n",
      "41/41 - 61s - 1s/step - accuracy: 0.1125 - loss: 2.2845 - val_accuracy: 0.1355 - val_loss: 2.2810\n",
      "Epoch 15/20\n",
      "41/41 - 62s - 2s/step - accuracy: 0.1217 - loss: 2.2857 - val_accuracy: 0.1382 - val_loss: 2.2779\n",
      "Epoch 16/20\n",
      "41/41 - 63s - 2s/step - accuracy: 0.1186 - loss: 2.2797 - val_accuracy: 0.1301 - val_loss: 2.2756\n",
      "Epoch 17/20\n",
      "41/41 - 61s - 1s/step - accuracy: 0.1248 - loss: 2.2774 - val_accuracy: 0.1355 - val_loss: 2.2757\n",
      "Epoch 18/20\n",
      "41/41 - 62s - 2s/step - accuracy: 0.1271 - loss: 2.2768 - val_accuracy: 0.1436 - val_loss: 2.2692\n",
      "Epoch 19/20\n",
      "41/41 - 62s - 2s/step - accuracy: 0.1233 - loss: 2.2655 - val_accuracy: 0.1518 - val_loss: 2.2612\n",
      "Epoch 20/20\n",
      "41/41 - 61s - 1s/step - accuracy: 0.1418 - loss: 2.2652 - val_accuracy: 0.1436 - val_loss: 2.2543\n"
     ]
    },
    {
     "name": "stderr",
     "output_type": "stream",
     "text": [
      "2024/09/10 19:25:36 WARNING mlflow.tensorflow: You are saving a TensorFlow Core model or Keras model without a signature. Inference with mlflow.pyfunc.spark_udf() will not work unless the model's pyfunc representation accepts pandas DataFrames as inference inputs.\n"
     ]
    },
    {
     "name": "stdout",
     "output_type": "stream",
     "text": [
      "\u001B[1m7/7\u001B[0m \u001B[32m━━━━━━━━━━━━━━━━━━━━\u001B[0m\u001B[37m\u001B[0m \u001B[1m3s\u001B[0m 349ms/step - accuracy: 0.1116 - loss: 2.2934\n",
      "Test accuracy: 0.11917098611593246\n",
      "Epoch 1/20\n",
      "41/41 - 64s - 2s/step - accuracy: 0.1071 - loss: 2.3027 - val_accuracy: 0.1165 - val_loss: 2.3017\n",
      "Epoch 2/20\n",
      "41/41 - 60s - 1s/step - accuracy: 0.1133 - loss: 2.3021 - val_accuracy: 0.1165 - val_loss: 2.3019\n",
      "Epoch 3/20\n",
      "41/41 - 63s - 2s/step - accuracy: 0.1240 - loss: 2.3011 - val_accuracy: 0.1165 - val_loss: 2.3012\n",
      "Epoch 4/20\n",
      "41/41 - 60s - 1s/step - accuracy: 0.1117 - loss: 2.3011 - val_accuracy: 0.1165 - val_loss: 2.3011\n",
      "Epoch 5/20\n",
      "41/41 - 64s - 2s/step - accuracy: 0.1156 - loss: 2.3008 - val_accuracy: 0.1165 - val_loss: 2.3008\n",
      "Epoch 6/20\n",
      "41/41 - 61s - 1s/step - accuracy: 0.1063 - loss: 2.3016 - val_accuracy: 0.1165 - val_loss: 2.2996\n",
      "Epoch 7/20\n",
      "41/41 - 62s - 2s/step - accuracy: 0.1133 - loss: 2.2999 - val_accuracy: 0.1165 - val_loss: 2.2995\n",
      "Epoch 8/20\n",
      "41/41 - 60s - 1s/step - accuracy: 0.1194 - loss: 2.3011 - val_accuracy: 0.1165 - val_loss: 2.3007\n",
      "Epoch 9/20\n",
      "41/41 - 62s - 2s/step - accuracy: 0.1171 - loss: 2.3006 - val_accuracy: 0.1165 - val_loss: 2.2993\n",
      "Epoch 10/20\n",
      "41/41 - 62s - 2s/step - accuracy: 0.1109 - loss: 2.3015 - val_accuracy: 0.1165 - val_loss: 2.2993\n",
      "Epoch 11/20\n",
      "41/41 - 62s - 2s/step - accuracy: 0.1179 - loss: 2.3005 - val_accuracy: 0.1165 - val_loss: 2.2997\n",
      "Epoch 12/20\n",
      "41/41 - 64s - 2s/step - accuracy: 0.1086 - loss: 2.3010 - val_accuracy: 0.1165 - val_loss: 2.2996\n",
      "Epoch 13/20\n",
      "41/41 - 63s - 2s/step - accuracy: 0.1263 - loss: 2.2999 - val_accuracy: 0.1165 - val_loss: 2.2991\n",
      "Epoch 14/20\n",
      "41/41 - 61s - 1s/step - accuracy: 0.1086 - loss: 2.3000 - val_accuracy: 0.1165 - val_loss: 2.2990\n",
      "Epoch 15/20\n",
      "41/41 - 62s - 2s/step - accuracy: 0.1102 - loss: 2.2991 - val_accuracy: 0.1165 - val_loss: 2.2989\n",
      "Epoch 16/20\n",
      "41/41 - 62s - 2s/step - accuracy: 0.1163 - loss: 2.2981 - val_accuracy: 0.1165 - val_loss: 2.2984\n",
      "Epoch 17/20\n",
      "41/41 - 62s - 2s/step - accuracy: 0.1156 - loss: 2.2998 - val_accuracy: 0.1165 - val_loss: 2.2986\n",
      "Epoch 18/20\n",
      "41/41 - 62s - 2s/step - accuracy: 0.1133 - loss: 2.2988 - val_accuracy: 0.1165 - val_loss: 2.2980\n",
      "Epoch 19/20\n",
      "41/41 - 61s - 1s/step - accuracy: 0.1171 - loss: 2.3001 - val_accuracy: 0.1165 - val_loss: 2.2979\n",
      "Epoch 20/20\n",
      "41/41 - 61s - 1s/step - accuracy: 0.1086 - loss: 2.3005 - val_accuracy: 0.1165 - val_loss: 2.2993\n"
     ]
    },
    {
     "name": "stderr",
     "output_type": "stream",
     "text": [
      "2024/09/10 19:46:36 WARNING mlflow.tensorflow: You are saving a TensorFlow Core model or Keras model without a signature. Inference with mlflow.pyfunc.spark_udf() will not work unless the model's pyfunc representation accepts pandas DataFrames as inference inputs.\n"
     ]
    },
    {
     "name": "stdout",
     "output_type": "stream",
     "text": [
      "\u001B[1m7/7\u001B[0m \u001B[32m━━━━━━━━━━━━━━━━━━━━\u001B[0m\u001B[37m\u001B[0m \u001B[1m3s\u001B[0m 344ms/step - accuracy: 0.0510 - loss: 2.3084\n",
      "Test accuracy: 0.11917098611593246\n"
     ]
    }
   ],
   "source": [
    "# Hyperparamètres\n",
    "batch_sizes = [16, 32]\n",
    "epochs_list = [10, 20]\n",
    "learning_rates = [0.001, 0.0001]\n",
    "\n",
    "# Sans data augmentation\n",
    "# Entraînement de différents modèles à 5 couches avec différentes combinaisons d'hyperparamètres sans data augmentation\n",
    "for batch_size in batch_sizes:\n",
    "    for epochs in epochs_list:\n",
    "        for learning_rate in learning_rates:\n",
    "            train_model_5_couches(batch_size, epochs, learning_rate)"
   ],
   "metadata": {
    "collapsed": false,
    "ExecuteTime": {
     "end_time": "2024-09-10T17:46:55.417795Z",
     "start_time": "2024-09-10T15:38:25.363667Z"
    }
   },
   "id": "905d4af0588f53dc",
   "execution_count": 22
  },
  {
   "cell_type": "code",
   "outputs": [],
   "source": [
    "# Avec data augmentation\n",
    "train_datagen = ImageDataGenerator(rescale=1. / 255,\n",
    "                                   rotation_range=20,\n",
    "                                   width_shift_range=0.2,\n",
    "                                   height_shift_range=0.2,\n",
    "                                   shear_range=0.2,\n",
    "                                   zoom_range=0.2,\n",
    "                                   horizontal_flip=True)\n",
    "\n",
    "val_datagen = ImageDataGenerator(rescale=1. / 255,\n",
    "                                 rotation_range=20,\n",
    "                                 width_shift_range=0.2,\n",
    "                                 height_shift_range=0.2,\n",
    "                                 shear_range=0.2,\n",
    "                                 zoom_range=0.2,\n",
    "                                 horizontal_flip=True)\n",
    "\n",
    "test_datagen = ImageDataGenerator(rescale=1./255)"
   ],
   "metadata": {
    "collapsed": false,
    "ExecuteTime": {
     "end_time": "2024-09-10T17:46:55.446045Z",
     "start_time": "2024-09-10T17:46:55.425191Z"
    }
   },
   "id": "42c2ec5efce66b38",
   "execution_count": 23
  },
  {
   "cell_type": "code",
   "outputs": [
    {
     "name": "stdout",
     "output_type": "stream",
     "text": [
      "Found 1298 images belonging to 10 classes.\n",
      "Found 369 images belonging to 10 classes.\n",
      "Found 193 images belonging to 10 classes.\n"
     ]
    }
   ],
   "source": [
    "# Chargement des données\n",
    "train_generator = train_datagen.flow_from_directory(\n",
    "    train_dir,\n",
    "    target_size=(224, 224),\n",
    "    batch_size=batch_size,\n",
    "    class_mode='categorical'\n",
    ")\n",
    "val_generator = val_datagen.flow_from_directory(\n",
    "    val_dir,\n",
    "    target_size=(224, 224),\n",
    "    batch_size=batch_size,\n",
    "    class_mode='categorical'\n",
    ")\n",
    "test_generator = test_datagen.flow_from_directory(\n",
    "    test_dir,\n",
    "    target_size=(224, 224),\n",
    "    batch_size=batch_size,\n",
    "    class_mode='categorical',\n",
    "    shuffle=False\n",
    ")"
   ],
   "metadata": {
    "collapsed": false,
    "ExecuteTime": {
     "end_time": "2024-09-10T17:46:55.630804Z",
     "start_time": "2024-09-10T17:46:55.448505Z"
    }
   },
   "id": "7d8071a9a5cc3012",
   "execution_count": 24
  },
  {
   "cell_type": "code",
   "outputs": [],
   "source": [
    "# Hyperparamètres\n",
    "batch_sizes = [16, 32]\n",
    "epochs_list = [10, 20]\n",
    "learning_rates = [0.001, 0.0001]"
   ],
   "metadata": {
    "collapsed": false,
    "ExecuteTime": {
     "end_time": "2024-09-10T17:46:55.636247Z",
     "start_time": "2024-09-10T17:46:55.632598Z"
    }
   },
   "id": "542f3a5011572832",
   "execution_count": 25
  },
  {
   "cell_type": "code",
   "outputs": [
    {
     "name": "stdout",
     "output_type": "stream",
     "text": [
      "Epoch 1/10\n",
      "41/41 - 73s - 2s/step - accuracy: 0.0955 - loss: 2.3114 - val_accuracy: 0.1084 - val_loss: 2.3009\n",
      "Epoch 2/10\n",
      "41/41 - 73s - 2s/step - accuracy: 0.1055 - loss: 2.3016 - val_accuracy: 0.1003 - val_loss: 2.3005\n",
      "Epoch 3/10\n",
      "41/41 - 71s - 2s/step - accuracy: 0.1133 - loss: 2.3003 - val_accuracy: 0.1084 - val_loss: 2.2997\n",
      "Epoch 4/10\n",
      "41/41 - 71s - 2s/step - accuracy: 0.1186 - loss: 2.2996 - val_accuracy: 0.1084 - val_loss: 2.2979\n",
      "Epoch 5/10\n",
      "41/41 - 71s - 2s/step - accuracy: 0.1210 - loss: 2.3000 - val_accuracy: 0.1084 - val_loss: 2.2988\n",
      "Epoch 6/10\n",
      "41/41 - 70s - 2s/step - accuracy: 0.1040 - loss: 2.3013 - val_accuracy: 0.1084 - val_loss: 2.2990\n",
      "Epoch 7/10\n",
      "41/41 - 72s - 2s/step - accuracy: 0.1071 - loss: 2.3008 - val_accuracy: 0.1165 - val_loss: 2.2979\n",
      "Epoch 8/10\n",
      "41/41 - 71s - 2s/step - accuracy: 0.1186 - loss: 2.2996 - val_accuracy: 0.1084 - val_loss: 2.2987\n",
      "Epoch 9/10\n",
      "41/41 - 71s - 2s/step - accuracy: 0.1079 - loss: 2.2988 - val_accuracy: 0.1138 - val_loss: 2.2973\n",
      "Epoch 10/10\n",
      "41/41 - 71s - 2s/step - accuracy: 0.1240 - loss: 2.2982 - val_accuracy: 0.1192 - val_loss: 2.2970\n"
     ]
    },
    {
     "name": "stderr",
     "output_type": "stream",
     "text": [
      "2024/09/10 19:58:50 WARNING mlflow.tensorflow: You are saving a TensorFlow Core model or Keras model without a signature. Inference with mlflow.pyfunc.spark_udf() will not work unless the model's pyfunc representation accepts pandas DataFrames as inference inputs.\n"
     ]
    },
    {
     "name": "stdout",
     "output_type": "stream",
     "text": [
      "\u001B[1m7/7\u001B[0m \u001B[32m━━━━━━━━━━━━━━━━━━━━\u001B[0m\u001B[37m\u001B[0m \u001B[1m2s\u001B[0m 323ms/step - accuracy: 0.0658 - loss: 2.3134\n",
      "Test accuracy: 0.13989637792110443\n",
      "Epoch 1/10\n",
      "41/41 - 71s - 2s/step - accuracy: 0.1117 - loss: 2.3021 - val_accuracy: 0.1165 - val_loss: 2.2969\n",
      "Epoch 2/10\n",
      "41/41 - 71s - 2s/step - accuracy: 0.1079 - loss: 2.3020 - val_accuracy: 0.1003 - val_loss: 2.2970\n",
      "Epoch 3/10\n",
      "41/41 - 72s - 2s/step - accuracy: 0.1163 - loss: 2.2980 - val_accuracy: 0.0867 - val_loss: 2.2956\n",
      "Epoch 4/10\n",
      "41/41 - 71s - 2s/step - accuracy: 0.1133 - loss: 2.2958 - val_accuracy: 0.1192 - val_loss: 2.2955\n",
      "Epoch 5/10\n",
      "41/41 - 72s - 2s/step - accuracy: 0.1086 - loss: 2.2978 - val_accuracy: 0.1192 - val_loss: 2.2944\n",
      "Epoch 6/10\n",
      "41/41 - 70s - 2s/step - accuracy: 0.1025 - loss: 2.2981 - val_accuracy: 0.1220 - val_loss: 2.2946\n",
      "Epoch 7/10\n",
      "41/41 - 73s - 2s/step - accuracy: 0.1002 - loss: 2.2973 - val_accuracy: 0.1138 - val_loss: 2.2939\n",
      "Epoch 8/10\n",
      "41/41 - 72s - 2s/step - accuracy: 0.0971 - loss: 2.2978 - val_accuracy: 0.1165 - val_loss: 2.2958\n",
      "Epoch 9/10\n",
      "41/41 - 71s - 2s/step - accuracy: 0.1094 - loss: 2.2968 - val_accuracy: 0.1138 - val_loss: 2.2944\n",
      "Epoch 10/10\n",
      "41/41 - 72s - 2s/step - accuracy: 0.1240 - loss: 2.2952 - val_accuracy: 0.1165 - val_loss: 2.2938\n"
     ]
    },
    {
     "name": "stderr",
     "output_type": "stream",
     "text": [
      "2024/09/10 20:11:04 WARNING mlflow.tensorflow: You are saving a TensorFlow Core model or Keras model without a signature. Inference with mlflow.pyfunc.spark_udf() will not work unless the model's pyfunc representation accepts pandas DataFrames as inference inputs.\n"
     ]
    },
    {
     "name": "stdout",
     "output_type": "stream",
     "text": [
      "\u001B[1m7/7\u001B[0m \u001B[32m━━━━━━━━━━━━━━━━━━━━\u001B[0m\u001B[37m\u001B[0m \u001B[1m2s\u001B[0m 338ms/step - accuracy: 0.0719 - loss: 2.3040\n",
      "Test accuracy: 0.12953367829322815\n",
      "Epoch 1/20\n",
      "41/41 - 73s - 2s/step - accuracy: 0.0986 - loss: 2.3122 - val_accuracy: 0.1084 - val_loss: 2.2995\n",
      "Epoch 2/20\n",
      "41/41 - 71s - 2s/step - accuracy: 0.1133 - loss: 2.3010 - val_accuracy: 0.1084 - val_loss: 2.2956\n",
      "Epoch 3/20\n",
      "41/41 - 73s - 2s/step - accuracy: 0.0986 - loss: 2.2997 - val_accuracy: 0.1084 - val_loss: 2.2962\n",
      "Epoch 4/20\n",
      "41/41 - 71s - 2s/step - accuracy: 0.1094 - loss: 2.2989 - val_accuracy: 0.1084 - val_loss: 2.2963\n",
      "Epoch 5/20\n",
      "41/41 - 72s - 2s/step - accuracy: 0.1140 - loss: 2.2982 - val_accuracy: 0.1084 - val_loss: 2.2959\n",
      "Epoch 6/20\n",
      "41/41 - 72s - 2s/step - accuracy: 0.1094 - loss: 2.2978 - val_accuracy: 0.1111 - val_loss: 2.2957\n",
      "Epoch 7/20\n",
      "41/41 - 71s - 2s/step - accuracy: 0.0978 - loss: 2.2970 - val_accuracy: 0.1084 - val_loss: 2.2936\n",
      "Epoch 8/20\n",
      "41/41 - 72s - 2s/step - accuracy: 0.1171 - loss: 2.2951 - val_accuracy: 0.1247 - val_loss: 2.2905\n",
      "Epoch 9/20\n",
      "41/41 - 71s - 2s/step - accuracy: 0.1163 - loss: 2.2962 - val_accuracy: 0.1138 - val_loss: 2.2924\n",
      "Epoch 10/20\n",
      "41/41 - 72s - 2s/step - accuracy: 0.1133 - loss: 2.2959 - val_accuracy: 0.1057 - val_loss: 2.2914\n",
      "Epoch 11/20\n",
      "41/41 - 71s - 2s/step - accuracy: 0.1233 - loss: 2.2936 - val_accuracy: 0.1274 - val_loss: 2.2894\n",
      "Epoch 12/20\n",
      "41/41 - 71s - 2s/step - accuracy: 0.1202 - loss: 2.2924 - val_accuracy: 0.1220 - val_loss: 2.2866\n",
      "Epoch 13/20\n",
      "41/41 - 73s - 2s/step - accuracy: 0.1125 - loss: 2.2942 - val_accuracy: 0.1599 - val_loss: 2.2870\n",
      "Epoch 14/20\n",
      "41/41 - 76s - 2s/step - accuracy: 0.1410 - loss: 2.2867 - val_accuracy: 0.1274 - val_loss: 2.2798\n",
      "Epoch 15/20\n",
      "41/41 - 81s - 2s/step - accuracy: 0.1379 - loss: 2.2841 - val_accuracy: 0.1707 - val_loss: 2.2742\n",
      "Epoch 16/20\n",
      "41/41 - 69s - 2s/step - accuracy: 0.1464 - loss: 2.2769 - val_accuracy: 0.1572 - val_loss: 2.2691\n",
      "Epoch 17/20\n",
      "41/41 - 69s - 2s/step - accuracy: 0.1533 - loss: 2.2729 - val_accuracy: 0.1653 - val_loss: 2.2597\n",
      "Epoch 18/20\n",
      "41/41 - 70s - 2s/step - accuracy: 0.1510 - loss: 2.2750 - val_accuracy: 0.1680 - val_loss: 2.2609\n",
      "Epoch 19/20\n",
      "41/41 - 69s - 2s/step - accuracy: 0.1410 - loss: 2.2709 - val_accuracy: 0.1599 - val_loss: 2.2666\n",
      "Epoch 20/20\n",
      "41/41 - 71s - 2s/step - accuracy: 0.1741 - loss: 2.2544 - val_accuracy: 0.1545 - val_loss: 2.2508\n"
     ]
    },
    {
     "name": "stderr",
     "output_type": "stream",
     "text": [
      "2024/09/10 20:35:23 WARNING mlflow.tensorflow: You are saving a TensorFlow Core model or Keras model without a signature. Inference with mlflow.pyfunc.spark_udf() will not work unless the model's pyfunc representation accepts pandas DataFrames as inference inputs.\n"
     ]
    },
    {
     "name": "stdout",
     "output_type": "stream",
     "text": [
      "\u001B[1m7/7\u001B[0m \u001B[32m━━━━━━━━━━━━━━━━━━━━\u001B[0m\u001B[37m\u001B[0m \u001B[1m2s\u001B[0m 334ms/step - accuracy: 0.0925 - loss: 2.2686\n",
      "Test accuracy: 0.12953367829322815\n",
      "Epoch 1/20\n",
      "41/41 - 72s - 2s/step - accuracy: 0.1002 - loss: 2.3046 - val_accuracy: 0.1003 - val_loss: 2.3015\n",
      "Epoch 2/20\n",
      "41/41 - 69s - 2s/step - accuracy: 0.0978 - loss: 2.3008 - val_accuracy: 0.1165 - val_loss: 2.2979\n",
      "Epoch 3/20\n",
      "41/41 - 70s - 2s/step - accuracy: 0.1109 - loss: 2.2985 - val_accuracy: 0.1165 - val_loss: 2.2978\n",
      "Epoch 4/20\n",
      "41/41 - 68s - 2s/step - accuracy: 0.1063 - loss: 2.2974 - val_accuracy: 0.1138 - val_loss: 2.2971\n",
      "Epoch 5/20\n",
      "41/41 - 70s - 2s/step - accuracy: 0.1063 - loss: 2.2972 - val_accuracy: 0.1165 - val_loss: 2.2969\n",
      "Epoch 6/20\n",
      "41/41 - 70s - 2s/step - accuracy: 0.1125 - loss: 2.2999 - val_accuracy: 0.1057 - val_loss: 2.2960\n",
      "Epoch 7/20\n",
      "41/41 - 69s - 2s/step - accuracy: 0.1094 - loss: 2.2967 - val_accuracy: 0.1165 - val_loss: 2.2968\n",
      "Epoch 8/20\n",
      "41/41 - 71s - 2s/step - accuracy: 0.1186 - loss: 2.2968 - val_accuracy: 0.1165 - val_loss: 2.2967\n",
      "Epoch 9/20\n",
      "41/41 - 69s - 2s/step - accuracy: 0.1117 - loss: 2.2979 - val_accuracy: 0.1165 - val_loss: 2.2960\n",
      "Epoch 10/20\n",
      "41/41 - 70s - 2s/step - accuracy: 0.1117 - loss: 2.2982 - val_accuracy: 0.1165 - val_loss: 2.2962\n",
      "Epoch 11/20\n",
      "41/41 - 70s - 2s/step - accuracy: 0.1256 - loss: 2.3006 - val_accuracy: 0.1165 - val_loss: 2.2961\n",
      "Epoch 12/20\n",
      "41/41 - 70s - 2s/step - accuracy: 0.1102 - loss: 2.2998 - val_accuracy: 0.1165 - val_loss: 2.2948\n",
      "Epoch 13/20\n",
      "41/41 - 72s - 2s/step - accuracy: 0.1202 - loss: 2.2955 - val_accuracy: 0.1057 - val_loss: 2.2967\n",
      "Epoch 14/20\n",
      "41/41 - 69s - 2s/step - accuracy: 0.1063 - loss: 2.3015 - val_accuracy: 0.1138 - val_loss: 2.2940\n",
      "Epoch 15/20\n",
      "41/41 - 71s - 2s/step - accuracy: 0.1156 - loss: 2.2952 - val_accuracy: 0.1165 - val_loss: 2.2950\n",
      "Epoch 16/20\n",
      "41/41 - 70s - 2s/step - accuracy: 0.1017 - loss: 2.2955 - val_accuracy: 0.1165 - val_loss: 2.2958\n",
      "Epoch 17/20\n",
      "41/41 - 70s - 2s/step - accuracy: 0.1163 - loss: 2.2977 - val_accuracy: 0.1165 - val_loss: 2.2949\n",
      "Epoch 18/20\n",
      "41/41 - 70s - 2s/step - accuracy: 0.1017 - loss: 2.3011 - val_accuracy: 0.1192 - val_loss: 2.2959\n",
      "Epoch 19/20\n",
      "41/41 - 70s - 2s/step - accuracy: 0.1071 - loss: 2.2978 - val_accuracy: 0.1111 - val_loss: 2.2962\n",
      "Epoch 20/20\n",
      "41/41 - 72s - 2s/step - accuracy: 0.1094 - loss: 2.2988 - val_accuracy: 0.1192 - val_loss: 2.2952\n"
     ]
    },
    {
     "name": "stderr",
     "output_type": "stream",
     "text": [
      "2024/09/10 20:59:06 WARNING mlflow.tensorflow: You are saving a TensorFlow Core model or Keras model without a signature. Inference with mlflow.pyfunc.spark_udf() will not work unless the model's pyfunc representation accepts pandas DataFrames as inference inputs.\n"
     ]
    },
    {
     "name": "stdout",
     "output_type": "stream",
     "text": [
      "\u001B[1m7/7\u001B[0m \u001B[32m━━━━━━━━━━━━━━━━━━━━\u001B[0m\u001B[37m\u001B[0m \u001B[1m2s\u001B[0m 337ms/step - accuracy: 0.0510 - loss: 2.3029\n",
      "Test accuracy: 0.11917098611593246\n",
      "Epoch 1/10\n",
      "41/41 - 72s - 2s/step - accuracy: 0.1048 - loss: 2.3059 - val_accuracy: 0.1057 - val_loss: 2.2970\n",
      "Epoch 2/10\n",
      "41/41 - 69s - 2s/step - accuracy: 0.1179 - loss: 2.3028 - val_accuracy: 0.1030 - val_loss: 2.2970\n",
      "Epoch 3/10\n",
      "41/41 - 71s - 2s/step - accuracy: 0.1148 - loss: 2.3010 - val_accuracy: 0.1220 - val_loss: 2.2944\n",
      "Epoch 4/10\n",
      "41/41 - 69s - 2s/step - accuracy: 0.1017 - loss: 2.2983 - val_accuracy: 0.1247 - val_loss: 2.2938\n",
      "Epoch 5/10\n",
      "41/41 - 71s - 2s/step - accuracy: 0.1017 - loss: 2.2967 - val_accuracy: 0.1165 - val_loss: 2.2927\n",
      "Epoch 6/10\n",
      "41/41 - 70s - 2s/step - accuracy: 0.1194 - loss: 2.2956 - val_accuracy: 0.1084 - val_loss: 2.2926\n",
      "Epoch 7/10\n",
      "41/41 - 71s - 2s/step - accuracy: 0.0932 - loss: 2.2979 - val_accuracy: 0.1328 - val_loss: 2.2925\n",
      "Epoch 8/10\n",
      "41/41 - 72s - 2s/step - accuracy: 0.1079 - loss: 2.2931 - val_accuracy: 0.1084 - val_loss: 2.2892\n",
      "Epoch 9/10\n",
      "41/41 - 71s - 2s/step - accuracy: 0.1133 - loss: 2.2938 - val_accuracy: 0.1328 - val_loss: 2.2904\n",
      "Epoch 10/10\n",
      "41/41 - 72s - 2s/step - accuracy: 0.1194 - loss: 2.2942 - val_accuracy: 0.1274 - val_loss: 2.2891\n"
     ]
    },
    {
     "name": "stderr",
     "output_type": "stream",
     "text": [
      "2024/09/10 21:11:14 WARNING mlflow.tensorflow: You are saving a TensorFlow Core model or Keras model without a signature. Inference with mlflow.pyfunc.spark_udf() will not work unless the model's pyfunc representation accepts pandas DataFrames as inference inputs.\n"
     ]
    },
    {
     "name": "stdout",
     "output_type": "stream",
     "text": [
      "\u001B[1m7/7\u001B[0m \u001B[32m━━━━━━━━━━━━━━━━━━━━\u001B[0m\u001B[37m\u001B[0m \u001B[1m2s\u001B[0m 310ms/step - accuracy: 0.1078 - loss: 2.3006\n",
      "Test accuracy: 0.1347150206565857\n",
      "Epoch 1/10\n",
      "41/41 - 73s - 2s/step - accuracy: 0.1140 - loss: 2.3143 - val_accuracy: 0.1057 - val_loss: 2.2995\n",
      "Epoch 2/10\n",
      "41/41 - 70s - 2s/step - accuracy: 0.1002 - loss: 2.2994 - val_accuracy: 0.1084 - val_loss: 2.2958\n",
      "Epoch 3/10\n",
      "41/41 - 72s - 2s/step - accuracy: 0.1009 - loss: 2.2994 - val_accuracy: 0.1057 - val_loss: 2.2953\n",
      "Epoch 4/10\n",
      "41/41 - 70s - 2s/step - accuracy: 0.1071 - loss: 2.2996 - val_accuracy: 0.1057 - val_loss: 2.2974\n",
      "Epoch 5/10\n",
      "41/41 - 71s - 2s/step - accuracy: 0.1079 - loss: 2.2925 - val_accuracy: 0.1057 - val_loss: 2.2944\n",
      "Epoch 6/10\n",
      "41/41 - 71s - 2s/step - accuracy: 0.1040 - loss: 2.3014 - val_accuracy: 0.1057 - val_loss: 2.2939\n",
      "Epoch 7/10\n",
      "41/41 - 70s - 2s/step - accuracy: 0.1071 - loss: 2.2993 - val_accuracy: 0.0840 - val_loss: 2.2956\n",
      "Epoch 8/10\n",
      "41/41 - 72s - 2s/step - accuracy: 0.1071 - loss: 2.2958 - val_accuracy: 0.1192 - val_loss: 2.2950\n",
      "Epoch 9/10\n",
      "41/41 - 70s - 2s/step - accuracy: 0.1102 - loss: 2.2946 - val_accuracy: 0.0976 - val_loss: 2.2958\n",
      "Epoch 10/10\n",
      "41/41 - 71s - 2s/step - accuracy: 0.0978 - loss: 2.2982 - val_accuracy: 0.1030 - val_loss: 2.2952\n"
     ]
    },
    {
     "name": "stderr",
     "output_type": "stream",
     "text": [
      "2024/09/10 21:23:23 WARNING mlflow.tensorflow: You are saving a TensorFlow Core model or Keras model without a signature. Inference with mlflow.pyfunc.spark_udf() will not work unless the model's pyfunc representation accepts pandas DataFrames as inference inputs.\n"
     ]
    },
    {
     "name": "stdout",
     "output_type": "stream",
     "text": [
      "\u001B[1m7/7\u001B[0m \u001B[32m━━━━━━━━━━━━━━━━━━━━\u001B[0m\u001B[37m\u001B[0m \u001B[1m2s\u001B[0m 325ms/step - accuracy: 0.1158 - loss: 2.3070\n",
      "Test accuracy: 0.10362694412469864\n",
      "Epoch 1/20\n",
      "41/41 - 73s - 2s/step - accuracy: 0.0978 - loss: 2.3012 - val_accuracy: 0.1165 - val_loss: 2.2957\n",
      "Epoch 2/20\n",
      "41/41 - 70s - 2s/step - accuracy: 0.1256 - loss: 2.3009 - val_accuracy: 0.1165 - val_loss: 2.2965\n",
      "Epoch 3/20\n",
      "41/41 - 72s - 2s/step - accuracy: 0.1233 - loss: 2.2983 - val_accuracy: 0.1165 - val_loss: 2.2946\n",
      "Epoch 4/20\n",
      "41/41 - 70s - 2s/step - accuracy: 0.1032 - loss: 2.2948 - val_accuracy: 0.1165 - val_loss: 2.2928\n",
      "Epoch 5/20\n",
      "41/41 - 70s - 2s/step - accuracy: 0.1217 - loss: 2.2947 - val_accuracy: 0.1165 - val_loss: 2.2919\n",
      "Epoch 6/20\n",
      "41/41 - 74s - 2s/step - accuracy: 0.1194 - loss: 2.2965 - val_accuracy: 0.1165 - val_loss: 2.2919\n",
      "Epoch 7/20\n",
      "41/41 - 70s - 2s/step - accuracy: 0.1117 - loss: 2.2928 - val_accuracy: 0.1165 - val_loss: 2.2885\n",
      "Epoch 8/20\n",
      "41/41 - 73s - 2s/step - accuracy: 0.1156 - loss: 2.2908 - val_accuracy: 0.1274 - val_loss: 2.2850\n",
      "Epoch 9/20\n",
      "41/41 - 70s - 2s/step - accuracy: 0.1156 - loss: 2.2885 - val_accuracy: 0.1192 - val_loss: 2.2854\n",
      "Epoch 10/20\n",
      "41/41 - 71s - 2s/step - accuracy: 0.1248 - loss: 2.2860 - val_accuracy: 0.1355 - val_loss: 2.2816\n",
      "Epoch 11/20\n",
      "41/41 - 74s - 2s/step - accuracy: 0.1210 - loss: 2.2780 - val_accuracy: 0.1165 - val_loss: 2.2740\n",
      "Epoch 12/20\n",
      "41/41 - 71s - 2s/step - accuracy: 0.1248 - loss: 2.2778 - val_accuracy: 0.1436 - val_loss: 2.2691\n",
      "Epoch 13/20\n",
      "41/41 - 72s - 2s/step - accuracy: 0.1333 - loss: 2.2698 - val_accuracy: 0.1192 - val_loss: 2.2766\n",
      "Epoch 14/20\n",
      "41/41 - 70s - 2s/step - accuracy: 0.1394 - loss: 2.2741 - val_accuracy: 0.1626 - val_loss: 2.2646\n",
      "Epoch 15/20\n",
      "41/41 - 73s - 2s/step - accuracy: 0.1464 - loss: 2.2630 - val_accuracy: 0.1463 - val_loss: 2.2476\n",
      "Epoch 16/20\n",
      "41/41 - 71s - 2s/step - accuracy: 0.1410 - loss: 2.2577 - val_accuracy: 0.1518 - val_loss: 2.2597\n",
      "Epoch 17/20\n",
      "41/41 - 71s - 2s/step - accuracy: 0.1487 - loss: 2.2747 - val_accuracy: 0.1572 - val_loss: 2.2442\n",
      "Epoch 18/20\n",
      "41/41 - 73s - 2s/step - accuracy: 0.1556 - loss: 2.2530 - val_accuracy: 0.1707 - val_loss: 2.2231\n",
      "Epoch 19/20\n",
      "41/41 - 71s - 2s/step - accuracy: 0.1394 - loss: 2.2504 - val_accuracy: 0.1707 - val_loss: 2.2171\n",
      "Epoch 20/20\n",
      "41/41 - 71s - 2s/step - accuracy: 0.1525 - loss: 2.2492 - val_accuracy: 0.1762 - val_loss: 2.2322\n"
     ]
    },
    {
     "name": "stderr",
     "output_type": "stream",
     "text": [
      "2024/09/10 21:47:30 WARNING mlflow.tensorflow: You are saving a TensorFlow Core model or Keras model without a signature. Inference with mlflow.pyfunc.spark_udf() will not work unless the model's pyfunc representation accepts pandas DataFrames as inference inputs.\n"
     ]
    },
    {
     "name": "stdout",
     "output_type": "stream",
     "text": [
      "\u001B[1m7/7\u001B[0m \u001B[32m━━━━━━━━━━━━━━━━━━━━\u001B[0m\u001B[37m\u001B[0m \u001B[1m2s\u001B[0m 327ms/step - accuracy: 0.1724 - loss: 2.2678\n",
      "Test accuracy: 0.196891188621521\n",
      "Epoch 1/20\n",
      "41/41 - 73s - 2s/step - accuracy: 0.1063 - loss: 2.3077 - val_accuracy: 0.1084 - val_loss: 2.2989\n",
      "Epoch 2/20\n",
      "41/41 - 70s - 2s/step - accuracy: 0.1079 - loss: 2.3029 - val_accuracy: 0.1003 - val_loss: 2.2978\n",
      "Epoch 3/20\n",
      "41/41 - 73s - 2s/step - accuracy: 0.0955 - loss: 2.3017 - val_accuracy: 0.1165 - val_loss: 2.3004\n",
      "Epoch 4/20\n",
      "41/41 - 71s - 2s/step - accuracy: 0.1194 - loss: 2.3015 - val_accuracy: 0.1165 - val_loss: 2.2991\n",
      "Epoch 5/20\n",
      "41/41 - 70s - 2s/step - accuracy: 0.1148 - loss: 2.2991 - val_accuracy: 0.1220 - val_loss: 2.2985\n",
      "Epoch 6/20\n",
      "41/41 - 72s - 2s/step - accuracy: 0.1202 - loss: 2.2996 - val_accuracy: 0.1165 - val_loss: 2.2989\n",
      "Epoch 7/20\n",
      "41/41 - 70s - 2s/step - accuracy: 0.1133 - loss: 2.3002 - val_accuracy: 0.1165 - val_loss: 2.2980\n",
      "Epoch 8/20\n",
      "41/41 - 72s - 2s/step - accuracy: 0.1140 - loss: 2.2983 - val_accuracy: 0.1165 - val_loss: 2.2957\n",
      "Epoch 9/20\n",
      "41/41 - 71s - 2s/step - accuracy: 0.1171 - loss: 2.2989 - val_accuracy: 0.1165 - val_loss: 2.2979\n",
      "Epoch 10/20\n",
      "41/41 - 72s - 2s/step - accuracy: 0.1125 - loss: 2.2947 - val_accuracy: 0.1165 - val_loss: 2.2974\n",
      "Epoch 11/20\n",
      "41/41 - 72s - 2s/step - accuracy: 0.1156 - loss: 2.2992 - val_accuracy: 0.1165 - val_loss: 2.2985\n",
      "Epoch 12/20\n",
      "41/41 - 70s - 2s/step - accuracy: 0.1163 - loss: 2.3003 - val_accuracy: 0.1165 - val_loss: 2.2975\n",
      "Epoch 13/20\n",
      "41/41 - 72s - 2s/step - accuracy: 0.1009 - loss: 2.3025 - val_accuracy: 0.1165 - val_loss: 2.2979\n",
      "Epoch 14/20\n",
      "41/41 - 71s - 2s/step - accuracy: 0.1186 - loss: 2.3017 - val_accuracy: 0.1165 - val_loss: 2.2968\n",
      "Epoch 15/20\n",
      "41/41 - 71s - 2s/step - accuracy: 0.1133 - loss: 2.3001 - val_accuracy: 0.1165 - val_loss: 2.2980\n",
      "Epoch 16/20\n",
      "41/41 - 72s - 2s/step - accuracy: 0.1048 - loss: 2.2994 - val_accuracy: 0.1165 - val_loss: 2.2973\n",
      "Epoch 17/20\n",
      "41/41 - 70s - 2s/step - accuracy: 0.1140 - loss: 2.3012 - val_accuracy: 0.1165 - val_loss: 2.2974\n",
      "Epoch 18/20\n",
      "41/41 - 72s - 2s/step - accuracy: 0.1210 - loss: 2.2972 - val_accuracy: 0.1084 - val_loss: 2.2974\n",
      "Epoch 19/20\n",
      "41/41 - 70s - 2s/step - accuracy: 0.1117 - loss: 2.3008 - val_accuracy: 0.1165 - val_loss: 2.2976\n",
      "Epoch 20/20\n",
      "41/41 - 71s - 2s/step - accuracy: 0.1086 - loss: 2.2990 - val_accuracy: 0.1165 - val_loss: 2.2977\n"
     ]
    },
    {
     "name": "stderr",
     "output_type": "stream",
     "text": [
      "2024/09/10 22:11:37 WARNING mlflow.tensorflow: You are saving a TensorFlow Core model or Keras model without a signature. Inference with mlflow.pyfunc.spark_udf() will not work unless the model's pyfunc representation accepts pandas DataFrames as inference inputs.\n"
     ]
    },
    {
     "name": "stdout",
     "output_type": "stream",
     "text": [
      "\u001B[1m7/7\u001B[0m \u001B[32m━━━━━━━━━━━━━━━━━━━━\u001B[0m\u001B[37m\u001B[0m \u001B[1m2s\u001B[0m 327ms/step - accuracy: 0.0510 - loss: 2.3060\n",
      "Test accuracy: 0.11917098611593246\n"
     ]
    }
   ],
   "source": [
    "# Avec data augmentation\n",
    "# Entraînement de différents modèles à 3 couches avec différentes combinaisons d'hyperparamètres avec data augmentation\n",
    "for batch_size in batch_sizes:\n",
    "    for epochs in epochs_list:\n",
    "        for learning_rate in learning_rates:\n",
    "            train_model_3_couches(batch_size, epochs, learning_rate)"
   ],
   "metadata": {
    "collapsed": false,
    "ExecuteTime": {
     "end_time": "2024-09-10T20:11:55.269853Z",
     "start_time": "2024-09-10T17:46:55.638640Z"
    }
   },
   "id": "5fbd5ebc38e904dc",
   "execution_count": 26
  },
  {
   "cell_type": "code",
   "outputs": [
    {
     "name": "stdout",
     "output_type": "stream",
     "text": [
      "Epoch 1/10\n",
      "41/41 - 77s - 2s/step - accuracy: 0.0986 - loss: 2.3054 - val_accuracy: 0.1165 - val_loss: 2.2993\n",
      "Epoch 2/10\n",
      "41/41 - 73s - 2s/step - accuracy: 0.0994 - loss: 2.3016 - val_accuracy: 0.1355 - val_loss: 2.2985\n",
      "Epoch 3/10\n",
      "41/41 - 74s - 2s/step - accuracy: 0.1079 - loss: 2.3000 - val_accuracy: 0.1165 - val_loss: 2.2990\n",
      "Epoch 4/10\n",
      "41/41 - 75s - 2s/step - accuracy: 0.1109 - loss: 2.2991 - val_accuracy: 0.1165 - val_loss: 2.2977\n",
      "Epoch 5/10\n",
      "41/41 - 74s - 2s/step - accuracy: 0.0986 - loss: 2.3001 - val_accuracy: 0.1192 - val_loss: 2.2963\n",
      "Epoch 6/10\n",
      "41/41 - 75s - 2s/step - accuracy: 0.1171 - loss: 2.2970 - val_accuracy: 0.1382 - val_loss: 2.2964\n",
      "Epoch 7/10\n",
      "41/41 - 75s - 2s/step - accuracy: 0.1148 - loss: 2.2986 - val_accuracy: 0.1165 - val_loss: 2.2950\n",
      "Epoch 8/10\n",
      "41/41 - 74s - 2s/step - accuracy: 0.1163 - loss: 2.2964 - val_accuracy: 0.1165 - val_loss: 2.2948\n",
      "Epoch 9/10\n",
      "41/41 - 75s - 2s/step - accuracy: 0.1140 - loss: 2.2952 - val_accuracy: 0.1165 - val_loss: 2.2955\n",
      "Epoch 10/10\n",
      "41/41 - 74s - 2s/step - accuracy: 0.1133 - loss: 2.2935 - val_accuracy: 0.1165 - val_loss: 2.2942\n"
     ]
    },
    {
     "name": "stderr",
     "output_type": "stream",
     "text": [
      "2024/09/10 22:24:22 WARNING mlflow.tensorflow: You are saving a TensorFlow Core model or Keras model without a signature. Inference with mlflow.pyfunc.spark_udf() will not work unless the model's pyfunc representation accepts pandas DataFrames as inference inputs.\n"
     ]
    },
    {
     "name": "stdout",
     "output_type": "stream",
     "text": [
      "\u001B[1m7/7\u001B[0m \u001B[32m━━━━━━━━━━━━━━━━━━━━\u001B[0m\u001B[37m\u001B[0m \u001B[1m3s\u001B[0m 378ms/step - accuracy: 0.0510 - loss: 2.3177\n",
      "Test accuracy: 0.11917098611593246\n",
      "Epoch 1/10\n",
      "41/41 - 76s - 2s/step - accuracy: 0.1063 - loss: 2.3020 - val_accuracy: 0.0759 - val_loss: 2.3021\n",
      "Epoch 2/10\n",
      "41/41 - 75s - 2s/step - accuracy: 0.1071 - loss: 2.3029 - val_accuracy: 0.1220 - val_loss: 2.3020\n",
      "Epoch 3/10\n",
      "41/41 - 74s - 2s/step - accuracy: 0.1171 - loss: 2.3030 - val_accuracy: 0.1165 - val_loss: 2.3016\n",
      "Epoch 4/10\n",
      "41/41 - 75s - 2s/step - accuracy: 0.1063 - loss: 2.3014 - val_accuracy: 0.1220 - val_loss: 2.3017\n",
      "Epoch 5/10\n",
      "41/41 - 76s - 2s/step - accuracy: 0.1148 - loss: 2.3022 - val_accuracy: 0.1192 - val_loss: 2.3016\n",
      "Epoch 6/10\n",
      "41/41 - 74s - 2s/step - accuracy: 0.1048 - loss: 2.3011 - val_accuracy: 0.1165 - val_loss: 2.3012\n",
      "Epoch 7/10\n",
      "41/41 - 75s - 2s/step - accuracy: 0.1171 - loss: 2.3008 - val_accuracy: 0.1192 - val_loss: 2.3005\n",
      "Epoch 8/10\n",
      "41/41 - 74s - 2s/step - accuracy: 0.1202 - loss: 2.3007 - val_accuracy: 0.1165 - val_loss: 2.3003\n",
      "Epoch 9/10\n",
      "41/41 - 73s - 2s/step - accuracy: 0.1102 - loss: 2.3003 - val_accuracy: 0.1138 - val_loss: 2.3015\n",
      "Epoch 10/10\n",
      "41/41 - 87s - 2s/step - accuracy: 0.1225 - loss: 2.2998 - val_accuracy: 0.1165 - val_loss: 2.3002\n"
     ]
    },
    {
     "name": "stderr",
     "output_type": "stream",
     "text": [
      "2024/09/10 22:37:22 WARNING mlflow.tensorflow: You are saving a TensorFlow Core model or Keras model without a signature. Inference with mlflow.pyfunc.spark_udf() will not work unless the model's pyfunc representation accepts pandas DataFrames as inference inputs.\n"
     ]
    },
    {
     "name": "stdout",
     "output_type": "stream",
     "text": [
      "\u001B[1m7/7\u001B[0m \u001B[32m━━━━━━━━━━━━━━━━━━━━\u001B[0m\u001B[37m\u001B[0m \u001B[1m3s\u001B[0m 382ms/step - accuracy: 0.0560 - loss: 2.3110\n",
      "Test accuracy: 0.12435232847929001\n",
      "Epoch 1/20\n",
      "41/41 - 79s - 2s/step - accuracy: 0.0932 - loss: 2.3020 - val_accuracy: 0.1003 - val_loss: 2.2995\n",
      "Epoch 2/20\n",
      "41/41 - 73s - 2s/step - accuracy: 0.0986 - loss: 2.2999 - val_accuracy: 0.1192 - val_loss: 2.2987\n",
      "Epoch 3/20\n",
      "41/41 - 76s - 2s/step - accuracy: 0.1133 - loss: 2.2970 - val_accuracy: 0.1220 - val_loss: 2.2957\n",
      "Epoch 4/20\n",
      "41/41 - 76s - 2s/step - accuracy: 0.1048 - loss: 2.2966 - val_accuracy: 0.1165 - val_loss: 2.2953\n",
      "Epoch 5/20\n",
      "41/41 - 74s - 2s/step - accuracy: 0.1256 - loss: 2.2969 - val_accuracy: 0.1165 - val_loss: 2.2947\n",
      "Epoch 6/20\n",
      "41/41 - 76s - 2s/step - accuracy: 0.1071 - loss: 2.2986 - val_accuracy: 0.1165 - val_loss: 2.2946\n",
      "Epoch 7/20\n",
      "41/41 - 73s - 2s/step - accuracy: 0.1217 - loss: 2.2959 - val_accuracy: 0.1165 - val_loss: 2.2948\n",
      "Epoch 8/20\n",
      "41/41 - 74s - 2s/step - accuracy: 0.1194 - loss: 2.2965 - val_accuracy: 0.1165 - val_loss: 2.2925\n",
      "Epoch 9/20\n",
      "41/41 - 77s - 2s/step - accuracy: 0.0963 - loss: 2.2965 - val_accuracy: 0.1165 - val_loss: 2.2917\n",
      "Epoch 10/20\n",
      "41/41 - 72s - 2s/step - accuracy: 0.1217 - loss: 2.2935 - val_accuracy: 0.1165 - val_loss: 2.2931\n",
      "Epoch 11/20\n",
      "41/41 - 72s - 2s/step - accuracy: 0.1225 - loss: 2.2930 - val_accuracy: 0.1165 - val_loss: 2.2912\n",
      "Epoch 12/20\n",
      "41/41 - 72s - 2s/step - accuracy: 0.1186 - loss: 2.2910 - val_accuracy: 0.1247 - val_loss: 2.2889\n",
      "Epoch 13/20\n",
      "41/41 - 72s - 2s/step - accuracy: 0.1140 - loss: 2.2924 - val_accuracy: 0.1274 - val_loss: 2.2886\n",
      "Epoch 14/20\n",
      "41/41 - 73s - 2s/step - accuracy: 0.1279 - loss: 2.2897 - val_accuracy: 0.1192 - val_loss: 2.2841\n",
      "Epoch 15/20\n",
      "41/41 - 71s - 2s/step - accuracy: 0.1333 - loss: 2.2840 - val_accuracy: 0.1328 - val_loss: 2.2804\n",
      "Epoch 16/20\n",
      "41/41 - 73s - 2s/step - accuracy: 0.1225 - loss: 2.2793 - val_accuracy: 0.1220 - val_loss: 2.2731\n",
      "Epoch 17/20\n",
      "41/41 - 72s - 2s/step - accuracy: 0.1179 - loss: 2.2775 - val_accuracy: 0.1382 - val_loss: 2.2712\n",
      "Epoch 18/20\n",
      "41/41 - 72s - 2s/step - accuracy: 0.1294 - loss: 2.2757 - val_accuracy: 0.1463 - val_loss: 2.2647\n",
      "Epoch 19/20\n",
      "41/41 - 74s - 2s/step - accuracy: 0.1310 - loss: 2.2696 - val_accuracy: 0.1680 - val_loss: 2.2616\n",
      "Epoch 20/20\n",
      "41/41 - 72s - 2s/step - accuracy: 0.1387 - loss: 2.2638 - val_accuracy: 0.1599 - val_loss: 2.2618\n"
     ]
    },
    {
     "name": "stderr",
     "output_type": "stream",
     "text": [
      "2024/09/10 23:02:16 WARNING mlflow.tensorflow: You are saving a TensorFlow Core model or Keras model without a signature. Inference with mlflow.pyfunc.spark_udf() will not work unless the model's pyfunc representation accepts pandas DataFrames as inference inputs.\n"
     ]
    },
    {
     "name": "stdout",
     "output_type": "stream",
     "text": [
      "\u001B[1m7/7\u001B[0m \u001B[32m━━━━━━━━━━━━━━━━━━━━\u001B[0m\u001B[37m\u001B[0m \u001B[1m3s\u001B[0m 358ms/step - accuracy: 0.1167 - loss: 2.2869\n",
      "Test accuracy: 0.16580310463905334\n",
      "Epoch 1/20\n",
      "41/41 - 74s - 2s/step - accuracy: 0.0909 - loss: 2.3015 - val_accuracy: 0.0949 - val_loss: 2.3001\n",
      "Epoch 2/20\n",
      "41/41 - 73s - 2s/step - accuracy: 0.1055 - loss: 2.3001 - val_accuracy: 0.1030 - val_loss: 2.3003\n",
      "Epoch 3/20\n",
      "41/41 - 72s - 2s/step - accuracy: 0.1094 - loss: 2.3006 - val_accuracy: 0.1084 - val_loss: 2.3005\n",
      "Epoch 4/20\n",
      "41/41 - 74s - 2s/step - accuracy: 0.1032 - loss: 2.3015 - val_accuracy: 0.1003 - val_loss: 2.2992\n",
      "Epoch 5/20\n",
      "41/41 - 73s - 2s/step - accuracy: 0.0978 - loss: 2.3013 - val_accuracy: 0.1030 - val_loss: 2.3000\n",
      "Epoch 6/20\n",
      "41/41 - 72s - 2s/step - accuracy: 0.1179 - loss: 2.2987 - val_accuracy: 0.0949 - val_loss: 2.3000\n",
      "Epoch 7/20\n",
      "41/41 - 74s - 2s/step - accuracy: 0.1125 - loss: 2.3000 - val_accuracy: 0.1111 - val_loss: 2.2989\n",
      "Epoch 8/20\n",
      "41/41 - 73s - 2s/step - accuracy: 0.1086 - loss: 2.2986 - val_accuracy: 0.1030 - val_loss: 2.2990\n",
      "Epoch 9/20\n",
      "41/41 - 74s - 2s/step - accuracy: 0.1032 - loss: 2.2987 - val_accuracy: 0.1030 - val_loss: 2.2997\n",
      "Epoch 10/20\n",
      "41/41 - 73s - 2s/step - accuracy: 0.1040 - loss: 2.2984 - val_accuracy: 0.1057 - val_loss: 2.2985\n",
      "Epoch 11/20\n",
      "41/41 - 72s - 2s/step - accuracy: 0.1032 - loss: 2.2990 - val_accuracy: 0.1165 - val_loss: 2.2989\n",
      "Epoch 12/20\n",
      "41/41 - 75s - 2s/step - accuracy: 0.1055 - loss: 2.2994 - val_accuracy: 0.1165 - val_loss: 2.2986\n",
      "Epoch 13/20\n",
      "41/41 - 73s - 2s/step - accuracy: 0.1079 - loss: 2.2976 - val_accuracy: 0.1003 - val_loss: 2.2987\n",
      "Epoch 14/20\n",
      "41/41 - 73s - 2s/step - accuracy: 0.1102 - loss: 2.2986 - val_accuracy: 0.0921 - val_loss: 2.2985\n",
      "Epoch 15/20\n",
      "41/41 - 74s - 2s/step - accuracy: 0.0909 - loss: 2.2992 - val_accuracy: 0.1057 - val_loss: 2.2974\n",
      "Epoch 16/20\n",
      "41/41 - 73s - 2s/step - accuracy: 0.1055 - loss: 2.2990 - val_accuracy: 0.1030 - val_loss: 2.2980\n",
      "Epoch 17/20\n",
      "41/41 - 74s - 2s/step - accuracy: 0.1202 - loss: 2.2988 - val_accuracy: 0.1057 - val_loss: 2.2965\n",
      "Epoch 18/20\n",
      "41/41 - 74s - 2s/step - accuracy: 0.1163 - loss: 2.2972 - val_accuracy: 0.1003 - val_loss: 2.2981\n",
      "Epoch 19/20\n",
      "41/41 - 74s - 2s/step - accuracy: 0.1071 - loss: 2.2977 - val_accuracy: 0.1057 - val_loss: 2.2979\n",
      "Epoch 20/20\n",
      "41/41 - 75s - 2s/step - accuracy: 0.1048 - loss: 2.2977 - val_accuracy: 0.1084 - val_loss: 2.2976\n"
     ]
    },
    {
     "name": "stderr",
     "output_type": "stream",
     "text": [
      "2024/09/10 23:27:06 WARNING mlflow.tensorflow: You are saving a TensorFlow Core model or Keras model without a signature. Inference with mlflow.pyfunc.spark_udf() will not work unless the model's pyfunc representation accepts pandas DataFrames as inference inputs.\n"
     ]
    },
    {
     "name": "stdout",
     "output_type": "stream",
     "text": [
      "\u001B[1m7/7\u001B[0m \u001B[32m━━━━━━━━━━━━━━━━━━━━\u001B[0m\u001B[37m\u001B[0m \u001B[1m3s\u001B[0m 347ms/step - accuracy: 0.0546 - loss: 2.3040\n",
      "Test accuracy: 0.10362694412469864\n",
      "Epoch 1/10\n",
      "41/41 - 76s - 2s/step - accuracy: 0.0948 - loss: 2.3022 - val_accuracy: 0.1030 - val_loss: 2.3010\n",
      "Epoch 2/10\n",
      "41/41 - 73s - 2s/step - accuracy: 0.1086 - loss: 2.3004 - val_accuracy: 0.1165 - val_loss: 2.2985\n",
      "Epoch 3/10\n",
      "41/41 - 76s - 2s/step - accuracy: 0.1086 - loss: 2.2987 - val_accuracy: 0.1165 - val_loss: 2.2979\n",
      "Epoch 4/10\n",
      "41/41 - 74s - 2s/step - accuracy: 0.1079 - loss: 2.2993 - val_accuracy: 0.1165 - val_loss: 2.2957\n",
      "Epoch 5/10\n",
      "41/41 - 74s - 2s/step - accuracy: 0.1094 - loss: 2.2974 - val_accuracy: 0.1165 - val_loss: 2.2954\n",
      "Epoch 6/10\n",
      "41/41 - 75s - 2s/step - accuracy: 0.1248 - loss: 2.2950 - val_accuracy: 0.1192 - val_loss: 2.2929\n",
      "Epoch 7/10\n",
      "41/41 - 73s - 2s/step - accuracy: 0.1240 - loss: 2.2938 - val_accuracy: 0.1165 - val_loss: 2.2907\n",
      "Epoch 8/10\n",
      "41/41 - 76s - 2s/step - accuracy: 0.1133 - loss: 2.2932 - val_accuracy: 0.1247 - val_loss: 2.2921\n",
      "Epoch 9/10\n",
      "41/41 - 74s - 2s/step - accuracy: 0.1217 - loss: 2.2911 - val_accuracy: 0.1409 - val_loss: 2.2910\n",
      "Epoch 10/10\n",
      "41/41 - 75s - 2s/step - accuracy: 0.1217 - loss: 2.2913 - val_accuracy: 0.1165 - val_loss: 2.2899\n"
     ]
    },
    {
     "name": "stderr",
     "output_type": "stream",
     "text": [
      "2024/09/10 23:39:51 WARNING mlflow.tensorflow: You are saving a TensorFlow Core model or Keras model without a signature. Inference with mlflow.pyfunc.spark_udf() will not work unless the model's pyfunc representation accepts pandas DataFrames as inference inputs.\n"
     ]
    },
    {
     "name": "stdout",
     "output_type": "stream",
     "text": [
      "\u001B[1m7/7\u001B[0m \u001B[32m━━━━━━━━━━━━━━━━━━━━\u001B[0m\u001B[37m\u001B[0m \u001B[1m3s\u001B[0m 364ms/step - accuracy: 0.0510 - loss: 2.3137\n",
      "Test accuracy: 0.11917098611593246\n",
      "Epoch 1/10\n",
      "41/41 - 77s - 2s/step - accuracy: 0.1025 - loss: 2.3056 - val_accuracy: 0.1165 - val_loss: 2.3025\n",
      "Epoch 2/10\n",
      "41/41 - 75s - 2s/step - accuracy: 0.1055 - loss: 2.3044 - val_accuracy: 0.1192 - val_loss: 2.3024\n",
      "Epoch 3/10\n",
      "41/41 - 73s - 2s/step - accuracy: 0.1133 - loss: 2.3025 - val_accuracy: 0.1165 - val_loss: 2.3018\n",
      "Epoch 4/10\n",
      "41/41 - 76s - 2s/step - accuracy: 0.0955 - loss: 2.3043 - val_accuracy: 0.1165 - val_loss: 2.3007\n",
      "Epoch 5/10\n",
      "41/41 - 74s - 2s/step - accuracy: 0.1063 - loss: 2.3007 - val_accuracy: 0.1301 - val_loss: 2.3002\n",
      "Epoch 6/10\n",
      "41/41 - 74s - 2s/step - accuracy: 0.1148 - loss: 2.2984 - val_accuracy: 0.1192 - val_loss: 2.2997\n",
      "Epoch 7/10\n",
      "41/41 - 75s - 2s/step - accuracy: 0.1186 - loss: 2.3003 - val_accuracy: 0.1165 - val_loss: 2.2983\n",
      "Epoch 8/10\n",
      "41/41 - 74s - 2s/step - accuracy: 0.1125 - loss: 2.3002 - val_accuracy: 0.1138 - val_loss: 2.2978\n",
      "Epoch 9/10\n",
      "41/41 - 75s - 2s/step - accuracy: 0.1102 - loss: 2.3005 - val_accuracy: 0.1192 - val_loss: 2.2983\n",
      "Epoch 10/10\n",
      "41/41 - 74s - 2s/step - accuracy: 0.1148 - loss: 2.3001 - val_accuracy: 0.1030 - val_loss: 2.2982\n"
     ]
    },
    {
     "name": "stderr",
     "output_type": "stream",
     "text": [
      "2024/09/10 23:52:36 WARNING mlflow.tensorflow: You are saving a TensorFlow Core model or Keras model without a signature. Inference with mlflow.pyfunc.spark_udf() will not work unless the model's pyfunc representation accepts pandas DataFrames as inference inputs.\n"
     ]
    },
    {
     "name": "stdout",
     "output_type": "stream",
     "text": [
      "\u001B[1m7/7\u001B[0m \u001B[32m━━━━━━━━━━━━━━━━━━━━\u001B[0m\u001B[37m\u001B[0m \u001B[1m3s\u001B[0m 398ms/step - accuracy: 0.0510 - loss: 2.3174\n",
      "Test accuracy: 0.0984455943107605\n",
      "Epoch 1/20\n",
      "41/41 - 76s - 2s/step - accuracy: 0.1017 - loss: 2.3026 - val_accuracy: 0.1030 - val_loss: 2.2961\n",
      "Epoch 2/20\n",
      "41/41 - 74s - 2s/step - accuracy: 0.1117 - loss: 2.2983 - val_accuracy: 0.1165 - val_loss: 2.2954\n",
      "Epoch 3/20\n",
      "41/41 - 74s - 2s/step - accuracy: 0.1163 - loss: 2.2973 - val_accuracy: 0.1165 - val_loss: 2.2941\n",
      "Epoch 4/20\n",
      "41/41 - 73s - 2s/step - accuracy: 0.1009 - loss: 2.2974 - val_accuracy: 0.1220 - val_loss: 2.2948\n",
      "Epoch 5/20\n",
      "41/41 - 75s - 2s/step - accuracy: 0.1210 - loss: 2.2954 - val_accuracy: 0.1165 - val_loss: 2.2944\n",
      "Epoch 6/20\n",
      "41/41 - 77s - 2s/step - accuracy: 0.1117 - loss: 2.2941 - val_accuracy: 0.1165 - val_loss: 2.2898\n",
      "Epoch 7/20\n",
      "41/41 - 75s - 2s/step - accuracy: 0.1240 - loss: 2.2953 - val_accuracy: 0.1165 - val_loss: 2.2907\n",
      "Epoch 8/20\n",
      "41/41 - 76s - 2s/step - accuracy: 0.1163 - loss: 2.2924 - val_accuracy: 0.1165 - val_loss: 2.2895\n",
      "Epoch 9/20\n",
      "41/41 - 74s - 2s/step - accuracy: 0.1055 - loss: 2.2939 - val_accuracy: 0.1165 - val_loss: 2.2921\n",
      "Epoch 10/20\n",
      "41/41 - 75s - 2s/step - accuracy: 0.1109 - loss: 2.2952 - val_accuracy: 0.1165 - val_loss: 2.2889\n",
      "Epoch 11/20\n",
      "41/41 - 74s - 2s/step - accuracy: 0.1079 - loss: 2.2950 - val_accuracy: 0.1165 - val_loss: 2.2891\n",
      "Epoch 12/20\n",
      "41/41 - 74s - 2s/step - accuracy: 0.1109 - loss: 2.2895 - val_accuracy: 0.1192 - val_loss: 2.2857\n",
      "Epoch 13/20\n",
      "41/41 - 76s - 2s/step - accuracy: 0.1032 - loss: 2.2872 - val_accuracy: 0.1030 - val_loss: 2.2844\n",
      "Epoch 14/20\n",
      "41/41 - 74s - 2s/step - accuracy: 0.1125 - loss: 2.2867 - val_accuracy: 0.1165 - val_loss: 2.2838\n",
      "Epoch 15/20\n",
      "41/41 - 74s - 2s/step - accuracy: 0.1171 - loss: 2.2860 - val_accuracy: 0.1192 - val_loss: 2.2779\n",
      "Epoch 16/20\n",
      "41/41 - 75s - 2s/step - accuracy: 0.1271 - loss: 2.2801 - val_accuracy: 0.1626 - val_loss: 2.2753\n",
      "Epoch 17/20\n",
      "41/41 - 74s - 2s/step - accuracy: 0.1194 - loss: 2.2775 - val_accuracy: 0.1436 - val_loss: 2.2710\n",
      "Epoch 18/20\n",
      "41/41 - 75s - 2s/step - accuracy: 0.1441 - loss: 2.2754 - val_accuracy: 0.1382 - val_loss: 2.2654\n",
      "Epoch 19/20\n",
      "41/41 - 77s - 2s/step - accuracy: 0.1341 - loss: 2.2749 - val_accuracy: 0.1328 - val_loss: 2.2594\n",
      "Epoch 20/20\n",
      "41/41 - 74s - 2s/step - accuracy: 0.1525 - loss: 2.2691 - val_accuracy: 0.1599 - val_loss: 2.2557\n"
     ]
    },
    {
     "name": "stderr",
     "output_type": "stream",
     "text": [
      "2024/09/11 00:17:52 WARNING mlflow.tensorflow: You are saving a TensorFlow Core model or Keras model without a signature. Inference with mlflow.pyfunc.spark_udf() will not work unless the model's pyfunc representation accepts pandas DataFrames as inference inputs.\n"
     ]
    },
    {
     "name": "stdout",
     "output_type": "stream",
     "text": [
      "\u001B[1m7/7\u001B[0m \u001B[32m━━━━━━━━━━━━━━━━━━━━\u001B[0m\u001B[37m\u001B[0m \u001B[1m3s\u001B[0m 371ms/step - accuracy: 0.1454 - loss: 2.2707\n",
      "Test accuracy: 0.19170984625816345\n",
      "Epoch 1/20\n",
      "41/41 - 77s - 2s/step - accuracy: 0.0917 - loss: 2.3035 - val_accuracy: 0.0921 - val_loss: 2.3033\n",
      "Epoch 2/20\n",
      "41/41 - 74s - 2s/step - accuracy: 0.1025 - loss: 2.3029 - val_accuracy: 0.0921 - val_loss: 2.3024\n",
      "Epoch 3/20\n",
      "41/41 - 73s - 2s/step - accuracy: 0.1079 - loss: 2.3026 - val_accuracy: 0.0894 - val_loss: 2.3026\n",
      "Epoch 4/20\n",
      "41/41 - 76s - 2s/step - accuracy: 0.1048 - loss: 2.3019 - val_accuracy: 0.1003 - val_loss: 2.3026\n",
      "Epoch 5/20\n",
      "41/41 - 74s - 2s/step - accuracy: 0.1017 - loss: 2.3030 - val_accuracy: 0.1003 - val_loss: 2.3015\n",
      "Epoch 6/20\n",
      "41/41 - 74s - 2s/step - accuracy: 0.1055 - loss: 2.3012 - val_accuracy: 0.1138 - val_loss: 2.3010\n",
      "Epoch 7/20\n",
      "41/41 - 75s - 2s/step - accuracy: 0.0971 - loss: 2.3027 - val_accuracy: 0.1057 - val_loss: 2.3005\n",
      "Epoch 8/20\n",
      "41/41 - 74s - 2s/step - accuracy: 0.1117 - loss: 2.3013 - val_accuracy: 0.1192 - val_loss: 2.3008\n",
      "Epoch 9/20\n",
      "41/41 - 75s - 2s/step - accuracy: 0.1148 - loss: 2.2996 - val_accuracy: 0.1084 - val_loss: 2.3009\n",
      "Epoch 10/20\n",
      "41/41 - 74s - 2s/step - accuracy: 0.1025 - loss: 2.3012 - val_accuracy: 0.1111 - val_loss: 2.3001\n",
      "Epoch 11/20\n",
      "41/41 - 75s - 2s/step - accuracy: 0.1025 - loss: 2.3002 - val_accuracy: 0.1003 - val_loss: 2.3004\n",
      "Epoch 12/20\n",
      "41/41 - 75s - 2s/step - accuracy: 0.1055 - loss: 2.2997 - val_accuracy: 0.1192 - val_loss: 2.2988\n",
      "Epoch 13/20\n",
      "41/41 - 74s - 2s/step - accuracy: 0.0955 - loss: 2.3012 - val_accuracy: 0.1192 - val_loss: 2.2998\n",
      "Epoch 14/20\n",
      "41/41 - 75s - 2s/step - accuracy: 0.1148 - loss: 2.3002 - val_accuracy: 0.1518 - val_loss: 2.2993\n",
      "Epoch 15/20\n",
      "41/41 - 75s - 2s/step - accuracy: 0.1325 - loss: 2.2990 - val_accuracy: 0.1111 - val_loss: 2.2985\n",
      "Epoch 16/20\n",
      "41/41 - 75s - 2s/step - accuracy: 0.1279 - loss: 2.2980 - val_accuracy: 0.1463 - val_loss: 2.2992\n",
      "Epoch 17/20\n",
      "41/41 - 76s - 2s/step - accuracy: 0.1055 - loss: 2.2991 - val_accuracy: 0.1111 - val_loss: 2.2991\n",
      "Epoch 18/20\n",
      "41/41 - 75s - 2s/step - accuracy: 0.1071 - loss: 2.2989 - val_accuracy: 0.1328 - val_loss: 2.2988\n",
      "Epoch 19/20\n",
      "41/41 - 75s - 2s/step - accuracy: 0.1055 - loss: 2.3014 - val_accuracy: 0.1409 - val_loss: 2.2986\n",
      "Epoch 20/20\n",
      "41/41 - 76s - 2s/step - accuracy: 0.1210 - loss: 2.2999 - val_accuracy: 0.1220 - val_loss: 2.2986\n"
     ]
    },
    {
     "name": "stderr",
     "output_type": "stream",
     "text": [
      "2024/09/11 00:43:08 WARNING mlflow.tensorflow: You are saving a TensorFlow Core model or Keras model without a signature. Inference with mlflow.pyfunc.spark_udf() will not work unless the model's pyfunc representation accepts pandas DataFrames as inference inputs.\n"
     ]
    },
    {
     "name": "stdout",
     "output_type": "stream",
     "text": [
      "\u001B[1m7/7\u001B[0m \u001B[32m━━━━━━━━━━━━━━━━━━━━\u001B[0m\u001B[37m\u001B[0m \u001B[1m3s\u001B[0m 399ms/step - accuracy: 0.1025 - loss: 2.3068\n",
      "Test accuracy: 0.13989637792110443\n"
     ]
    }
   ],
   "source": [
    "# Avec data augmentation\n",
    "# Entraînement de différents modèles à 5 couches avec différentes combinaisons d'hyperparamètres avec data augmentation\n",
    "for batch_size in batch_sizes:\n",
    "    for epochs in epochs_list:\n",
    "        for learning_rate in learning_rates:\n",
    "            train_model_5_couches(batch_size, epochs, learning_rate)"
   ],
   "metadata": {
    "collapsed": false,
    "ExecuteTime": {
     "end_time": "2024-09-10T22:43:27.111036Z",
     "start_time": "2024-09-10T20:11:55.277056Z"
    }
   },
   "id": "bdad5d23af468c19",
   "execution_count": 27
  },
  {
   "cell_type": "code",
   "outputs": [],
   "source": [],
   "metadata": {
    "collapsed": false,
    "ExecuteTime": {
     "end_time": "2024-09-10T22:43:27.119944Z",
     "start_time": "2024-09-10T22:43:27.117372Z"
    }
   },
   "id": "edf221abf4050a5d",
   "execution_count": 27
  }
 ],
 "metadata": {
  "kernelspec": {
   "display_name": "Python 3",
   "language": "python",
   "name": "python3"
  },
  "language_info": {
   "codemirror_mode": {
    "name": "ipython",
    "version": 2
   },
   "file_extension": ".py",
   "mimetype": "text/x-python",
   "name": "python",
   "nbconvert_exporter": "python",
   "pygments_lexer": "ipython2",
   "version": "2.7.6"
  }
 },
 "nbformat": 4,
 "nbformat_minor": 5
}
