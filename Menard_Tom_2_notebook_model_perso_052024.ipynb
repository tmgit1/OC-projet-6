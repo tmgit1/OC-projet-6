{
 "cells": [
  {
   "cell_type": "code",
   "execution_count": 43,
   "id": "initial_id",
   "metadata": {
    "collapsed": true,
    "ExecuteTime": {
     "end_time": "2024-06-26T08:04:49.062578Z",
     "start_time": "2024-06-26T08:04:48.975437Z"
    }
   },
   "outputs": [],
   "source": [
    "from tensorflow.keras.models import Sequential\n",
    "from tensorflow.keras.layers import Conv2D, Activation, MaxPooling2D, Flatten, Dense, Dropout\n",
    "from tensorflow.keras.optimizers import SGD\n",
    "from tensorflow.keras.preprocessing.image import ImageDataGenerator\n",
    "import matplotlib.pyplot as plt\n",
    "from sklearn.metrics import classification_report, confusion_matrix\n",
    "import seaborn as sns\n",
    "import mlflow\n",
    "import mlflow.keras\n",
    "import numpy as np\n",
    "import time"
   ]
  },
  {
   "cell_type": "code",
   "outputs": [],
   "source": [
    "# Paths pour les dataset d'entraînement, de validation et de test\n",
    "train_dir = 'ten_breed_split_dataset/train'\n",
    "val_dir = 'ten_breed_split_dataset/val'\n",
    "test_dir = 'ten_breed_split_dataset/test'"
   ],
   "metadata": {
    "collapsed": false,
    "ExecuteTime": {
     "end_time": "2024-06-26T08:04:50.926649Z",
     "start_time": "2024-06-26T08:04:50.914791Z"
    }
   },
   "id": "6398b8c4819cd007",
   "execution_count": 44
  },
  {
   "cell_type": "code",
   "outputs": [],
   "source": [
    "train_datagen = ImageDataGenerator(\n",
    "    rescale=1./255,\n",
    ")\n",
    "val_datagen = ImageDataGenerator(\n",
    "    rescale=1./255\n",
    ")\n",
    "test_datagen = ImageDataGenerator(\n",
    "    rescale=1./255\n",
    ")"
   ],
   "metadata": {
    "collapsed": false,
    "ExecuteTime": {
     "end_time": "2024-06-26T08:04:51.614184Z",
     "start_time": "2024-06-26T08:04:51.605380Z"
    }
   },
   "id": "b31e69316ff057fe",
   "execution_count": 45
  },
  {
   "cell_type": "code",
   "outputs": [],
   "source": [
    "batch_size = 32"
   ],
   "metadata": {
    "collapsed": false,
    "ExecuteTime": {
     "end_time": "2024-06-26T08:04:52.479571Z",
     "start_time": "2024-06-26T08:04:52.470894Z"
    }
   },
   "id": "f990ab3f089e7ee9",
   "execution_count": 46
  },
  {
   "cell_type": "code",
   "outputs": [
    {
     "name": "stdout",
     "output_type": "stream",
     "text": [
      "Found 1298 images belonging to 10 classes.\n",
      "Found 369 images belonging to 10 classes.\n",
      "Found 193 images belonging to 10 classes.\n"
     ]
    }
   ],
   "source": [
    "# Chargement des données\n",
    "train_generator = train_datagen.flow_from_directory(\n",
    "    train_dir,\n",
    "    target_size=(224, 224),\n",
    "    batch_size=batch_size,\n",
    "    class_mode='categorical'\n",
    ")\n",
    "val_generator = val_datagen.flow_from_directory(\n",
    "    val_dir,\n",
    "    target_size=(224, 224),\n",
    "    batch_size=batch_size,\n",
    "    class_mode='categorical'\n",
    ")\n",
    "test_generator = test_datagen.flow_from_directory(\n",
    "    test_dir,\n",
    "    target_size=(224, 224),\n",
    "    batch_size=batch_size,\n",
    "    class_mode='categorical',\n",
    "    shuffle=False\n",
    ")"
   ],
   "metadata": {
    "collapsed": false,
    "ExecuteTime": {
     "end_time": "2024-06-26T08:04:53.307968Z",
     "start_time": "2024-06-26T08:04:53.095289Z"
    }
   },
   "id": "b190cc5e1ab02dd0",
   "execution_count": 47
  },
  {
   "cell_type": "code",
   "outputs": [],
   "source": [
    "# Architecture du modèle\n",
    "model = Sequential()\n",
    "model.add(Conv2D(32, (3, 3), input_shape=(224, 224, 3)))\n",
    "model.add(Activation('relu'))\n",
    "model.add(MaxPooling2D(pool_size=(2, 2)))\n",
    "\n",
    "model.add(Conv2D(32, (3, 3)))\n",
    "model.add(Activation('relu'))\n",
    "model.add(MaxPooling2D(pool_size=(2, 2)))\n",
    "\n",
    "model.add(Conv2D(64, (3, 3)))\n",
    "model.add(Activation('relu'))\n",
    "model.add(MaxPooling2D(pool_size=(2, 2)))\n",
    "\n",
    "model.add(Conv2D(64, (3, 3)))\n",
    "model.add(Activation('relu'))\n",
    "model.add(MaxPooling2D(pool_size=(2, 2)))\n",
    "\n",
    "model.add(Conv2D(64, (3, 3)))\n",
    "model.add(Activation('relu'))\n",
    "\n",
    "model.add(Flatten())\n",
    "model.add(Dense(64))\n",
    "model.add(Activation('relu'))\n",
    "model.add(Dropout(0.5))\n",
    "model.add(Dense(10))\n",
    "model.add(Activation('softmax'))"
   ],
   "metadata": {
    "collapsed": false,
    "ExecuteTime": {
     "end_time": "2024-06-26T08:04:54.811741Z",
     "start_time": "2024-06-26T08:04:53.994362Z"
    }
   },
   "id": "d24191c3771be9ef",
   "execution_count": 48
  },
  {
   "cell_type": "code",
   "outputs": [
    {
     "data": {
      "text/plain": "\u001B[1mModel: \"sequential_28\"\u001B[0m\n",
      "text/html": "<pre style=\"white-space:pre;overflow-x:auto;line-height:normal;font-family:Menlo,'DejaVu Sans Mono',consolas,'Courier New',monospace\"><span style=\"font-weight: bold\">Model: \"sequential_28\"</span>\n</pre>\n"
     },
     "metadata": {},
     "output_type": "display_data"
    },
    {
     "data": {
      "text/plain": "┏━━━━━━━━━━━━━━━━━━━━━━━━━━━━━━━━━┳━━━━━━━━━━━━━━━━━━━━━━━━┳━━━━━━━━━━━━━━━┓\n┃\u001B[1m \u001B[0m\u001B[1mLayer (type)                   \u001B[0m\u001B[1m \u001B[0m┃\u001B[1m \u001B[0m\u001B[1mOutput Shape          \u001B[0m\u001B[1m \u001B[0m┃\u001B[1m \u001B[0m\u001B[1m      Param #\u001B[0m\u001B[1m \u001B[0m┃\n┡━━━━━━━━━━━━━━━━━━━━━━━━━━━━━━━━━╇━━━━━━━━━━━━━━━━━━━━━━━━╇━━━━━━━━━━━━━━━┩\n│ conv2d_104 (\u001B[38;5;33mConv2D\u001B[0m)             │ (\u001B[38;5;45mNone\u001B[0m, \u001B[38;5;34m222\u001B[0m, \u001B[38;5;34m222\u001B[0m, \u001B[38;5;34m32\u001B[0m)   │           \u001B[38;5;34m896\u001B[0m │\n├─────────────────────────────────┼────────────────────────┼───────────────┤\n│ activation_160 (\u001B[38;5;33mActivation\u001B[0m)     │ (\u001B[38;5;45mNone\u001B[0m, \u001B[38;5;34m222\u001B[0m, \u001B[38;5;34m222\u001B[0m, \u001B[38;5;34m32\u001B[0m)   │             \u001B[38;5;34m0\u001B[0m │\n├─────────────────────────────────┼────────────────────────┼───────────────┤\n│ max_pooling2d_94 (\u001B[38;5;33mMaxPooling2D\u001B[0m) │ (\u001B[38;5;45mNone\u001B[0m, \u001B[38;5;34m111\u001B[0m, \u001B[38;5;34m111\u001B[0m, \u001B[38;5;34m32\u001B[0m)   │             \u001B[38;5;34m0\u001B[0m │\n├─────────────────────────────────┼────────────────────────┼───────────────┤\n│ conv2d_105 (\u001B[38;5;33mConv2D\u001B[0m)             │ (\u001B[38;5;45mNone\u001B[0m, \u001B[38;5;34m109\u001B[0m, \u001B[38;5;34m109\u001B[0m, \u001B[38;5;34m32\u001B[0m)   │         \u001B[38;5;34m9,248\u001B[0m │\n├─────────────────────────────────┼────────────────────────┼───────────────┤\n│ activation_161 (\u001B[38;5;33mActivation\u001B[0m)     │ (\u001B[38;5;45mNone\u001B[0m, \u001B[38;5;34m109\u001B[0m, \u001B[38;5;34m109\u001B[0m, \u001B[38;5;34m32\u001B[0m)   │             \u001B[38;5;34m0\u001B[0m │\n├─────────────────────────────────┼────────────────────────┼───────────────┤\n│ max_pooling2d_95 (\u001B[38;5;33mMaxPooling2D\u001B[0m) │ (\u001B[38;5;45mNone\u001B[0m, \u001B[38;5;34m54\u001B[0m, \u001B[38;5;34m54\u001B[0m, \u001B[38;5;34m32\u001B[0m)     │             \u001B[38;5;34m0\u001B[0m │\n├─────────────────────────────────┼────────────────────────┼───────────────┤\n│ conv2d_106 (\u001B[38;5;33mConv2D\u001B[0m)             │ (\u001B[38;5;45mNone\u001B[0m, \u001B[38;5;34m52\u001B[0m, \u001B[38;5;34m52\u001B[0m, \u001B[38;5;34m64\u001B[0m)     │        \u001B[38;5;34m18,496\u001B[0m │\n├─────────────────────────────────┼────────────────────────┼───────────────┤\n│ activation_162 (\u001B[38;5;33mActivation\u001B[0m)     │ (\u001B[38;5;45mNone\u001B[0m, \u001B[38;5;34m52\u001B[0m, \u001B[38;5;34m52\u001B[0m, \u001B[38;5;34m64\u001B[0m)     │             \u001B[38;5;34m0\u001B[0m │\n├─────────────────────────────────┼────────────────────────┼───────────────┤\n│ max_pooling2d_96 (\u001B[38;5;33mMaxPooling2D\u001B[0m) │ (\u001B[38;5;45mNone\u001B[0m, \u001B[38;5;34m26\u001B[0m, \u001B[38;5;34m26\u001B[0m, \u001B[38;5;34m64\u001B[0m)     │             \u001B[38;5;34m0\u001B[0m │\n├─────────────────────────────────┼────────────────────────┼───────────────┤\n│ conv2d_107 (\u001B[38;5;33mConv2D\u001B[0m)             │ (\u001B[38;5;45mNone\u001B[0m, \u001B[38;5;34m24\u001B[0m, \u001B[38;5;34m24\u001B[0m, \u001B[38;5;34m64\u001B[0m)     │        \u001B[38;5;34m36,928\u001B[0m │\n├─────────────────────────────────┼────────────────────────┼───────────────┤\n│ activation_163 (\u001B[38;5;33mActivation\u001B[0m)     │ (\u001B[38;5;45mNone\u001B[0m, \u001B[38;5;34m24\u001B[0m, \u001B[38;5;34m24\u001B[0m, \u001B[38;5;34m64\u001B[0m)     │             \u001B[38;5;34m0\u001B[0m │\n├─────────────────────────────────┼────────────────────────┼───────────────┤\n│ max_pooling2d_97 (\u001B[38;5;33mMaxPooling2D\u001B[0m) │ (\u001B[38;5;45mNone\u001B[0m, \u001B[38;5;34m12\u001B[0m, \u001B[38;5;34m12\u001B[0m, \u001B[38;5;34m64\u001B[0m)     │             \u001B[38;5;34m0\u001B[0m │\n├─────────────────────────────────┼────────────────────────┼───────────────┤\n│ conv2d_108 (\u001B[38;5;33mConv2D\u001B[0m)             │ (\u001B[38;5;45mNone\u001B[0m, \u001B[38;5;34m10\u001B[0m, \u001B[38;5;34m10\u001B[0m, \u001B[38;5;34m64\u001B[0m)     │        \u001B[38;5;34m36,928\u001B[0m │\n├─────────────────────────────────┼────────────────────────┼───────────────┤\n│ activation_164 (\u001B[38;5;33mActivation\u001B[0m)     │ (\u001B[38;5;45mNone\u001B[0m, \u001B[38;5;34m10\u001B[0m, \u001B[38;5;34m10\u001B[0m, \u001B[38;5;34m64\u001B[0m)     │             \u001B[38;5;34m0\u001B[0m │\n├─────────────────────────────────┼────────────────────────┼───────────────┤\n│ flatten_28 (\u001B[38;5;33mFlatten\u001B[0m)            │ (\u001B[38;5;45mNone\u001B[0m, \u001B[38;5;34m6400\u001B[0m)           │             \u001B[38;5;34m0\u001B[0m │\n├─────────────────────────────────┼────────────────────────┼───────────────┤\n│ dense_56 (\u001B[38;5;33mDense\u001B[0m)                │ (\u001B[38;5;45mNone\u001B[0m, \u001B[38;5;34m64\u001B[0m)             │       \u001B[38;5;34m409,664\u001B[0m │\n├─────────────────────────────────┼────────────────────────┼───────────────┤\n│ activation_165 (\u001B[38;5;33mActivation\u001B[0m)     │ (\u001B[38;5;45mNone\u001B[0m, \u001B[38;5;34m64\u001B[0m)             │             \u001B[38;5;34m0\u001B[0m │\n├─────────────────────────────────┼────────────────────────┼───────────────┤\n│ dropout_28 (\u001B[38;5;33mDropout\u001B[0m)            │ (\u001B[38;5;45mNone\u001B[0m, \u001B[38;5;34m64\u001B[0m)             │             \u001B[38;5;34m0\u001B[0m │\n├─────────────────────────────────┼────────────────────────┼───────────────┤\n│ dense_57 (\u001B[38;5;33mDense\u001B[0m)                │ (\u001B[38;5;45mNone\u001B[0m, \u001B[38;5;34m10\u001B[0m)             │           \u001B[38;5;34m650\u001B[0m │\n├─────────────────────────────────┼────────────────────────┼───────────────┤\n│ activation_166 (\u001B[38;5;33mActivation\u001B[0m)     │ (\u001B[38;5;45mNone\u001B[0m, \u001B[38;5;34m10\u001B[0m)             │             \u001B[38;5;34m0\u001B[0m │\n└─────────────────────────────────┴────────────────────────┴───────────────┘\n",
      "text/html": "<pre style=\"white-space:pre;overflow-x:auto;line-height:normal;font-family:Menlo,'DejaVu Sans Mono',consolas,'Courier New',monospace\">┏━━━━━━━━━━━━━━━━━━━━━━━━━━━━━━━━━┳━━━━━━━━━━━━━━━━━━━━━━━━┳━━━━━━━━━━━━━━━┓\n┃<span style=\"font-weight: bold\"> Layer (type)                    </span>┃<span style=\"font-weight: bold\"> Output Shape           </span>┃<span style=\"font-weight: bold\">       Param # </span>┃\n┡━━━━━━━━━━━━━━━━━━━━━━━━━━━━━━━━━╇━━━━━━━━━━━━━━━━━━━━━━━━╇━━━━━━━━━━━━━━━┩\n│ conv2d_104 (<span style=\"color: #0087ff; text-decoration-color: #0087ff\">Conv2D</span>)             │ (<span style=\"color: #00d7ff; text-decoration-color: #00d7ff\">None</span>, <span style=\"color: #00af00; text-decoration-color: #00af00\">222</span>, <span style=\"color: #00af00; text-decoration-color: #00af00\">222</span>, <span style=\"color: #00af00; text-decoration-color: #00af00\">32</span>)   │           <span style=\"color: #00af00; text-decoration-color: #00af00\">896</span> │\n├─────────────────────────────────┼────────────────────────┼───────────────┤\n│ activation_160 (<span style=\"color: #0087ff; text-decoration-color: #0087ff\">Activation</span>)     │ (<span style=\"color: #00d7ff; text-decoration-color: #00d7ff\">None</span>, <span style=\"color: #00af00; text-decoration-color: #00af00\">222</span>, <span style=\"color: #00af00; text-decoration-color: #00af00\">222</span>, <span style=\"color: #00af00; text-decoration-color: #00af00\">32</span>)   │             <span style=\"color: #00af00; text-decoration-color: #00af00\">0</span> │\n├─────────────────────────────────┼────────────────────────┼───────────────┤\n│ max_pooling2d_94 (<span style=\"color: #0087ff; text-decoration-color: #0087ff\">MaxPooling2D</span>) │ (<span style=\"color: #00d7ff; text-decoration-color: #00d7ff\">None</span>, <span style=\"color: #00af00; text-decoration-color: #00af00\">111</span>, <span style=\"color: #00af00; text-decoration-color: #00af00\">111</span>, <span style=\"color: #00af00; text-decoration-color: #00af00\">32</span>)   │             <span style=\"color: #00af00; text-decoration-color: #00af00\">0</span> │\n├─────────────────────────────────┼────────────────────────┼───────────────┤\n│ conv2d_105 (<span style=\"color: #0087ff; text-decoration-color: #0087ff\">Conv2D</span>)             │ (<span style=\"color: #00d7ff; text-decoration-color: #00d7ff\">None</span>, <span style=\"color: #00af00; text-decoration-color: #00af00\">109</span>, <span style=\"color: #00af00; text-decoration-color: #00af00\">109</span>, <span style=\"color: #00af00; text-decoration-color: #00af00\">32</span>)   │         <span style=\"color: #00af00; text-decoration-color: #00af00\">9,248</span> │\n├─────────────────────────────────┼────────────────────────┼───────────────┤\n│ activation_161 (<span style=\"color: #0087ff; text-decoration-color: #0087ff\">Activation</span>)     │ (<span style=\"color: #00d7ff; text-decoration-color: #00d7ff\">None</span>, <span style=\"color: #00af00; text-decoration-color: #00af00\">109</span>, <span style=\"color: #00af00; text-decoration-color: #00af00\">109</span>, <span style=\"color: #00af00; text-decoration-color: #00af00\">32</span>)   │             <span style=\"color: #00af00; text-decoration-color: #00af00\">0</span> │\n├─────────────────────────────────┼────────────────────────┼───────────────┤\n│ max_pooling2d_95 (<span style=\"color: #0087ff; text-decoration-color: #0087ff\">MaxPooling2D</span>) │ (<span style=\"color: #00d7ff; text-decoration-color: #00d7ff\">None</span>, <span style=\"color: #00af00; text-decoration-color: #00af00\">54</span>, <span style=\"color: #00af00; text-decoration-color: #00af00\">54</span>, <span style=\"color: #00af00; text-decoration-color: #00af00\">32</span>)     │             <span style=\"color: #00af00; text-decoration-color: #00af00\">0</span> │\n├─────────────────────────────────┼────────────────────────┼───────────────┤\n│ conv2d_106 (<span style=\"color: #0087ff; text-decoration-color: #0087ff\">Conv2D</span>)             │ (<span style=\"color: #00d7ff; text-decoration-color: #00d7ff\">None</span>, <span style=\"color: #00af00; text-decoration-color: #00af00\">52</span>, <span style=\"color: #00af00; text-decoration-color: #00af00\">52</span>, <span style=\"color: #00af00; text-decoration-color: #00af00\">64</span>)     │        <span style=\"color: #00af00; text-decoration-color: #00af00\">18,496</span> │\n├─────────────────────────────────┼────────────────────────┼───────────────┤\n│ activation_162 (<span style=\"color: #0087ff; text-decoration-color: #0087ff\">Activation</span>)     │ (<span style=\"color: #00d7ff; text-decoration-color: #00d7ff\">None</span>, <span style=\"color: #00af00; text-decoration-color: #00af00\">52</span>, <span style=\"color: #00af00; text-decoration-color: #00af00\">52</span>, <span style=\"color: #00af00; text-decoration-color: #00af00\">64</span>)     │             <span style=\"color: #00af00; text-decoration-color: #00af00\">0</span> │\n├─────────────────────────────────┼────────────────────────┼───────────────┤\n│ max_pooling2d_96 (<span style=\"color: #0087ff; text-decoration-color: #0087ff\">MaxPooling2D</span>) │ (<span style=\"color: #00d7ff; text-decoration-color: #00d7ff\">None</span>, <span style=\"color: #00af00; text-decoration-color: #00af00\">26</span>, <span style=\"color: #00af00; text-decoration-color: #00af00\">26</span>, <span style=\"color: #00af00; text-decoration-color: #00af00\">64</span>)     │             <span style=\"color: #00af00; text-decoration-color: #00af00\">0</span> │\n├─────────────────────────────────┼────────────────────────┼───────────────┤\n│ conv2d_107 (<span style=\"color: #0087ff; text-decoration-color: #0087ff\">Conv2D</span>)             │ (<span style=\"color: #00d7ff; text-decoration-color: #00d7ff\">None</span>, <span style=\"color: #00af00; text-decoration-color: #00af00\">24</span>, <span style=\"color: #00af00; text-decoration-color: #00af00\">24</span>, <span style=\"color: #00af00; text-decoration-color: #00af00\">64</span>)     │        <span style=\"color: #00af00; text-decoration-color: #00af00\">36,928</span> │\n├─────────────────────────────────┼────────────────────────┼───────────────┤\n│ activation_163 (<span style=\"color: #0087ff; text-decoration-color: #0087ff\">Activation</span>)     │ (<span style=\"color: #00d7ff; text-decoration-color: #00d7ff\">None</span>, <span style=\"color: #00af00; text-decoration-color: #00af00\">24</span>, <span style=\"color: #00af00; text-decoration-color: #00af00\">24</span>, <span style=\"color: #00af00; text-decoration-color: #00af00\">64</span>)     │             <span style=\"color: #00af00; text-decoration-color: #00af00\">0</span> │\n├─────────────────────────────────┼────────────────────────┼───────────────┤\n│ max_pooling2d_97 (<span style=\"color: #0087ff; text-decoration-color: #0087ff\">MaxPooling2D</span>) │ (<span style=\"color: #00d7ff; text-decoration-color: #00d7ff\">None</span>, <span style=\"color: #00af00; text-decoration-color: #00af00\">12</span>, <span style=\"color: #00af00; text-decoration-color: #00af00\">12</span>, <span style=\"color: #00af00; text-decoration-color: #00af00\">64</span>)     │             <span style=\"color: #00af00; text-decoration-color: #00af00\">0</span> │\n├─────────────────────────────────┼────────────────────────┼───────────────┤\n│ conv2d_108 (<span style=\"color: #0087ff; text-decoration-color: #0087ff\">Conv2D</span>)             │ (<span style=\"color: #00d7ff; text-decoration-color: #00d7ff\">None</span>, <span style=\"color: #00af00; text-decoration-color: #00af00\">10</span>, <span style=\"color: #00af00; text-decoration-color: #00af00\">10</span>, <span style=\"color: #00af00; text-decoration-color: #00af00\">64</span>)     │        <span style=\"color: #00af00; text-decoration-color: #00af00\">36,928</span> │\n├─────────────────────────────────┼────────────────────────┼───────────────┤\n│ activation_164 (<span style=\"color: #0087ff; text-decoration-color: #0087ff\">Activation</span>)     │ (<span style=\"color: #00d7ff; text-decoration-color: #00d7ff\">None</span>, <span style=\"color: #00af00; text-decoration-color: #00af00\">10</span>, <span style=\"color: #00af00; text-decoration-color: #00af00\">10</span>, <span style=\"color: #00af00; text-decoration-color: #00af00\">64</span>)     │             <span style=\"color: #00af00; text-decoration-color: #00af00\">0</span> │\n├─────────────────────────────────┼────────────────────────┼───────────────┤\n│ flatten_28 (<span style=\"color: #0087ff; text-decoration-color: #0087ff\">Flatten</span>)            │ (<span style=\"color: #00d7ff; text-decoration-color: #00d7ff\">None</span>, <span style=\"color: #00af00; text-decoration-color: #00af00\">6400</span>)           │             <span style=\"color: #00af00; text-decoration-color: #00af00\">0</span> │\n├─────────────────────────────────┼────────────────────────┼───────────────┤\n│ dense_56 (<span style=\"color: #0087ff; text-decoration-color: #0087ff\">Dense</span>)                │ (<span style=\"color: #00d7ff; text-decoration-color: #00d7ff\">None</span>, <span style=\"color: #00af00; text-decoration-color: #00af00\">64</span>)             │       <span style=\"color: #00af00; text-decoration-color: #00af00\">409,664</span> │\n├─────────────────────────────────┼────────────────────────┼───────────────┤\n│ activation_165 (<span style=\"color: #0087ff; text-decoration-color: #0087ff\">Activation</span>)     │ (<span style=\"color: #00d7ff; text-decoration-color: #00d7ff\">None</span>, <span style=\"color: #00af00; text-decoration-color: #00af00\">64</span>)             │             <span style=\"color: #00af00; text-decoration-color: #00af00\">0</span> │\n├─────────────────────────────────┼────────────────────────┼───────────────┤\n│ dropout_28 (<span style=\"color: #0087ff; text-decoration-color: #0087ff\">Dropout</span>)            │ (<span style=\"color: #00d7ff; text-decoration-color: #00d7ff\">None</span>, <span style=\"color: #00af00; text-decoration-color: #00af00\">64</span>)             │             <span style=\"color: #00af00; text-decoration-color: #00af00\">0</span> │\n├─────────────────────────────────┼────────────────────────┼───────────────┤\n│ dense_57 (<span style=\"color: #0087ff; text-decoration-color: #0087ff\">Dense</span>)                │ (<span style=\"color: #00d7ff; text-decoration-color: #00d7ff\">None</span>, <span style=\"color: #00af00; text-decoration-color: #00af00\">10</span>)             │           <span style=\"color: #00af00; text-decoration-color: #00af00\">650</span> │\n├─────────────────────────────────┼────────────────────────┼───────────────┤\n│ activation_166 (<span style=\"color: #0087ff; text-decoration-color: #0087ff\">Activation</span>)     │ (<span style=\"color: #00d7ff; text-decoration-color: #00d7ff\">None</span>, <span style=\"color: #00af00; text-decoration-color: #00af00\">10</span>)             │             <span style=\"color: #00af00; text-decoration-color: #00af00\">0</span> │\n└─────────────────────────────────┴────────────────────────┴───────────────┘\n</pre>\n"
     },
     "metadata": {},
     "output_type": "display_data"
    },
    {
     "data": {
      "text/plain": "\u001B[1m Total params: \u001B[0m\u001B[38;5;34m512,810\u001B[0m (1.96 MB)\n",
      "text/html": "<pre style=\"white-space:pre;overflow-x:auto;line-height:normal;font-family:Menlo,'DejaVu Sans Mono',consolas,'Courier New',monospace\"><span style=\"font-weight: bold\"> Total params: </span><span style=\"color: #00af00; text-decoration-color: #00af00\">512,810</span> (1.96 MB)\n</pre>\n"
     },
     "metadata": {},
     "output_type": "display_data"
    },
    {
     "data": {
      "text/plain": "\u001B[1m Trainable params: \u001B[0m\u001B[38;5;34m512,810\u001B[0m (1.96 MB)\n",
      "text/html": "<pre style=\"white-space:pre;overflow-x:auto;line-height:normal;font-family:Menlo,'DejaVu Sans Mono',consolas,'Courier New',monospace\"><span style=\"font-weight: bold\"> Trainable params: </span><span style=\"color: #00af00; text-decoration-color: #00af00\">512,810</span> (1.96 MB)\n</pre>\n"
     },
     "metadata": {},
     "output_type": "display_data"
    },
    {
     "data": {
      "text/plain": "\u001B[1m Non-trainable params: \u001B[0m\u001B[38;5;34m0\u001B[0m (0.00 B)\n",
      "text/html": "<pre style=\"white-space:pre;overflow-x:auto;line-height:normal;font-family:Menlo,'DejaVu Sans Mono',consolas,'Courier New',monospace\"><span style=\"font-weight: bold\"> Non-trainable params: </span><span style=\"color: #00af00; text-decoration-color: #00af00\">0</span> (0.00 B)\n</pre>\n"
     },
     "metadata": {},
     "output_type": "display_data"
    }
   ],
   "source": [
    "model.summary()"
   ],
   "metadata": {
    "collapsed": false,
    "ExecuteTime": {
     "end_time": "2024-06-26T08:04:55.889392Z",
     "start_time": "2024-06-26T08:04:55.770608Z"
    }
   },
   "id": "4c9d90714ac08376",
   "execution_count": 49
  },
  {
   "cell_type": "code",
   "outputs": [],
   "source": [
    "# Compilation\n",
    "model.compile(loss='categorical_crossentropy',\n",
    "              optimizer=SGD(learning_rate=0.001, momentum=0.9),\n",
    "              metrics=['accuracy'])"
   ],
   "metadata": {
    "collapsed": false,
    "ExecuteTime": {
     "end_time": "2024-06-26T08:04:57.092774Z",
     "start_time": "2024-06-26T08:04:57.079661Z"
    }
   },
   "id": "700bf82b31bb2f35",
   "execution_count": 50
  },
  {
   "cell_type": "code",
   "outputs": [
    {
     "name": "stdout",
     "output_type": "stream",
     "text": [
      "Epoch 1/20\n",
      "41/41 - 65s - 2s/step - accuracy: 0.1125 - loss: 2.3001 - val_accuracy: 0.1165 - val_loss: 2.2978\n",
      "Epoch 2/20\n",
      "41/41 - 62s - 2s/step - accuracy: 0.1032 - loss: 2.2983 - val_accuracy: 0.1165 - val_loss: 2.2958\n",
      "Epoch 3/20\n",
      "41/41 - 58s - 1s/step - accuracy: 0.1163 - loss: 2.2979 - val_accuracy: 0.1165 - val_loss: 2.2952\n",
      "Epoch 4/20\n",
      "41/41 - 60s - 1s/step - accuracy: 0.1148 - loss: 2.2960 - val_accuracy: 0.1165 - val_loss: 2.2934\n",
      "Epoch 5/20\n",
      "41/41 - 59s - 1s/step - accuracy: 0.1140 - loss: 2.2959 - val_accuracy: 0.1165 - val_loss: 2.2928\n",
      "Epoch 6/20\n",
      "41/41 - 59s - 1s/step - accuracy: 0.1133 - loss: 2.2922 - val_accuracy: 0.1165 - val_loss: 2.2910\n",
      "Epoch 7/20\n",
      "41/41 - 58s - 1s/step - accuracy: 0.1025 - loss: 2.2943 - val_accuracy: 0.1165 - val_loss: 2.2915\n",
      "Epoch 8/20\n",
      "41/41 - 57s - 1s/step - accuracy: 0.1071 - loss: 2.2910 - val_accuracy: 0.1165 - val_loss: 2.2883\n",
      "Epoch 9/20\n",
      "41/41 - 59s - 1s/step - accuracy: 0.1148 - loss: 2.2901 - val_accuracy: 0.1165 - val_loss: 2.2870\n",
      "Epoch 10/20\n",
      "41/41 - 66s - 2s/step - accuracy: 0.1263 - loss: 2.2880 - val_accuracy: 0.1165 - val_loss: 2.2830\n",
      "Epoch 11/20\n",
      "41/41 - 64s - 2s/step - accuracy: 0.1217 - loss: 2.2819 - val_accuracy: 0.1220 - val_loss: 2.2782\n",
      "Epoch 12/20\n",
      "41/41 - 69s - 2s/step - accuracy: 0.1240 - loss: 2.2797 - val_accuracy: 0.1436 - val_loss: 2.2797\n",
      "Epoch 13/20\n",
      "41/41 - 58s - 1s/step - accuracy: 0.1256 - loss: 2.2768 - val_accuracy: 0.1409 - val_loss: 2.2705\n",
      "Epoch 14/20\n",
      "41/41 - 70s - 2s/step - accuracy: 0.1410 - loss: 2.2700 - val_accuracy: 0.1192 - val_loss: 2.2606\n",
      "Epoch 15/20\n",
      "41/41 - 69s - 2s/step - accuracy: 0.1464 - loss: 2.2589 - val_accuracy: 0.1328 - val_loss: 2.2493\n",
      "Epoch 16/20\n",
      "41/41 - 60s - 1s/step - accuracy: 0.1479 - loss: 2.2551 - val_accuracy: 0.1789 - val_loss: 2.2412\n",
      "Epoch 17/20\n",
      "41/41 - 58s - 1s/step - accuracy: 0.1441 - loss: 2.2529 - val_accuracy: 0.1978 - val_loss: 2.2283\n",
      "Epoch 18/20\n",
      "41/41 - 60s - 1s/step - accuracy: 0.1471 - loss: 2.2407 - val_accuracy: 0.2276 - val_loss: 2.2147\n",
      "Epoch 19/20\n",
      "41/41 - 63s - 2s/step - accuracy: 0.1810 - loss: 2.2267 - val_accuracy: 0.1653 - val_loss: 2.2139\n",
      "Epoch 20/20\n",
      "41/41 - 63s - 2s/step - accuracy: 0.1556 - loss: 2.2401 - val_accuracy: 0.1897 - val_loss: 2.2078\n"
     ]
    }
   ],
   "source": [
    "# Entraînement the model\n",
    "model_info = model.fit(\n",
    "    train_generator,\n",
    "    epochs=20,\n",
    "    validation_data=val_generator,\n",
    "    verbose=2\n",
    ")"
   ],
   "metadata": {
    "collapsed": false,
    "ExecuteTime": {
     "end_time": "2024-06-26T08:25:34.928917Z",
     "start_time": "2024-06-26T08:04:58.343140Z"
    }
   },
   "id": "59902404536426d5",
   "execution_count": 51
  },
  {
   "cell_type": "code",
   "outputs": [
    {
     "name": "stdout",
     "output_type": "stream",
     "text": [
      "\u001B[1m7/7\u001B[0m \u001B[32m━━━━━━━━━━━━━━━━━━━━\u001B[0m\u001B[37m\u001B[0m \u001B[1m5s\u001B[0m 582ms/step - accuracy: 0.1338 - loss: 2.2566\n",
      "Test accuracy: 0.17098446190357208\n"
     ]
    }
   ],
   "source": [
    "# Evaluation du modèle sur le jeu de test\n",
    "test_loss, test_acc = model.evaluate(test_generator)\n",
    "print(f'Test accuracy: {test_acc}')"
   ],
   "metadata": {
    "collapsed": false,
    "ExecuteTime": {
     "end_time": "2024-06-26T08:26:07.549328Z",
     "start_time": "2024-06-26T08:26:01.184237Z"
    }
   },
   "id": "139e667c155b32e4",
   "execution_count": 52
  },
  {
   "cell_type": "code",
   "outputs": [
    {
     "data": {
      "text/plain": "<Figure size 1200x400 with 2 Axes>",
      "image/png": "[encoded data removed]"
     },
     "metadata": {},
     "output_type": "display_data"
    }
   ],
   "source": [
    "# Visualisation de l'historique d'entraînement\n",
    "history = model_info.history\n",
    "\n",
    "plt.figure(figsize=(12, 4))\n",
    "plt.subplot(1, 2, 1)\n",
    "plt.plot(history['accuracy'])\n",
    "plt.plot(history['val_accuracy'])\n",
    "plt.title('Model accuracy')\n",
    "plt.ylabel('Accuracy')\n",
    "plt.xlabel('Epoch')\n",
    "plt.legend(['Train', 'Validation'], loc='upper left')\n",
    "\n",
    "plt.subplot(1, 2, 2)\n",
    "plt.plot(history['loss'])\n",
    "plt.plot(history['val_loss'])\n",
    "plt.title('Model loss')\n",
    "plt.ylabel('Loss')\n",
    "plt.xlabel('Epoch')\n",
    "plt.legend(['Train', 'Validation'], loc='upper left')\n",
    "\n",
    "plt.show()"
   ],
   "metadata": {
    "collapsed": false,
    "ExecuteTime": {
     "end_time": "2024-06-26T08:26:14.748775Z",
     "start_time": "2024-06-26T08:26:12.707560Z"
    }
   },
   "id": "87242b49aa402af9",
   "execution_count": 53
  },
  {
   "cell_type": "code",
   "outputs": [
    {
     "name": "stdout",
     "output_type": "stream",
     "text": [
      "\u001B[1m7/7\u001B[0m \u001B[32m━━━━━━━━━━━━━━━━━━━━\u001B[0m\u001B[37m\u001B[0m \u001B[1m4s\u001B[0m 443ms/step\n",
      "Classification Report:\n",
      "                               precision    recall  f1-score   support\n",
      "\n",
      "          n02085620-Chihuahua       0.00      0.00      0.00        16\n",
      "   n02086646-Blenheim-spaniel       0.00      0.00      0.00        20\n",
      "             n02088364-beagle       0.00      0.00      0.00        20\n",
      " n02091467-Norwegian-elkhound       0.13      0.75      0.22        20\n",
      "             n02091831-Saluki       0.00      0.00      0.00        20\n",
      " n02099712-Labrador-retriever       0.00      0.00      0.00        18\n",
      "      n02109525-Saint-Bernard       0.31      0.50      0.38        18\n",
      "                n02110958-pug       0.00      0.00      0.00        20\n",
      "         n02112018-Pomeranian       0.30      0.13      0.18        23\n",
      "n02116738-African-hunting-dog       0.30      0.33      0.32        18\n",
      "\n",
      "                     accuracy                           0.17       193\n",
      "                    macro avg       0.10      0.17      0.11       193\n",
      "                 weighted avg       0.11      0.17      0.11       193\n"
     ]
    },
    {
     "name": "stderr",
     "output_type": "stream",
     "text": [
      "/Users/tom/Library/Caches/pypoetry/virtualenvs/p6-v1-9AHp3l9q-py3.10/lib/python3.10/site-packages/sklearn/metrics/_classification.py:1517: UndefinedMetricWarning: Precision is ill-defined and being set to 0.0 in labels with no predicted samples. Use `zero_division` parameter to control this behavior.\n",
      "  _warn_prf(average, modifier, f\"{metric.capitalize()} is\", len(result))\n",
      "/Users/tom/Library/Caches/pypoetry/virtualenvs/p6-v1-9AHp3l9q-py3.10/lib/python3.10/site-packages/sklearn/metrics/_classification.py:1517: UndefinedMetricWarning: Precision is ill-defined and being set to 0.0 in labels with no predicted samples. Use `zero_division` parameter to control this behavior.\n",
      "  _warn_prf(average, modifier, f\"{metric.capitalize()} is\", len(result))\n",
      "/Users/tom/Library/Caches/pypoetry/virtualenvs/p6-v1-9AHp3l9q-py3.10/lib/python3.10/site-packages/sklearn/metrics/_classification.py:1517: UndefinedMetricWarning: Precision is ill-defined and being set to 0.0 in labels with no predicted samples. Use `zero_division` parameter to control this behavior.\n",
      "  _warn_prf(average, modifier, f\"{metric.capitalize()} is\", len(result))\n"
     ]
    },
    {
     "data": {
      "text/plain": "<Figure size 1000x800 with 2 Axes>",
      "image/png": "[encoded data removed]"
     },
     "metadata": {},
     "output_type": "display_data"
    }
   ],
   "source": [
    "# Classification report et confusion matrix\n",
    "y_pred = model.predict(test_generator)\n",
    "y_pred_classes = np.argmax(y_pred, axis=1)\n",
    "y_true = test_generator.classes\n",
    "\n",
    "print(\"Classification Report:\")\n",
    "print(classification_report(y_true, y_pred_classes, target_names=test_generator.class_indices.keys()))\n",
    "\n",
    "cm = confusion_matrix(y_true, y_pred_classes)\n",
    "plt.figure(figsize=(10, 8))\n",
    "sns.heatmap(cm, annot=True, fmt='d', cmap='Blues', xticklabels=test_generator.class_indices.keys(),\n",
    "            yticklabels=test_generator.class_indices.keys())\n",
    "plt.xlabel('Predicted')\n",
    "plt.ylabel('True')\n",
    "plt.title('Confusion Matrix')\n",
    "plt.show()"
   ],
   "metadata": {
    "collapsed": false,
    "ExecuteTime": {
     "end_time": "2024-06-26T08:26:22.051372Z",
     "start_time": "2024-06-26T08:26:16.380976Z"
    }
   },
   "id": "6730837c81647d66",
   "execution_count": 54
  },
  {
   "cell_type": "code",
   "outputs": [],
   "source": [
    "# Fonction de création du modèle à 3 couches\n",
    "def create_model_3_couches():\n",
    "    model = Sequential()\n",
    "    model.add(Conv2D(32, (3, 3), input_shape=(224, 224, 3)))\n",
    "    model.add(Activation('relu'))\n",
    "    model.add(MaxPooling2D(pool_size=(2, 2)))\n",
    "\n",
    "    model.add(Conv2D(32, (3, 3)))\n",
    "    model.add(Activation('relu'))\n",
    "    model.add(MaxPooling2D(pool_size=(2, 2)))\n",
    "\n",
    "    model.add(Conv2D(64, (3, 3)))\n",
    "    model.add(Activation('relu'))\n",
    "    model.add(MaxPooling2D(pool_size=(2, 2)))\n",
    "\n",
    "    model.add(Flatten())\n",
    "    model.add(Dense(64))\n",
    "    model.add(Activation('relu'))\n",
    "    model.add(Dropout(0.5))\n",
    "    model.add(Dense(10))  # 10 classes for 10 breeds\n",
    "    model.add(Activation('softmax'))\n",
    "\n",
    "    return model"
   ],
   "metadata": {
    "collapsed": false,
    "ExecuteTime": {
     "end_time": "2024-06-26T08:26:26.725433Z",
     "start_time": "2024-06-26T08:26:26.697587Z"
    }
   },
   "id": "e2d81a2c995935f4",
   "execution_count": 55
  },
  {
   "cell_type": "code",
   "outputs": [],
   "source": [
    "train_datagen = ImageDataGenerator(\n",
    "    rescale=1./255,\n",
    ")\n",
    "val_datagen = ImageDataGenerator(\n",
    "    rescale=1./255  # Normalize pixel values\n",
    ")\n",
    "test_datagen = ImageDataGenerator(\n",
    "    rescale=1./255  # Normalize pixel values\n",
    ")"
   ],
   "metadata": {
    "collapsed": false,
    "ExecuteTime": {
     "end_time": "2024-06-26T08:26:27.661286Z",
     "start_time": "2024-06-26T08:26:27.653125Z"
    }
   },
   "id": "466ffe86f4c24db8",
   "execution_count": 56
  },
  {
   "cell_type": "code",
   "outputs": [
    {
     "name": "stdout",
     "output_type": "stream",
     "text": [
      "Found 1298 images belonging to 10 classes.\n",
      "Found 369 images belonging to 10 classes.\n",
      "Found 193 images belonging to 10 classes.\n"
     ]
    }
   ],
   "source": [
    "# Chargement des données\n",
    "train_generator = train_datagen.flow_from_directory(\n",
    "    train_dir,\n",
    "    target_size=(224, 224),\n",
    "    batch_size=batch_size,\n",
    "    class_mode='categorical'\n",
    ")\n",
    "val_generator = val_datagen.flow_from_directory(\n",
    "    val_dir,\n",
    "    target_size=(224, 224),\n",
    "    batch_size=batch_size,\n",
    "    class_mode='categorical'\n",
    ")\n",
    "test_generator = test_datagen.flow_from_directory(\n",
    "    test_dir,\n",
    "    target_size=(224, 224),\n",
    "    batch_size=batch_size,\n",
    "    class_mode='categorical',\n",
    "    shuffle=False\n",
    ")"
   ],
   "metadata": {
    "collapsed": false,
    "ExecuteTime": {
     "end_time": "2024-06-26T08:26:28.813927Z",
     "start_time": "2024-06-26T08:26:28.449417Z"
    }
   },
   "id": "c4db280964be0c77",
   "execution_count": 57
  },
  {
   "cell_type": "code",
   "outputs": [
    {
     "data": {
      "text/plain": "<Experiment: artifact_location='mlflow-artifacts:/925267995700102517', creation_time=1717666661730, experiment_id='925267995700102517', last_update_time=1717666661730, lifecycle_stage='active', name='CNN', tags={}>"
     },
     "execution_count": 58,
     "metadata": {},
     "output_type": "execute_result"
    }
   ],
   "source": [
    "mlflow.set_tracking_uri(uri=\"http://127.0.0.1:8080\")\n",
    "# Define MLflow experiment name\n",
    "mlflow.set_experiment(\"CNN\")"
   ],
   "metadata": {
    "collapsed": false,
    "ExecuteTime": {
     "end_time": "2024-06-26T08:26:29.958763Z",
     "start_time": "2024-06-26T08:26:29.860611Z"
    }
   },
   "id": "660ceb561660f382",
   "execution_count": 58
  },
  {
   "cell_type": "code",
   "outputs": [],
   "source": [
    "# Fonction d'entraînement du modèle\n",
    "def train_model_3_couches(batch_size, epochs, learning_rate):\n",
    "    model = create_model_3_couches()\n",
    "    optimizer=SGD(learning_rate=learning_rate, momentum=0.9)\n",
    "    model.compile(loss='categorical_crossentropy', optimizer=optimizer, metrics=['accuracy'])\n",
    "\n",
    "    # Start MLFlow run\n",
    "    with mlflow.start_run():\n",
    "        mlflow.log_param(\"batch_size\", batch_size)\n",
    "        mlflow.log_param(\"epochs\", epochs)\n",
    "        mlflow.log_param(\"learning_rate\", learning_rate)\n",
    "\n",
    "        # Enregistrement du temps d'entraînement du modèle\n",
    "        start_time = time.time()\n",
    "        \n",
    "        history = model.fit(\n",
    "            train_generator,\n",
    "            batch_size=batch_size,\n",
    "            epochs=epochs,\n",
    "            validation_data=val_generator,\n",
    "            verbose = 2\n",
    "        )\n",
    "        \n",
    "        # Fin du temps d'entraînement du modèle\n",
    "        end_time = time.time()\n",
    "\n",
    "        # Calcul du temps écoulé\n",
    "        elapsed_time = end_time - start_time\n",
    "\n",
    "        val_accuracy = history.history['val_accuracy'][-1]\n",
    "        mlflow.log_metric(\"val_accuracy\", val_accuracy)\n",
    "\n",
    "        # Enregistrement du temps écoulé comme une métrique\n",
    "        mlflow.log_metric(\"training_time\", elapsed_time)\n",
    "\n",
    "        mlflow.keras.log_model(model, \"model\")\n",
    "        \n",
    "        # Evaluation du modèle sur le jeu de test\n",
    "        test_loss, test_acc = model.evaluate(test_generator)\n",
    "        print(f'Test accuracy: {test_acc}')\n",
    "\n",
    "        # Enregistrement de la précision sur le jeu de test\n",
    "        mlflow.log_metric(\"test_accuracy\", test_acc)"
   ],
   "metadata": {
    "collapsed": false,
    "ExecuteTime": {
     "end_time": "2024-06-26T08:26:42.378308Z",
     "start_time": "2024-06-26T08:26:42.366679Z"
    }
   },
   "id": "df77fa5a0562e656",
   "execution_count": 59
  },
  {
   "cell_type": "code",
   "outputs": [],
   "source": [
    "# Hyperparamètres\n",
    "batch_sizes = [16, 32]\n",
    "epochs_list = [10, 20]\n",
    "learning_rates = [0.001, 0.0001]"
   ],
   "metadata": {
    "collapsed": false,
    "ExecuteTime": {
     "end_time": "2024-06-26T08:26:43.382174Z",
     "start_time": "2024-06-26T08:26:43.377374Z"
    }
   },
   "id": "cc8cf27acef8614c",
   "execution_count": 60
  },
  {
   "cell_type": "code",
   "outputs": [
    {
     "name": "stderr",
     "output_type": "stream",
     "text": [
      "/Users/tom/Library/Caches/pypoetry/virtualenvs/p6-v1-9AHp3l9q-py3.10/lib/python3.10/site-packages/keras/src/layers/convolutional/base_conv.py:107: UserWarning: Do not pass an `input_shape`/`input_dim` argument to a layer. When using Sequential models, prefer using an `Input(shape)` object as the first layer in the model instead.\n",
      "  super().__init__(activity_regularizer=activity_regularizer, **kwargs)\n"
     ]
    },
    {
     "name": "stdout",
     "output_type": "stream",
     "text": [
      "Epoch 1/10\n"
     ]
    },
    {
     "name": "stderr",
     "output_type": "stream",
     "text": [
      "/Users/tom/Library/Caches/pypoetry/virtualenvs/p6-v1-9AHp3l9q-py3.10/lib/python3.10/site-packages/keras/src/trainers/data_adapters/py_dataset_adapter.py:121: UserWarning: Your `PyDataset` class should call `super().__init__(**kwargs)` in its constructor. `**kwargs` can include `workers`, `use_multiprocessing`, `max_queue_size`. Do not pass these arguments to `fit()`, as they will be ignored.\n",
      "  self._warn_if_super_not_called()\n"
     ]
    },
    {
     "name": "stdout",
     "output_type": "stream",
     "text": [
      "41/41 - 63s - 2s/step - accuracy: 0.1156 - loss: 2.3097 - val_accuracy: 0.1220 - val_loss: 2.2995\n",
      "Epoch 2/10\n",
      "41/41 - 56s - 1s/step - accuracy: 0.1055 - loss: 2.3010 - val_accuracy: 0.1165 - val_loss: 2.2984\n",
      "Epoch 3/10\n",
      "41/41 - 57s - 1s/step - accuracy: 0.1202 - loss: 2.2986 - val_accuracy: 0.1165 - val_loss: 2.2986\n",
      "Epoch 4/10\n",
      "41/41 - 57s - 1s/step - accuracy: 0.1133 - loss: 2.3014 - val_accuracy: 0.1165 - val_loss: 2.2981\n",
      "Epoch 5/10\n",
      "41/41 - 57s - 1s/step - accuracy: 0.1071 - loss: 2.2986 - val_accuracy: 0.1165 - val_loss: 2.2972\n",
      "Epoch 6/10\n",
      "41/41 - 56s - 1s/step - accuracy: 0.0971 - loss: 2.2998 - val_accuracy: 0.1165 - val_loss: 2.2974\n",
      "Epoch 7/10\n",
      "41/41 - 57s - 1s/step - accuracy: 0.1094 - loss: 2.2992 - val_accuracy: 0.1165 - val_loss: 2.2973\n",
      "Epoch 8/10\n",
      "41/41 - 58s - 1s/step - accuracy: 0.1048 - loss: 2.2987 - val_accuracy: 0.1165 - val_loss: 2.2966\n",
      "Epoch 9/10\n",
      "41/41 - 58s - 1s/step - accuracy: 0.1079 - loss: 2.2977 - val_accuracy: 0.1165 - val_loss: 2.2954\n",
      "Epoch 10/10\n",
      "41/41 - 56s - 1s/step - accuracy: 0.1148 - loss: 2.2948 - val_accuracy: 0.1138 - val_loss: 2.2945\n"
     ]
    },
    {
     "name": "stderr",
     "output_type": "stream",
     "text": [
      "2024/06/26 10:36:21 WARNING mlflow.keras.save: You are saving a Keras model without specifying model signature.\n"
     ]
    },
    {
     "name": "stdout",
     "output_type": "stream",
     "text": [
      "\u001B[1m7/7\u001B[0m \u001B[32m━━━━━━━━━━━━━━━━━━━━\u001B[0m\u001B[37m\u001B[0m \u001B[1m4s\u001B[0m 495ms/step - accuracy: 0.1048 - loss: 2.3121\n",
      "Test accuracy: 0.1347150206565857\n",
      "Epoch 1/10\n",
      "41/41 - 59s - 1s/step - accuracy: 0.1079 - loss: 2.3021 - val_accuracy: 0.1030 - val_loss: 2.2997\n",
      "Epoch 2/10\n",
      "41/41 - 58s - 1s/step - accuracy: 0.1040 - loss: 2.3027 - val_accuracy: 0.0921 - val_loss: 2.2970\n",
      "Epoch 3/10\n",
      "41/41 - 59s - 1s/step - accuracy: 0.1071 - loss: 2.3025 - val_accuracy: 0.1138 - val_loss: 2.2968\n",
      "Epoch 4/10\n",
      "41/41 - 59s - 1s/step - accuracy: 0.1086 - loss: 2.2978 - val_accuracy: 0.1165 - val_loss: 2.2961\n",
      "Epoch 5/10\n",
      "41/41 - 67s - 2s/step - accuracy: 0.1156 - loss: 2.3023 - val_accuracy: 0.1165 - val_loss: 2.2961\n",
      "Epoch 6/10\n",
      "41/41 - 63s - 2s/step - accuracy: 0.1217 - loss: 2.2962 - val_accuracy: 0.1138 - val_loss: 2.2956\n",
      "Epoch 7/10\n",
      "41/41 - 74s - 2s/step - accuracy: 0.1086 - loss: 2.2993 - val_accuracy: 0.1084 - val_loss: 2.2956\n",
      "Epoch 8/10\n",
      "41/41 - 74s - 2s/step - accuracy: 0.1171 - loss: 2.2941 - val_accuracy: 0.1084 - val_loss: 2.2953\n",
      "Epoch 9/10\n",
      "41/41 - 79s - 2s/step - accuracy: 0.1048 - loss: 2.2987 - val_accuracy: 0.1057 - val_loss: 2.2956\n",
      "Epoch 10/10\n",
      "41/41 - 62s - 2s/step - accuracy: 0.0978 - loss: 2.3002 - val_accuracy: 0.1084 - val_loss: 2.2959\n"
     ]
    },
    {
     "name": "stderr",
     "output_type": "stream",
     "text": [
      "2024/06/26 10:47:32 WARNING mlflow.keras.save: You are saving a Keras model without specifying model signature.\n"
     ]
    },
    {
     "name": "stdout",
     "output_type": "stream",
     "text": [
      "\u001B[1m7/7\u001B[0m \u001B[32m━━━━━━━━━━━━━━━━━━━━\u001B[0m\u001B[37m\u001B[0m \u001B[1m4s\u001B[0m 469ms/step - accuracy: 0.0546 - loss: 2.3070\n",
      "Test accuracy: 0.10362694412469864\n",
      "Epoch 1/20\n",
      "41/41 - 70s - 2s/step - accuracy: 0.1032 - loss: 2.3075 - val_accuracy: 0.1084 - val_loss: 2.2981\n",
      "Epoch 2/20\n",
      "41/41 - 62s - 2s/step - accuracy: 0.1125 - loss: 2.2995 - val_accuracy: 0.1030 - val_loss: 2.2966\n",
      "Epoch 3/20\n",
      "41/41 - 67s - 2s/step - accuracy: 0.1163 - loss: 2.3003 - val_accuracy: 0.1057 - val_loss: 2.2974\n",
      "Epoch 4/20\n",
      "41/41 - 62s - 2s/step - accuracy: 0.1156 - loss: 2.2987 - val_accuracy: 0.1220 - val_loss: 2.2963\n",
      "Epoch 5/20\n",
      "41/41 - 69s - 2s/step - accuracy: 0.1063 - loss: 2.2983 - val_accuracy: 0.1138 - val_loss: 2.2950\n",
      "Epoch 6/20\n",
      "41/41 - 57s - 1s/step - accuracy: 0.1194 - loss: 2.2951 - val_accuracy: 0.1192 - val_loss: 2.2934\n",
      "Epoch 7/20\n",
      "41/41 - 65s - 2s/step - accuracy: 0.1217 - loss: 2.2958 - val_accuracy: 0.1111 - val_loss: 2.2916\n",
      "Epoch 8/20\n",
      "41/41 - 58s - 1s/step - accuracy: 0.1302 - loss: 2.2934 - val_accuracy: 0.1463 - val_loss: 2.2901\n",
      "Epoch 9/20\n",
      "41/41 - 60s - 1s/step - accuracy: 0.1418 - loss: 2.2893 - val_accuracy: 0.1192 - val_loss: 2.2868\n",
      "Epoch 10/20\n",
      "41/41 - 57s - 1s/step - accuracy: 0.1379 - loss: 2.2879 - val_accuracy: 0.1220 - val_loss: 2.2833\n",
      "Epoch 11/20\n",
      "41/41 - 58s - 1s/step - accuracy: 0.1263 - loss: 2.2880 - val_accuracy: 0.1355 - val_loss: 2.2803\n",
      "Epoch 12/20\n",
      "41/41 - 59s - 1s/step - accuracy: 0.1441 - loss: 2.2824 - val_accuracy: 0.1382 - val_loss: 2.2760\n",
      "Epoch 13/20\n",
      "41/41 - 62s - 2s/step - accuracy: 0.1263 - loss: 2.2824 - val_accuracy: 0.2033 - val_loss: 2.2717\n",
      "Epoch 14/20\n",
      "41/41 - 66s - 2s/step - accuracy: 0.1525 - loss: 2.2744 - val_accuracy: 0.2087 - val_loss: 2.2660\n",
      "Epoch 15/20\n",
      "41/41 - 64s - 2s/step - accuracy: 0.1502 - loss: 2.2691 - val_accuracy: 0.1518 - val_loss: 2.2603\n",
      "Epoch 16/20\n",
      "41/41 - 59s - 1s/step - accuracy: 0.1325 - loss: 2.2641 - val_accuracy: 0.1734 - val_loss: 2.2505\n",
      "Epoch 17/20\n",
      "41/41 - 61s - 1s/step - accuracy: 0.1510 - loss: 2.2604 - val_accuracy: 0.1897 - val_loss: 2.2509\n",
      "Epoch 18/20\n",
      "41/41 - 59s - 1s/step - accuracy: 0.1579 - loss: 2.2526 - val_accuracy: 0.1978 - val_loss: 2.2352\n",
      "Epoch 19/20\n",
      "41/41 - 60s - 1s/step - accuracy: 0.1687 - loss: 2.2395 - val_accuracy: 0.2033 - val_loss: 2.2245\n",
      "Epoch 20/20\n",
      "41/41 - 59s - 1s/step - accuracy: 0.1903 - loss: 2.2210 - val_accuracy: 0.2005 - val_loss: 2.2370\n"
     ]
    },
    {
     "name": "stderr",
     "output_type": "stream",
     "text": [
      "2024/06/26 11:08:23 WARNING mlflow.keras.save: You are saving a Keras model without specifying model signature.\n"
     ]
    },
    {
     "name": "stdout",
     "output_type": "stream",
     "text": [
      "\u001B[1m7/7\u001B[0m \u001B[32m━━━━━━━━━━━━━━━━━━━━\u001B[0m\u001B[37m\u001B[0m \u001B[1m3s\u001B[0m 350ms/step - accuracy: 0.1374 - loss: 2.2658\n",
      "Test accuracy: 0.1865285038948059\n",
      "Epoch 1/20\n",
      "41/41 - 65s - 2s/step - accuracy: 0.1133 - loss: 2.3013 - val_accuracy: 0.1057 - val_loss: 2.2991\n",
      "Epoch 2/20\n",
      "41/41 - 60s - 1s/step - accuracy: 0.1009 - loss: 2.3008 - val_accuracy: 0.1057 - val_loss: 2.2981\n",
      "Epoch 3/20\n",
      "41/41 - 62s - 2s/step - accuracy: 0.1017 - loss: 2.3003 - val_accuracy: 0.1057 - val_loss: 2.2971\n",
      "Epoch 4/20\n",
      "41/41 - 60s - 1s/step - accuracy: 0.1133 - loss: 2.2984 - val_accuracy: 0.1057 - val_loss: 2.2968\n",
      "Epoch 5/20\n",
      "41/41 - 60s - 1s/step - accuracy: 0.1040 - loss: 2.2972 - val_accuracy: 0.1057 - val_loss: 2.2966\n",
      "Epoch 6/20\n",
      "41/41 - 59s - 1s/step - accuracy: 0.1040 - loss: 2.2992 - val_accuracy: 0.1057 - val_loss: 2.2957\n",
      "Epoch 7/20\n",
      "41/41 - 67s - 2s/step - accuracy: 0.1148 - loss: 2.2941 - val_accuracy: 0.1057 - val_loss: 2.2951\n",
      "Epoch 8/20\n",
      "41/41 - 66s - 2s/step - accuracy: 0.1086 - loss: 2.2966 - val_accuracy: 0.1057 - val_loss: 2.2950\n",
      "Epoch 9/20\n",
      "41/41 - 59s - 1s/step - accuracy: 0.1225 - loss: 2.2956 - val_accuracy: 0.1030 - val_loss: 2.2949\n",
      "Epoch 10/20\n",
      "41/41 - 60s - 1s/step - accuracy: 0.1079 - loss: 2.2977 - val_accuracy: 0.1057 - val_loss: 2.2948\n",
      "Epoch 11/20\n",
      "41/41 - 68s - 2s/step - accuracy: 0.1048 - loss: 2.2979 - val_accuracy: 0.1192 - val_loss: 2.2948\n",
      "Epoch 12/20\n",
      "41/41 - 60s - 1s/step - accuracy: 0.1302 - loss: 2.2943 - val_accuracy: 0.1057 - val_loss: 2.2944\n",
      "Epoch 13/20\n",
      "41/41 - 60s - 1s/step - accuracy: 0.1094 - loss: 2.2947 - val_accuracy: 0.1084 - val_loss: 2.2941\n",
      "Epoch 14/20\n",
      "41/41 - 62s - 2s/step - accuracy: 0.1225 - loss: 2.2945 - val_accuracy: 0.1355 - val_loss: 2.2938\n",
      "Epoch 15/20\n",
      "41/41 - 61s - 1s/step - accuracy: 0.1194 - loss: 2.2940 - val_accuracy: 0.1111 - val_loss: 2.2933\n",
      "Epoch 16/20\n",
      "41/41 - 63s - 2s/step - accuracy: 0.1163 - loss: 2.2958 - val_accuracy: 0.1220 - val_loss: 2.2933\n",
      "Epoch 17/20\n",
      "41/41 - 63s - 2s/step - accuracy: 0.1140 - loss: 2.2929 - val_accuracy: 0.1328 - val_loss: 2.2931\n",
      "Epoch 18/20\n",
      "41/41 - 55s - 1s/step - accuracy: 0.1210 - loss: 2.2923 - val_accuracy: 0.1247 - val_loss: 2.2928\n",
      "Epoch 19/20\n",
      "41/41 - 55s - 1s/step - accuracy: 0.1240 - loss: 2.2953 - val_accuracy: 0.1301 - val_loss: 2.2927\n",
      "Epoch 20/20\n",
      "41/41 - 56s - 1s/step - accuracy: 0.1079 - loss: 2.2929 - val_accuracy: 0.1301 - val_loss: 2.2926\n"
     ]
    },
    {
     "name": "stderr",
     "output_type": "stream",
     "text": [
      "2024/06/26 11:28:58 WARNING mlflow.keras.save: You are saving a Keras model without specifying model signature.\n"
     ]
    },
    {
     "name": "stdout",
     "output_type": "stream",
     "text": [
      "\u001B[1m7/7\u001B[0m \u001B[32m━━━━━━━━━━━━━━━━━━━━\u001B[0m\u001B[37m\u001B[0m \u001B[1m3s\u001B[0m 396ms/step - accuracy: 0.0819 - loss: 2.3082\n",
      "Test accuracy: 0.13989637792110443\n",
      "Epoch 1/10\n",
      "41/41 - 66s - 2s/step - accuracy: 0.0894 - loss: 2.3108 - val_accuracy: 0.1084 - val_loss: 2.2983\n",
      "Epoch 2/10\n",
      "41/41 - 55s - 1s/step - accuracy: 0.0986 - loss: 2.3001 - val_accuracy: 0.1111 - val_loss: 2.2967\n",
      "Epoch 3/10\n",
      "41/41 - 63s - 2s/step - accuracy: 0.1025 - loss: 2.3003 - val_accuracy: 0.1084 - val_loss: 2.2966\n",
      "Epoch 4/10\n",
      "41/41 - 58s - 1s/step - accuracy: 0.1017 - loss: 2.2988 - val_accuracy: 0.1057 - val_loss: 2.2961\n",
      "Epoch 5/10\n",
      "41/41 - 54s - 1s/step - accuracy: 0.1063 - loss: 2.2954 - val_accuracy: 0.1084 - val_loss: 2.2935\n",
      "Epoch 6/10\n",
      "41/41 - 53s - 1s/step - accuracy: 0.1094 - loss: 2.2917 - val_accuracy: 0.1057 - val_loss: 2.2914\n",
      "Epoch 7/10\n",
      "41/41 - 55s - 1s/step - accuracy: 0.1079 - loss: 2.2926 - val_accuracy: 0.1247 - val_loss: 2.2912\n",
      "Epoch 8/10\n",
      "41/41 - 54s - 1s/step - accuracy: 0.1179 - loss: 2.2942 - val_accuracy: 0.1491 - val_loss: 2.2908\n",
      "Epoch 9/10\n",
      "41/41 - 55s - 1s/step - accuracy: 0.1217 - loss: 2.2923 - val_accuracy: 0.1409 - val_loss: 2.2874\n",
      "Epoch 10/10\n",
      "41/41 - 62s - 2s/step - accuracy: 0.1287 - loss: 2.2854 - val_accuracy: 0.1328 - val_loss: 2.2827\n"
     ]
    },
    {
     "name": "stderr",
     "output_type": "stream",
     "text": [
      "2024/06/26 11:38:48 WARNING mlflow.keras.save: You are saving a Keras model without specifying model signature.\n"
     ]
    },
    {
     "name": "stdout",
     "output_type": "stream",
     "text": [
      "\u001B[1m7/7\u001B[0m \u001B[32m━━━━━━━━━━━━━━━━━━━━\u001B[0m\u001B[37m\u001B[0m \u001B[1m3s\u001B[0m 362ms/step - accuracy: 0.0981 - loss: 2.3047\n",
      "Test accuracy: 0.13989637792110443\n",
      "Epoch 1/10\n",
      "41/41 - 56s - 1s/step - accuracy: 0.0932 - loss: 2.3157 - val_accuracy: 0.1165 - val_loss: 2.3010\n",
      "Epoch 2/10\n",
      "41/41 - 56s - 1s/step - accuracy: 0.1109 - loss: 2.3029 - val_accuracy: 0.1165 - val_loss: 2.2966\n",
      "Epoch 3/10\n",
      "41/41 - 54s - 1s/step - accuracy: 0.1194 - loss: 2.2998 - val_accuracy: 0.1111 - val_loss: 2.2955\n",
      "Epoch 4/10\n",
      "41/41 - 54s - 1s/step - accuracy: 0.1133 - loss: 2.2991 - val_accuracy: 0.1057 - val_loss: 2.2942\n",
      "Epoch 5/10\n",
      "41/41 - 54s - 1s/step - accuracy: 0.1186 - loss: 2.2986 - val_accuracy: 0.1301 - val_loss: 2.2940\n",
      "Epoch 6/10\n",
      "41/41 - 53s - 1s/step - accuracy: 0.1148 - loss: 2.2973 - val_accuracy: 0.1274 - val_loss: 2.2935\n",
      "Epoch 7/10\n",
      "41/41 - 53s - 1s/step - accuracy: 0.1256 - loss: 2.2957 - val_accuracy: 0.1192 - val_loss: 2.2929\n",
      "Epoch 8/10\n",
      "41/41 - 59s - 1s/step - accuracy: 0.1194 - loss: 2.2977 - val_accuracy: 0.1274 - val_loss: 2.2934\n",
      "Epoch 9/10\n",
      "41/41 - 55s - 1s/step - accuracy: 0.1217 - loss: 2.2938 - val_accuracy: 0.1057 - val_loss: 2.2932\n",
      "Epoch 10/10\n",
      "41/41 - 60s - 1s/step - accuracy: 0.1079 - loss: 2.2965 - val_accuracy: 0.1192 - val_loss: 2.2932\n"
     ]
    },
    {
     "name": "stderr",
     "output_type": "stream",
     "text": [
      "2024/06/26 11:48:16 WARNING mlflow.keras.save: You are saving a Keras model without specifying model signature.\n"
     ]
    },
    {
     "name": "stdout",
     "output_type": "stream",
     "text": [
      "\u001B[1m7/7\u001B[0m \u001B[32m━━━━━━━━━━━━━━━━━━━━\u001B[0m\u001B[37m\u001B[0m \u001B[1m2s\u001B[0m 302ms/step - accuracy: 0.1046 - loss: 2.2993\n",
      "Test accuracy: 0.0984455943107605\n",
      "Epoch 1/20\n",
      "41/41 - 54s - 1s/step - accuracy: 0.1171 - loss: 2.3074 - val_accuracy: 0.1111 - val_loss: 2.2999\n",
      "Epoch 2/20\n",
      "41/41 - 50s - 1s/step - accuracy: 0.0986 - loss: 2.3008 - val_accuracy: 0.1382 - val_loss: 2.2994\n",
      "Epoch 3/20\n",
      "41/41 - 48s - 1s/step - accuracy: 0.1002 - loss: 2.3028 - val_accuracy: 0.1274 - val_loss: 2.2986\n",
      "Epoch 4/20\n",
      "41/41 - 51s - 1s/step - accuracy: 0.1094 - loss: 2.2988 - val_accuracy: 0.1355 - val_loss: 2.2974\n",
      "Epoch 5/20\n",
      "41/41 - 51s - 1s/step - accuracy: 0.1079 - loss: 2.2998 - val_accuracy: 0.1084 - val_loss: 2.2974\n",
      "Epoch 6/20\n",
      "41/41 - 50s - 1s/step - accuracy: 0.1364 - loss: 2.2971 - val_accuracy: 0.1518 - val_loss: 2.2955\n",
      "Epoch 7/20\n",
      "41/41 - 50s - 1s/step - accuracy: 0.1225 - loss: 2.2978 - val_accuracy: 0.1463 - val_loss: 2.2947\n",
      "Epoch 8/20\n",
      "41/41 - 51s - 1s/step - accuracy: 0.1186 - loss: 2.2970 - val_accuracy: 0.1436 - val_loss: 2.2940\n",
      "Epoch 9/20\n",
      "41/41 - 50s - 1s/step - accuracy: 0.1225 - loss: 2.2936 - val_accuracy: 0.1816 - val_loss: 2.2919\n",
      "Epoch 10/20\n",
      "41/41 - 49s - 1s/step - accuracy: 0.1364 - loss: 2.2924 - val_accuracy: 0.1653 - val_loss: 2.2899\n",
      "Epoch 11/20\n",
      "41/41 - 49s - 1s/step - accuracy: 0.1348 - loss: 2.2923 - val_accuracy: 0.1545 - val_loss: 2.2881\n",
      "Epoch 12/20\n",
      "41/41 - 50s - 1s/step - accuracy: 0.1302 - loss: 2.2913 - val_accuracy: 0.1626 - val_loss: 2.2868\n",
      "Epoch 13/20\n",
      "41/41 - 50s - 1s/step - accuracy: 0.1456 - loss: 2.2858 - val_accuracy: 0.1653 - val_loss: 2.2829\n",
      "Epoch 14/20\n",
      "41/41 - 49s - 1s/step - accuracy: 0.1156 - loss: 2.2847 - val_accuracy: 0.1355 - val_loss: 2.2879\n",
      "Epoch 15/20\n",
      "41/41 - 49s - 1s/step - accuracy: 0.1356 - loss: 2.2837 - val_accuracy: 0.1301 - val_loss: 2.2782\n",
      "Epoch 16/20\n",
      "41/41 - 50s - 1s/step - accuracy: 0.1479 - loss: 2.2792 - val_accuracy: 0.1762 - val_loss: 2.2717\n",
      "Epoch 17/20\n",
      "41/41 - 49s - 1s/step - accuracy: 0.1294 - loss: 2.2820 - val_accuracy: 0.1734 - val_loss: 2.2684\n",
      "Epoch 18/20\n",
      "41/41 - 50s - 1s/step - accuracy: 0.1502 - loss: 2.2753 - val_accuracy: 0.1789 - val_loss: 2.2628\n",
      "Epoch 19/20\n",
      "41/41 - 49s - 1s/step - accuracy: 0.1572 - loss: 2.2744 - val_accuracy: 0.1572 - val_loss: 2.2628\n",
      "Epoch 20/20\n",
      "41/41 - 50s - 1s/step - accuracy: 0.1510 - loss: 2.2785 - val_accuracy: 0.1491 - val_loss: 2.2835\n"
     ]
    },
    {
     "name": "stderr",
     "output_type": "stream",
     "text": [
      "2024/06/26 12:05:09 WARNING mlflow.keras.save: You are saving a Keras model without specifying model signature.\n"
     ]
    },
    {
     "name": "stdout",
     "output_type": "stream",
     "text": [
      "\u001B[1m7/7\u001B[0m \u001B[32m━━━━━━━━━━━━━━━━━━━━\u001B[0m\u001B[37m\u001B[0m \u001B[1m2s\u001B[0m 321ms/step - accuracy: 0.1093 - loss: 2.2991\n",
      "Test accuracy: 0.16580310463905334\n",
      "Epoch 1/20\n",
      "41/41 - 51s - 1s/step - accuracy: 0.1225 - loss: 2.3076 - val_accuracy: 0.1165 - val_loss: 2.2986\n",
      "Epoch 2/20\n",
      "41/41 - 50s - 1s/step - accuracy: 0.1171 - loss: 2.2997 - val_accuracy: 0.1165 - val_loss: 2.2959\n",
      "Epoch 3/20\n",
      "41/41 - 53s - 1s/step - accuracy: 0.1148 - loss: 2.3024 - val_accuracy: 0.1084 - val_loss: 2.2966\n",
      "Epoch 4/20\n",
      "41/41 - 51s - 1s/step - accuracy: 0.1156 - loss: 2.2962 - val_accuracy: 0.1165 - val_loss: 2.2967\n",
      "Epoch 5/20\n",
      "41/41 - 53s - 1s/step - accuracy: 0.1148 - loss: 2.2957 - val_accuracy: 0.1003 - val_loss: 2.2965\n",
      "Epoch 6/20\n",
      "41/41 - 52s - 1s/step - accuracy: 0.1109 - loss: 2.2986 - val_accuracy: 0.1057 - val_loss: 2.2956\n",
      "Epoch 7/20\n",
      "41/41 - 50s - 1s/step - accuracy: 0.0963 - loss: 2.3008 - val_accuracy: 0.1084 - val_loss: 2.2954\n",
      "Epoch 8/20\n",
      "41/41 - 50s - 1s/step - accuracy: 0.0948 - loss: 2.2968 - val_accuracy: 0.1436 - val_loss: 2.2951\n",
      "Epoch 9/20\n",
      "41/41 - 50s - 1s/step - accuracy: 0.1079 - loss: 2.2973 - val_accuracy: 0.1111 - val_loss: 2.2949\n",
      "Epoch 10/20\n",
      "41/41 - 50s - 1s/step - accuracy: 0.1055 - loss: 2.2996 - val_accuracy: 0.1084 - val_loss: 2.2954\n",
      "Epoch 11/20\n",
      "41/41 - 50s - 1s/step - accuracy: 0.1071 - loss: 2.2994 - val_accuracy: 0.1328 - val_loss: 2.2956\n",
      "Epoch 12/20\n",
      "41/41 - 53s - 1s/step - accuracy: 0.0932 - loss: 2.2973 - val_accuracy: 0.1111 - val_loss: 2.2952\n",
      "Epoch 13/20\n",
      "41/41 - 51s - 1s/step - accuracy: 0.1109 - loss: 2.2953 - val_accuracy: 0.1274 - val_loss: 2.2944\n",
      "Epoch 14/20\n",
      "41/41 - 48s - 1s/step - accuracy: 0.1171 - loss: 2.2943 - val_accuracy: 0.1084 - val_loss: 2.2937\n",
      "Epoch 15/20\n",
      "41/41 - 50s - 1s/step - accuracy: 0.0994 - loss: 2.2980 - val_accuracy: 0.1057 - val_loss: 2.2934\n",
      "Epoch 16/20\n",
      "41/41 - 46s - 1s/step - accuracy: 0.1140 - loss: 2.2952 - val_accuracy: 0.1138 - val_loss: 2.2937\n",
      "Epoch 17/20\n",
      "41/41 - 47s - 1s/step - accuracy: 0.1063 - loss: 2.2947 - val_accuracy: 0.1057 - val_loss: 2.2930\n",
      "Epoch 18/20\n",
      "41/41 - 45s - 1s/step - accuracy: 0.1163 - loss: 2.2977 - val_accuracy: 0.1057 - val_loss: 2.2938\n",
      "Epoch 19/20\n",
      "41/41 - 46s - 1s/step - accuracy: 0.1140 - loss: 2.2938 - val_accuracy: 0.1057 - val_loss: 2.2930\n",
      "Epoch 20/20\n",
      "41/41 - 46s - 1s/step - accuracy: 0.1179 - loss: 2.2935 - val_accuracy: 0.1057 - val_loss: 2.2924\n"
     ]
    },
    {
     "name": "stderr",
     "output_type": "stream",
     "text": [
      "2024/06/26 12:21:52 WARNING mlflow.keras.save: You are saving a Keras model without specifying model signature.\n"
     ]
    },
    {
     "name": "stdout",
     "output_type": "stream",
     "text": [
      "\u001B[1m7/7\u001B[0m \u001B[32m━━━━━━━━━━━━━━━━━━━━\u001B[0m\u001B[37m\u001B[0m \u001B[1m2s\u001B[0m 284ms/step - accuracy: 0.1158 - loss: 2.3021\n",
      "Test accuracy: 0.10362694412469864\n"
     ]
    }
   ],
   "source": [
    "# Sans data augmentation\n",
    "# Entraînement de modèles à 3 couches avec différentes combinaisons d'hyperparamètres\n",
    "for batch_size in batch_sizes:\n",
    "    for epochs in epochs_list:\n",
    "        for learning_rate in learning_rates:\n",
    "            train_model_3_couches(batch_size, epochs, learning_rate)"
   ],
   "metadata": {
    "collapsed": false,
    "ExecuteTime": {
     "end_time": "2024-06-26T10:22:01.561055Z",
     "start_time": "2024-06-26T08:26:44.842991Z"
    }
   },
   "id": "b28e2cfaa9212a56",
   "execution_count": 61
  },
  {
   "cell_type": "code",
   "outputs": [],
   "source": [
    "# Modèle à plus de couches\n",
    "def create_model_5_couches():\n",
    "    model = Sequential()\n",
    "    model.add(Conv2D(32, (3, 3), input_shape=(224, 224, 3)))\n",
    "    model.add(Activation('relu'))\n",
    "    model.add(MaxPooling2D(pool_size=(2, 2)))\n",
    "    \n",
    "    model.add(Conv2D(32, (3, 3)))\n",
    "    model.add(Activation('relu'))\n",
    "    model.add(MaxPooling2D(pool_size=(2, 2)))\n",
    "    \n",
    "    model.add(Conv2D(64, (3, 3)))\n",
    "    model.add(Activation('relu'))\n",
    "    model.add(MaxPooling2D(pool_size=(2, 2)))\n",
    "    \n",
    "    model.add(Conv2D(64, (3, 3)))\n",
    "    model.add(Activation('relu'))\n",
    "    model.add(MaxPooling2D(pool_size=(2, 2)))\n",
    "    \n",
    "    model.add(Conv2D(64, (3, 3)))\n",
    "    model.add(Activation('relu'))\n",
    "    \n",
    "    model.add(Flatten())\n",
    "    model.add(Dense(64))\n",
    "    model.add(Activation('relu'))\n",
    "    model.add(Dropout(0.5))\n",
    "    model.add(Dense(10))\n",
    "    model.add(Activation('softmax'))\n",
    "\n",
    "    return model"
   ],
   "metadata": {
    "collapsed": false,
    "ExecuteTime": {
     "end_time": "2024-06-26T10:24:10.860149Z",
     "start_time": "2024-06-26T10:24:10.850455Z"
    }
   },
   "id": "d4b4344594c42934",
   "execution_count": 62
  },
  {
   "cell_type": "code",
   "outputs": [],
   "source": [
    "# Fonction d'entraînement du modèle à plus de couches\n",
    "def train_model_5_couches(batch_size, epochs, learning_rate):\n",
    "    model = create_model_5_couches()\n",
    "    optimizer=SGD(learning_rate=learning_rate, momentum=0.9)\n",
    "    model.compile(loss='categorical_crossentropy', optimizer=optimizer, metrics=['accuracy'])\n",
    "\n",
    "    # Start MLFlow run\n",
    "    with mlflow.start_run():\n",
    "        mlflow.log_param(\"batch_size\", batch_size)\n",
    "        mlflow.log_param(\"epochs\", epochs)\n",
    "        mlflow.log_param(\"learning_rate\", learning_rate)\n",
    "        \n",
    "        # Enregistrement du temps d'entraînement du modèle\n",
    "        start_time = time.time()\n",
    "        \n",
    "        history = model.fit(\n",
    "            train_generator,\n",
    "            batch_size=batch_size,\n",
    "            epochs=epochs,\n",
    "            validation_data=val_generator,\n",
    "            verbose = 2\n",
    "        )\n",
    "        \n",
    "        # Fin du temps d'entraînement du modèle\n",
    "        end_time = time.time()\n",
    "\n",
    "        # Calcul du temps écoulé\n",
    "        elapsed_time = end_time - start_time\n",
    "\n",
    "        # Enregistrement du temps écoulé comme une métrique\n",
    "        mlflow.log_metric(\"training_time\", elapsed_time)\n",
    "        \n",
    "        val_accuracy = history.history['val_accuracy'][-1]\n",
    "        mlflow.log_metric(\"val_accuracy\", val_accuracy)\n",
    "\n",
    "        mlflow.keras.log_model(model, \"model\")\n",
    "\n",
    "        # Evaluation du modèle sur le jeu de test\n",
    "        test_loss, test_acc = model.evaluate(test_generator)\n",
    "        print(f'Test accuracy: {test_acc}')\n",
    "\n",
    "        # Enregistrement de la précision sur le jeu de test\n",
    "        mlflow.log_metric(\"test_accuracy\", test_acc)"
   ],
   "metadata": {
    "collapsed": false,
    "ExecuteTime": {
     "end_time": "2024-06-26T10:24:12.411155Z",
     "start_time": "2024-06-26T10:24:12.401541Z"
    }
   },
   "id": "1d00fef27970407",
   "execution_count": 63
  },
  {
   "cell_type": "code",
   "outputs": [
    {
     "name": "stdout",
     "output_type": "stream",
     "text": [
      "Epoch 1/10\n",
      "41/41 - 52s - 1s/step - accuracy: 0.0809 - loss: 2.3046 - val_accuracy: 0.1003 - val_loss: 2.2985\n",
      "Epoch 2/10\n",
      "41/41 - 62s - 2s/step - accuracy: 0.0978 - loss: 2.3005 - val_accuracy: 0.1030 - val_loss: 2.2977\n",
      "Epoch 3/10\n",
      "41/41 - 62s - 2s/step - accuracy: 0.1002 - loss: 2.2991 - val_accuracy: 0.1220 - val_loss: 2.2959\n",
      "Epoch 4/10\n",
      "41/41 - 54s - 1s/step - accuracy: 0.1133 - loss: 2.2969 - val_accuracy: 0.1165 - val_loss: 2.2949\n",
      "Epoch 5/10\n",
      "41/41 - 53s - 1s/step - accuracy: 0.1233 - loss: 2.2959 - val_accuracy: 0.1165 - val_loss: 2.2942\n",
      "Epoch 6/10\n",
      "41/41 - 53s - 1s/step - accuracy: 0.1133 - loss: 2.2952 - val_accuracy: 0.1111 - val_loss: 2.2931\n",
      "Epoch 7/10\n",
      "41/41 - 51s - 1s/step - accuracy: 0.1133 - loss: 2.2925 - val_accuracy: 0.1111 - val_loss: 2.2919\n",
      "Epoch 8/10\n",
      "41/41 - 52s - 1s/step - accuracy: 0.1094 - loss: 2.2931 - val_accuracy: 0.1192 - val_loss: 2.2913\n",
      "Epoch 9/10\n",
      "41/41 - 50s - 1s/step - accuracy: 0.1171 - loss: 2.2920 - val_accuracy: 0.1165 - val_loss: 2.2901\n",
      "Epoch 10/10\n",
      "41/41 - 64s - 2s/step - accuracy: 0.1202 - loss: 2.2894 - val_accuracy: 0.1165 - val_loss: 2.2880\n"
     ]
    },
    {
     "name": "stderr",
     "output_type": "stream",
     "text": [
      "2024/06/26 12:33:31 WARNING mlflow.keras.save: You are saving a Keras model without specifying model signature.\n"
     ]
    },
    {
     "name": "stdout",
     "output_type": "stream",
     "text": [
      "\u001B[1m7/7\u001B[0m \u001B[32m━━━━━━━━━━━━━━━━━━━━\u001B[0m\u001B[37m\u001B[0m \u001B[1m3s\u001B[0m 417ms/step - accuracy: 0.0510 - loss: 2.3024\n",
      "Test accuracy: 0.11917098611593246\n",
      "Epoch 1/10\n",
      "41/41 - 61s - 1s/step - accuracy: 0.1063 - loss: 2.3020 - val_accuracy: 0.1057 - val_loss: 2.3002\n",
      "Epoch 2/10\n",
      "41/41 - 56s - 1s/step - accuracy: 0.1032 - loss: 2.3000 - val_accuracy: 0.1057 - val_loss: 2.2996\n",
      "Epoch 3/10\n",
      "41/41 - 58s - 1s/step - accuracy: 0.1140 - loss: 2.3009 - val_accuracy: 0.1301 - val_loss: 2.2989\n",
      "Epoch 4/10\n",
      "41/41 - 58s - 1s/step - accuracy: 0.1079 - loss: 2.2992 - val_accuracy: 0.1247 - val_loss: 2.2986\n",
      "Epoch 5/10\n",
      "41/41 - 58s - 1s/step - accuracy: 0.1179 - loss: 2.2989 - val_accuracy: 0.1247 - val_loss: 2.2982\n",
      "Epoch 6/10\n",
      "41/41 - 59s - 1s/step - accuracy: 0.1025 - loss: 2.3002 - val_accuracy: 0.1138 - val_loss: 2.2979\n",
      "Epoch 7/10\n",
      "41/41 - 58s - 1s/step - accuracy: 0.1109 - loss: 2.2996 - val_accuracy: 0.1301 - val_loss: 2.2976\n",
      "Epoch 8/10\n",
      "41/41 - 59s - 1s/step - accuracy: 0.1063 - loss: 2.3009 - val_accuracy: 0.1301 - val_loss: 2.2974\n",
      "Epoch 9/10\n",
      "41/41 - 54s - 1s/step - accuracy: 0.1148 - loss: 2.2987 - val_accuracy: 0.1274 - val_loss: 2.2971\n",
      "Epoch 10/10\n",
      "41/41 - 60s - 1s/step - accuracy: 0.1233 - loss: 2.2968 - val_accuracy: 0.1301 - val_loss: 2.2968\n"
     ]
    },
    {
     "name": "stderr",
     "output_type": "stream",
     "text": [
      "2024/06/26 12:43:23 WARNING mlflow.keras.save: You are saving a Keras model without specifying model signature.\n"
     ]
    },
    {
     "name": "stdout",
     "output_type": "stream",
     "text": [
      "\u001B[1m7/7\u001B[0m \u001B[32m━━━━━━━━━━━━━━━━━━━━\u001B[0m\u001B[37m\u001B[0m \u001B[1m3s\u001B[0m 350ms/step - accuracy: 0.0703 - loss: 2.3044\n",
      "Test accuracy: 0.1347150206565857\n",
      "Epoch 1/20\n",
      "41/41 - 62s - 2s/step - accuracy: 0.0832 - loss: 2.3047 - val_accuracy: 0.1084 - val_loss: 2.3007\n",
      "Epoch 2/20\n",
      "41/41 - 71s - 2s/step - accuracy: 0.1040 - loss: 2.3007 - val_accuracy: 0.1030 - val_loss: 2.2986\n",
      "Epoch 3/20\n",
      "41/41 - 56s - 1s/step - accuracy: 0.1063 - loss: 2.3001 - val_accuracy: 0.1003 - val_loss: 2.2974\n",
      "Epoch 4/20\n",
      "41/41 - 61s - 1s/step - accuracy: 0.1133 - loss: 2.2961 - val_accuracy: 0.1057 - val_loss: 2.2960\n",
      "Epoch 5/20\n",
      "41/41 - 65s - 2s/step - accuracy: 0.1040 - loss: 2.2977 - val_accuracy: 0.1491 - val_loss: 2.2947\n",
      "Epoch 6/20\n",
      "41/41 - 64s - 2s/step - accuracy: 0.1125 - loss: 2.2937 - val_accuracy: 0.1165 - val_loss: 2.2939\n",
      "Epoch 7/20\n",
      "41/41 - 58s - 1s/step - accuracy: 0.1256 - loss: 2.2939 - val_accuracy: 0.1165 - val_loss: 2.2928\n",
      "Epoch 8/20\n",
      "41/41 - 65s - 2s/step - accuracy: 0.1086 - loss: 2.2954 - val_accuracy: 0.1165 - val_loss: 2.2924\n",
      "Epoch 9/20\n",
      "41/41 - 64s - 2s/step - accuracy: 0.1210 - loss: 2.2920 - val_accuracy: 0.1165 - val_loss: 2.2912\n",
      "Epoch 10/20\n",
      "41/41 - 56s - 1s/step - accuracy: 0.1148 - loss: 2.2918 - val_accuracy: 0.1165 - val_loss: 2.2904\n",
      "Epoch 11/20\n",
      "41/41 - 47s - 1s/step - accuracy: 0.1163 - loss: 2.2921 - val_accuracy: 0.1165 - val_loss: 2.2890\n",
      "Epoch 12/20\n",
      "41/41 - 46s - 1s/step - accuracy: 0.1210 - loss: 2.2910 - val_accuracy: 0.1165 - val_loss: 2.2869\n",
      "Epoch 13/20\n",
      "41/41 - 47s - 1s/step - accuracy: 0.1094 - loss: 2.2893 - val_accuracy: 0.1165 - val_loss: 2.2849\n",
      "Epoch 14/20\n",
      "41/41 - 56s - 1s/step - accuracy: 0.1217 - loss: 2.2834 - val_accuracy: 0.1165 - val_loss: 2.2853\n",
      "Epoch 15/20\n",
      "41/41 - 65s - 2s/step - accuracy: 0.1163 - loss: 2.2854 - val_accuracy: 0.1355 - val_loss: 2.2802\n",
      "Epoch 16/20\n",
      "41/41 - 57s - 1s/step - accuracy: 0.1202 - loss: 2.2782 - val_accuracy: 0.1355 - val_loss: 2.2755\n",
      "Epoch 17/20\n",
      "41/41 - 51s - 1s/step - accuracy: 0.1287 - loss: 2.2777 - val_accuracy: 0.1463 - val_loss: 2.2704\n",
      "Epoch 18/20\n",
      "41/41 - 51s - 1s/step - accuracy: 0.1333 - loss: 2.2715 - val_accuracy: 0.1274 - val_loss: 2.2646\n",
      "Epoch 19/20\n",
      "41/41 - 52s - 1s/step - accuracy: 0.1310 - loss: 2.2735 - val_accuracy: 0.1599 - val_loss: 2.2603\n",
      "Epoch 20/20\n",
      "41/41 - 51s - 1s/step - accuracy: 0.1456 - loss: 2.2629 - val_accuracy: 0.1707 - val_loss: 2.2719\n"
     ]
    },
    {
     "name": "stderr",
     "output_type": "stream",
     "text": [
      "2024/06/26 13:02:40 WARNING mlflow.keras.save: You are saving a Keras model without specifying model signature.\n"
     ]
    },
    {
     "name": "stdout",
     "output_type": "stream",
     "text": [
      "\u001B[1m7/7\u001B[0m \u001B[32m━━━━━━━━━━━━━━━━━━━━\u001B[0m\u001B[37m\u001B[0m \u001B[1m2s\u001B[0m 318ms/step - accuracy: 0.1197 - loss: 2.2856\n",
      "Test accuracy: 0.1865285038948059\n",
      "Epoch 1/20\n",
      "41/41 - 54s - 1s/step - accuracy: 0.0963 - loss: 2.3037 - val_accuracy: 0.1003 - val_loss: 2.3024\n",
      "Epoch 2/20\n",
      "41/41 - 52s - 1s/step - accuracy: 0.0940 - loss: 2.3041 - val_accuracy: 0.1030 - val_loss: 2.3020\n",
      "Epoch 3/20\n",
      "41/41 - 53s - 1s/step - accuracy: 0.0986 - loss: 2.3028 - val_accuracy: 0.1057 - val_loss: 2.3016\n",
      "Epoch 4/20\n",
      "41/41 - 52s - 1s/step - accuracy: 0.1032 - loss: 2.3021 - val_accuracy: 0.1057 - val_loss: 2.3010\n",
      "Epoch 5/20\n",
      "41/41 - 53s - 1s/step - accuracy: 0.1079 - loss: 2.3015 - val_accuracy: 0.1057 - val_loss: 2.3007\n",
      "Epoch 6/20\n",
      "41/41 - 53s - 1s/step - accuracy: 0.0901 - loss: 2.3013 - val_accuracy: 0.1057 - val_loss: 2.3004\n",
      "Epoch 7/20\n",
      "41/41 - 53s - 1s/step - accuracy: 0.1094 - loss: 2.2984 - val_accuracy: 0.1057 - val_loss: 2.3000\n",
      "Epoch 8/20\n",
      "41/41 - 53s - 1s/step - accuracy: 0.1140 - loss: 2.3013 - val_accuracy: 0.1057 - val_loss: 2.2996\n",
      "Epoch 9/20\n",
      "41/41 - 53s - 1s/step - accuracy: 0.0948 - loss: 2.3009 - val_accuracy: 0.1057 - val_loss: 2.2993\n",
      "Epoch 10/20\n",
      "41/41 - 54s - 1s/step - accuracy: 0.1063 - loss: 2.3001 - val_accuracy: 0.1057 - val_loss: 2.2990\n",
      "Epoch 11/20\n",
      "41/41 - 53s - 1s/step - accuracy: 0.1002 - loss: 2.3002 - val_accuracy: 0.1057 - val_loss: 2.2988\n",
      "Epoch 12/20\n",
      "41/41 - 54s - 1s/step - accuracy: 0.1125 - loss: 2.2998 - val_accuracy: 0.1057 - val_loss: 2.2986\n",
      "Epoch 13/20\n",
      "41/41 - 54s - 1s/step - accuracy: 0.0963 - loss: 2.3003 - val_accuracy: 0.1057 - val_loss: 2.2984\n",
      "Epoch 14/20\n",
      "41/41 - 54s - 1s/step - accuracy: 0.1079 - loss: 2.2981 - val_accuracy: 0.1057 - val_loss: 2.2981\n",
      "Epoch 15/20\n",
      "41/41 - 54s - 1s/step - accuracy: 0.1125 - loss: 2.2986 - val_accuracy: 0.1057 - val_loss: 2.2979\n",
      "Epoch 16/20\n",
      "41/41 - 53s - 1s/step - accuracy: 0.1117 - loss: 2.2976 - val_accuracy: 0.1057 - val_loss: 2.2977\n",
      "Epoch 17/20\n",
      "41/41 - 54s - 1s/step - accuracy: 0.1102 - loss: 2.2990 - val_accuracy: 0.1030 - val_loss: 2.2975\n",
      "Epoch 18/20\n",
      "41/41 - 53s - 1s/step - accuracy: 0.1094 - loss: 2.2981 - val_accuracy: 0.1030 - val_loss: 2.2973\n",
      "Epoch 19/20\n",
      "41/41 - 54s - 1s/step - accuracy: 0.1171 - loss: 2.2985 - val_accuracy: 0.1084 - val_loss: 2.2971\n",
      "Epoch 20/20\n",
      "41/41 - 53s - 1s/step - accuracy: 0.1148 - loss: 2.2965 - val_accuracy: 0.1138 - val_loss: 2.2968\n"
     ]
    },
    {
     "name": "stderr",
     "output_type": "stream",
     "text": [
      "2024/06/26 13:20:37 WARNING mlflow.keras.save: You are saving a Keras model without specifying model signature.\n"
     ]
    },
    {
     "name": "stdout",
     "output_type": "stream",
     "text": [
      "\u001B[1m7/7\u001B[0m \u001B[32m━━━━━━━━━━━━━━━━━━━━\u001B[0m\u001B[37m\u001B[0m \u001B[1m2s\u001B[0m 334ms/step - accuracy: 0.1269 - loss: 2.3034\n",
      "Test accuracy: 0.10880828648805618\n",
      "Epoch 1/10\n",
      "41/41 - 56s - 1s/step - accuracy: 0.1032 - loss: 2.3019 - val_accuracy: 0.1165 - val_loss: 2.2987\n",
      "Epoch 2/10\n",
      "41/41 - 54s - 1s/step - accuracy: 0.1171 - loss: 2.2998 - val_accuracy: 0.1165 - val_loss: 2.2976\n",
      "Epoch 3/10\n",
      "41/41 - 54s - 1s/step - accuracy: 0.1040 - loss: 2.2984 - val_accuracy: 0.1165 - val_loss: 2.2962\n",
      "Epoch 4/10\n",
      "41/41 - 54s - 1s/step - accuracy: 0.1117 - loss: 2.2987 - val_accuracy: 0.1247 - val_loss: 2.2956\n",
      "Epoch 5/10\n",
      "41/41 - 54s - 1s/step - accuracy: 0.1156 - loss: 2.2961 - val_accuracy: 0.1165 - val_loss: 2.2945\n",
      "Epoch 6/10\n",
      "41/41 - 54s - 1s/step - accuracy: 0.1210 - loss: 2.2961 - val_accuracy: 0.1165 - val_loss: 2.2937\n",
      "Epoch 7/10\n",
      "41/41 - 54s - 1s/step - accuracy: 0.1140 - loss: 2.2958 - val_accuracy: 0.1165 - val_loss: 2.2935\n",
      "Epoch 8/10\n",
      "41/41 - 54s - 1s/step - accuracy: 0.1256 - loss: 2.2925 - val_accuracy: 0.1165 - val_loss: 2.2920\n",
      "Epoch 9/10\n",
      "41/41 - 54s - 1s/step - accuracy: 0.1171 - loss: 2.2930 - val_accuracy: 0.1165 - val_loss: 2.2913\n",
      "Epoch 10/10\n",
      "41/41 - 55s - 1s/step - accuracy: 0.1202 - loss: 2.2932 - val_accuracy: 0.1165 - val_loss: 2.2896\n"
     ]
    },
    {
     "name": "stderr",
     "output_type": "stream",
     "text": [
      "2024/06/26 13:29:51 WARNING mlflow.keras.save: You are saving a Keras model without specifying model signature.\n"
     ]
    },
    {
     "name": "stdout",
     "output_type": "stream",
     "text": [
      "\u001B[1m7/7\u001B[0m \u001B[32m━━━━━━━━━━━━━━━━━━━━\u001B[0m\u001B[37m\u001B[0m \u001B[1m3s\u001B[0m 347ms/step - accuracy: 0.0510 - loss: 2.3107\n",
      "Test accuracy: 0.11917098611593246\n",
      "Epoch 1/10\n",
      "41/41 - 56s - 1s/step - accuracy: 0.1017 - loss: 2.3041 - val_accuracy: 0.1057 - val_loss: 2.3013\n",
      "Epoch 2/10\n",
      "41/41 - 55s - 1s/step - accuracy: 0.0917 - loss: 2.3024 - val_accuracy: 0.1138 - val_loss: 2.3006\n",
      "Epoch 3/10\n",
      "41/41 - 54s - 1s/step - accuracy: 0.0971 - loss: 2.3025 - val_accuracy: 0.1328 - val_loss: 2.3002\n",
      "Epoch 4/10\n",
      "41/41 - 55s - 1s/step - accuracy: 0.0971 - loss: 2.3020 - val_accuracy: 0.1192 - val_loss: 2.2997\n",
      "Epoch 5/10\n",
      "41/41 - 54s - 1s/step - accuracy: 0.1117 - loss: 2.2989 - val_accuracy: 0.0949 - val_loss: 2.2992\n",
      "Epoch 6/10\n",
      "41/41 - 55s - 1s/step - accuracy: 0.1117 - loss: 2.2994 - val_accuracy: 0.1084 - val_loss: 2.2987\n",
      "Epoch 7/10\n",
      "41/41 - 54s - 1s/step - accuracy: 0.0971 - loss: 2.3000 - val_accuracy: 0.1003 - val_loss: 2.2983\n",
      "Epoch 8/10\n",
      "41/41 - 55s - 1s/step - accuracy: 0.1048 - loss: 2.2990 - val_accuracy: 0.1057 - val_loss: 2.2979\n",
      "Epoch 9/10\n",
      "41/41 - 55s - 1s/step - accuracy: 0.1109 - loss: 2.2976 - val_accuracy: 0.1057 - val_loss: 2.2975\n",
      "Epoch 10/10\n",
      "41/41 - 55s - 1s/step - accuracy: 0.1194 - loss: 2.2971 - val_accuracy: 0.1057 - val_loss: 2.2971\n"
     ]
    },
    {
     "name": "stderr",
     "output_type": "stream",
     "text": [
      "2024/06/26 13:39:08 WARNING mlflow.keras.save: You are saving a Keras model without specifying model signature.\n"
     ]
    },
    {
     "name": "stdout",
     "output_type": "stream",
     "text": [
      "\u001B[1m7/7\u001B[0m \u001B[32m━━━━━━━━━━━━━━━━━━━━\u001B[0m\u001B[37m\u001B[0m \u001B[1m3s\u001B[0m 366ms/step - accuracy: 0.1158 - loss: 2.3057\n",
      "Test accuracy: 0.10362694412469864\n",
      "Epoch 1/20\n",
      "41/41 - 56s - 1s/step - accuracy: 0.1079 - loss: 2.3013 - val_accuracy: 0.0921 - val_loss: 2.3003\n",
      "Epoch 2/20\n",
      "41/41 - 55s - 1s/step - accuracy: 0.1094 - loss: 2.3004 - val_accuracy: 0.1165 - val_loss: 2.2980\n",
      "Epoch 3/20\n",
      "41/41 - 55s - 1s/step - accuracy: 0.1210 - loss: 2.2981 - val_accuracy: 0.1165 - val_loss: 2.2969\n",
      "Epoch 4/20\n",
      "41/41 - 55s - 1s/step - accuracy: 0.1079 - loss: 2.3000 - val_accuracy: 0.1165 - val_loss: 2.2965\n",
      "Epoch 5/20\n",
      "41/41 - 55s - 1s/step - accuracy: 0.1125 - loss: 2.2987 - val_accuracy: 0.1165 - val_loss: 2.2954\n",
      "Epoch 6/20\n",
      "41/41 - 55s - 1s/step - accuracy: 0.1125 - loss: 2.2947 - val_accuracy: 0.1165 - val_loss: 2.2943\n",
      "Epoch 7/20\n",
      "41/41 - 55s - 1s/step - accuracy: 0.1063 - loss: 2.2982 - val_accuracy: 0.1165 - val_loss: 2.2946\n",
      "Epoch 8/20\n",
      "41/41 - 54s - 1s/step - accuracy: 0.1287 - loss: 2.2925 - val_accuracy: 0.1165 - val_loss: 2.2925\n",
      "Epoch 9/20\n",
      "41/41 - 55s - 1s/step - accuracy: 0.1210 - loss: 2.2939 - val_accuracy: 0.1165 - val_loss: 2.2920\n",
      "Epoch 10/20\n",
      "41/41 - 55s - 1s/step - accuracy: 0.1225 - loss: 2.2926 - val_accuracy: 0.1165 - val_loss: 2.2907\n",
      "Epoch 11/20\n",
      "41/41 - 55s - 1s/step - accuracy: 0.1210 - loss: 2.2929 - val_accuracy: 0.1165 - val_loss: 2.2891\n",
      "Epoch 12/20\n",
      "41/41 - 55s - 1s/step - accuracy: 0.1179 - loss: 2.2888 - val_accuracy: 0.1165 - val_loss: 2.2871\n",
      "Epoch 13/20\n",
      "41/41 - 55s - 1s/step - accuracy: 0.1194 - loss: 2.2847 - val_accuracy: 0.1165 - val_loss: 2.2846\n",
      "Epoch 14/20\n",
      "41/41 - 55s - 1s/step - accuracy: 0.1210 - loss: 2.2858 - val_accuracy: 0.1165 - val_loss: 2.2816\n",
      "Epoch 15/20\n",
      "41/41 - 54s - 1s/step - accuracy: 0.1186 - loss: 2.2891 - val_accuracy: 0.1247 - val_loss: 2.2793\n",
      "Epoch 16/20\n",
      "41/41 - 55s - 1s/step - accuracy: 0.1348 - loss: 2.2834 - val_accuracy: 0.1897 - val_loss: 2.2790\n",
      "Epoch 17/20\n",
      "41/41 - 55s - 1s/step - accuracy: 0.1310 - loss: 2.2816 - val_accuracy: 0.1382 - val_loss: 2.2722\n",
      "Epoch 18/20\n",
      "41/41 - 56s - 1s/step - accuracy: 0.1217 - loss: 2.2748 - val_accuracy: 0.1816 - val_loss: 2.2658\n",
      "Epoch 19/20\n",
      "41/41 - 55s - 1s/step - accuracy: 0.1379 - loss: 2.2757 - val_accuracy: 0.1518 - val_loss: 2.2616\n",
      "Epoch 20/20\n",
      "41/41 - 55s - 1s/step - accuracy: 0.1549 - loss: 2.2638 - val_accuracy: 0.1545 - val_loss: 2.2541\n"
     ]
    },
    {
     "name": "stderr",
     "output_type": "stream",
     "text": [
      "2024/06/26 13:57:37 WARNING mlflow.keras.save: You are saving a Keras model without specifying model signature.\n"
     ]
    },
    {
     "name": "stdout",
     "output_type": "stream",
     "text": [
      "\u001B[1m7/7\u001B[0m \u001B[32m━━━━━━━━━━━━━━━━━━━━\u001B[0m\u001B[37m\u001B[0m \u001B[1m3s\u001B[0m 366ms/step - accuracy: 0.0718 - loss: 2.2696\n",
      "Test accuracy: 0.14507772028446198\n",
      "Epoch 1/20\n",
      "41/41 - 56s - 1s/step - accuracy: 0.1055 - loss: 2.3039 - val_accuracy: 0.1084 - val_loss: 2.3032\n",
      "Epoch 2/20\n",
      "41/41 - 55s - 1s/step - accuracy: 0.0986 - loss: 2.3041 - val_accuracy: 0.1084 - val_loss: 2.3025\n",
      "Epoch 3/20\n",
      "41/41 - 55s - 1s/step - accuracy: 0.1009 - loss: 2.3029 - val_accuracy: 0.1084 - val_loss: 2.3019\n",
      "Epoch 4/20\n",
      "41/41 - 55s - 1s/step - accuracy: 0.1071 - loss: 2.3031 - val_accuracy: 0.1084 - val_loss: 2.3016\n",
      "Epoch 5/20\n",
      "41/41 - 69s - 2s/step - accuracy: 0.1055 - loss: 2.3025 - val_accuracy: 0.1084 - val_loss: 2.3013\n",
      "Epoch 6/20\n",
      "41/41 - 80s - 2s/step - accuracy: 0.1109 - loss: 2.3006 - val_accuracy: 0.1084 - val_loss: 2.3010\n",
      "Epoch 7/20\n",
      "41/41 - 90s - 2s/step - accuracy: 0.1071 - loss: 2.3026 - val_accuracy: 0.1084 - val_loss: 2.3007\n",
      "Epoch 8/20\n",
      "41/41 - 103s - 3s/step - accuracy: 0.1055 - loss: 2.3018 - val_accuracy: 0.1084 - val_loss: 2.3004\n",
      "Epoch 9/20\n",
      "41/41 - 87s - 2s/step - accuracy: 0.0978 - loss: 2.3012 - val_accuracy: 0.1084 - val_loss: 2.3001\n",
      "Epoch 10/20\n",
      "41/41 - 88s - 2s/step - accuracy: 0.1133 - loss: 2.3006 - val_accuracy: 0.1084 - val_loss: 2.2999\n",
      "Epoch 11/20\n",
      "41/41 - 86s - 2s/step - accuracy: 0.1102 - loss: 2.2997 - val_accuracy: 0.1111 - val_loss: 2.2997\n",
      "Epoch 12/20\n",
      "41/41 - 63s - 2s/step - accuracy: 0.1048 - loss: 2.3007 - val_accuracy: 0.1084 - val_loss: 2.2995\n",
      "Epoch 13/20\n",
      "41/41 - 57s - 1s/step - accuracy: 0.1263 - loss: 2.3000 - val_accuracy: 0.1030 - val_loss: 2.2993\n",
      "Epoch 14/20\n",
      "41/41 - 58s - 1s/step - accuracy: 0.1133 - loss: 2.3001 - val_accuracy: 0.1084 - val_loss: 2.2991\n",
      "Epoch 15/20\n",
      "41/41 - 51s - 1s/step - accuracy: 0.1086 - loss: 2.2994 - val_accuracy: 0.1247 - val_loss: 2.2989\n",
      "Epoch 16/20\n",
      "41/41 - 51s - 1s/step - accuracy: 0.1117 - loss: 2.2992 - val_accuracy: 0.1030 - val_loss: 2.2987\n",
      "Epoch 17/20\n",
      "41/41 - 57s - 1s/step - accuracy: 0.1156 - loss: 2.2991 - val_accuracy: 0.1220 - val_loss: 2.2986\n",
      "Epoch 18/20\n",
      "41/41 - 57s - 1s/step - accuracy: 0.1025 - loss: 2.2995 - val_accuracy: 0.1355 - val_loss: 2.2984\n",
      "Epoch 19/20\n",
      "41/41 - 55s - 1s/step - accuracy: 0.1294 - loss: 2.2975 - val_accuracy: 0.1301 - val_loss: 2.2982\n",
      "Epoch 20/20\n",
      "41/41 - 62s - 2s/step - accuracy: 0.1133 - loss: 2.2985 - val_accuracy: 0.1328 - val_loss: 2.2980\n"
     ]
    },
    {
     "name": "stderr",
     "output_type": "stream",
     "text": [
      "2024/06/26 14:20:04 WARNING mlflow.keras.save: You are saving a Keras model without specifying model signature.\n"
     ]
    },
    {
     "name": "stdout",
     "output_type": "stream",
     "text": [
      "\u001B[1m7/7\u001B[0m \u001B[32m━━━━━━━━━━━━━━━━━━━━\u001B[0m\u001B[37m\u001B[0m \u001B[1m3s\u001B[0m 348ms/step - accuracy: 0.1519 - loss: 2.3080\n",
      "Test accuracy: 0.17098446190357208\n"
     ]
    }
   ],
   "source": [
    "# Hyperparamètres\n",
    "batch_sizes = [16, 32]\n",
    "epochs_list = [10, 20]\n",
    "learning_rates = [0.001, 0.0001]\n",
    "\n",
    "# Sans data augmentation\n",
    "# Entraînement de différents modèles à 5 couches avec différentes combinaisons d'hyperparamètres sans data augmentation\n",
    "for batch_size in batch_sizes:\n",
    "    for epochs in epochs_list:\n",
    "        for learning_rate in learning_rates:\n",
    "            train_model_5_couches(batch_size, epochs, learning_rate)"
   ],
   "metadata": {
    "collapsed": false,
    "ExecuteTime": {
     "end_time": "2024-06-26T12:20:17.079947Z",
     "start_time": "2024-06-26T10:24:16.990205Z"
    }
   },
   "id": "905d4af0588f53dc",
   "execution_count": 64
  },
  {
   "cell_type": "code",
   "outputs": [],
   "source": [
    "# Avec data augmentation\n",
    "train_datagen = ImageDataGenerator(rescale=1. / 255,\n",
    "                                   rotation_range=20,\n",
    "                                   width_shift_range=0.2,\n",
    "                                   height_shift_range=0.2,\n",
    "                                   shear_range=0.2,\n",
    "                                   zoom_range=0.2,\n",
    "                                   horizontal_flip=True)\n",
    "\n",
    "val_datagen = ImageDataGenerator(rescale=1. / 255,\n",
    "                                 rotation_range=20,\n",
    "                                 width_shift_range=0.2,\n",
    "                                 height_shift_range=0.2,\n",
    "                                 shear_range=0.2,\n",
    "                                 zoom_range=0.2,\n",
    "                                 horizontal_flip=True)\n",
    "\n",
    "test_datagen = ImageDataGenerator(rescale=1./255)"
   ],
   "metadata": {
    "collapsed": false,
    "ExecuteTime": {
     "end_time": "2024-06-26T12:26:42.756665Z",
     "start_time": "2024-06-26T12:26:42.749904Z"
    }
   },
   "id": "42c2ec5efce66b38",
   "execution_count": 65
  },
  {
   "cell_type": "code",
   "outputs": [
    {
     "name": "stdout",
     "output_type": "stream",
     "text": [
      "Found 1298 images belonging to 10 classes.\n",
      "Found 369 images belonging to 10 classes.\n",
      "Found 193 images belonging to 10 classes.\n"
     ]
    }
   ],
   "source": [
    "# Chargement des données\n",
    "train_generator = train_datagen.flow_from_directory(\n",
    "    train_dir,\n",
    "    target_size=(224, 224),\n",
    "    batch_size=batch_size,\n",
    "    class_mode='categorical'\n",
    ")\n",
    "val_generator = val_datagen.flow_from_directory(\n",
    "    val_dir,\n",
    "    target_size=(224, 224),\n",
    "    batch_size=batch_size,\n",
    "    class_mode='categorical'\n",
    ")\n",
    "test_generator = test_datagen.flow_from_directory(\n",
    "    test_dir,\n",
    "    target_size=(224, 224),\n",
    "    batch_size=batch_size,\n",
    "    class_mode='categorical',\n",
    "    shuffle=False\n",
    ")"
   ],
   "metadata": {
    "collapsed": false,
    "ExecuteTime": {
     "end_time": "2024-06-26T12:26:43.836456Z",
     "start_time": "2024-06-26T12:26:43.600267Z"
    }
   },
   "id": "7d8071a9a5cc3012",
   "execution_count": 66
  },
  {
   "cell_type": "code",
   "outputs": [],
   "source": [
    "# Hyperparamètres\n",
    "batch_sizes = [16, 32]\n",
    "epochs_list = [10, 20]\n",
    "learning_rates = [0.001, 0.0001]"
   ],
   "metadata": {
    "collapsed": false,
    "ExecuteTime": {
     "end_time": "2024-06-26T12:26:44.679118Z",
     "start_time": "2024-06-26T12:26:44.675122Z"
    }
   },
   "id": "542f3a5011572832",
   "execution_count": 67
  },
  {
   "cell_type": "code",
   "outputs": [
    {
     "name": "stdout",
     "output_type": "stream",
     "text": [
      "Epoch 1/10\n",
      "41/41 - 77s - 2s/step - accuracy: 0.0932 - loss: 2.3033 - val_accuracy: 0.1057 - val_loss: 2.2988\n",
      "Epoch 2/10\n",
      "41/41 - 74s - 2s/step - accuracy: 0.1071 - loss: 2.3022 - val_accuracy: 0.1057 - val_loss: 2.2965\n",
      "Epoch 3/10\n",
      "41/41 - 78s - 2s/step - accuracy: 0.0963 - loss: 2.3010 - val_accuracy: 0.1165 - val_loss: 2.2985\n",
      "Epoch 4/10\n",
      "41/41 - 76s - 2s/step - accuracy: 0.1125 - loss: 2.2976 - val_accuracy: 0.1030 - val_loss: 2.2966\n",
      "Epoch 5/10\n",
      "41/41 - 70s - 2s/step - accuracy: 0.1032 - loss: 2.3003 - val_accuracy: 0.1220 - val_loss: 2.2964\n",
      "Epoch 6/10\n",
      "41/41 - 71s - 2s/step - accuracy: 0.0994 - loss: 2.2980 - val_accuracy: 0.1030 - val_loss: 2.2954\n",
      "Epoch 7/10\n",
      "41/41 - 80s - 2s/step - accuracy: 0.1125 - loss: 2.2998 - val_accuracy: 0.1328 - val_loss: 2.2960\n",
      "Epoch 8/10\n",
      "41/41 - 65s - 2s/step - accuracy: 0.1140 - loss: 2.2968 - val_accuracy: 0.1057 - val_loss: 2.2944\n",
      "Epoch 9/10\n",
      "41/41 - 70s - 2s/step - accuracy: 0.1017 - loss: 2.2971 - val_accuracy: 0.1518 - val_loss: 2.2945\n",
      "Epoch 10/10\n",
      "41/41 - 71s - 2s/step - accuracy: 0.1179 - loss: 2.2955 - val_accuracy: 0.1165 - val_loss: 2.2945\n"
     ]
    },
    {
     "name": "stderr",
     "output_type": "stream",
     "text": [
      "2024/06/26 14:39:00 WARNING mlflow.keras.save: You are saving a Keras model without specifying model signature.\n"
     ]
    },
    {
     "name": "stdout",
     "output_type": "stream",
     "text": [
      "\u001B[1m7/7\u001B[0m \u001B[32m━━━━━━━━━━━━━━━━━━━━\u001B[0m\u001B[37m\u001B[0m \u001B[1m2s\u001B[0m 298ms/step - accuracy: 0.0560 - loss: 2.3039\n",
      "Test accuracy: 0.12435232847929001\n",
      "Epoch 1/10\n",
      "41/41 - 61s - 1s/step - accuracy: 0.0863 - loss: 2.3077 - val_accuracy: 0.1057 - val_loss: 2.2982\n",
      "Epoch 2/10\n",
      "41/41 - 60s - 1s/step - accuracy: 0.0932 - loss: 2.3021 - val_accuracy: 0.0732 - val_loss: 2.2975\n",
      "Epoch 3/10\n",
      "41/41 - 68s - 2s/step - accuracy: 0.1117 - loss: 2.2962 - val_accuracy: 0.1057 - val_loss: 2.2950\n",
      "Epoch 4/10\n",
      "41/41 - 80s - 2s/step - accuracy: 0.1063 - loss: 2.2962 - val_accuracy: 0.1057 - val_loss: 2.2953\n",
      "Epoch 5/10\n",
      "41/41 - 72s - 2s/step - accuracy: 0.1025 - loss: 2.2991 - val_accuracy: 0.1138 - val_loss: 2.2949\n",
      "Epoch 6/10\n",
      "41/41 - 73s - 2s/step - accuracy: 0.1063 - loss: 2.2972 - val_accuracy: 0.1220 - val_loss: 2.2950\n",
      "Epoch 7/10\n",
      "41/41 - 64s - 2s/step - accuracy: 0.1125 - loss: 2.2946 - val_accuracy: 0.1030 - val_loss: 2.2945\n",
      "Epoch 8/10\n",
      "41/41 - 61s - 1s/step - accuracy: 0.0986 - loss: 2.3021 - val_accuracy: 0.1165 - val_loss: 2.2952\n",
      "Epoch 9/10\n",
      "41/41 - 61s - 1s/step - accuracy: 0.1025 - loss: 2.2981 - val_accuracy: 0.1165 - val_loss: 2.2947\n",
      "Epoch 10/10\n",
      "41/41 - 63s - 2s/step - accuracy: 0.1140 - loss: 2.2951 - val_accuracy: 0.1003 - val_loss: 2.2948\n"
     ]
    },
    {
     "name": "stderr",
     "output_type": "stream",
     "text": [
      "2024/06/26 14:50:16 WARNING mlflow.keras.save: You are saving a Keras model without specifying model signature.\n"
     ]
    },
    {
     "name": "stdout",
     "output_type": "stream",
     "text": [
      "\u001B[1m7/7\u001B[0m \u001B[32m━━━━━━━━━━━━━━━━━━━━\u001B[0m\u001B[37m\u001B[0m \u001B[1m2s\u001B[0m 317ms/step - accuracy: 0.0873 - loss: 2.3165\n",
      "Test accuracy: 0.12435232847929001\n",
      "Epoch 1/20\n",
      "41/41 - 63s - 2s/step - accuracy: 0.0863 - loss: 2.3118 - val_accuracy: 0.1003 - val_loss: 2.2994\n",
      "Epoch 2/20\n",
      "41/41 - 61s - 1s/step - accuracy: 0.0986 - loss: 2.3018 - val_accuracy: 0.1057 - val_loss: 2.2993\n",
      "Epoch 3/20\n",
      "41/41 - 82s - 2s/step - accuracy: 0.1086 - loss: 2.3024 - val_accuracy: 0.1220 - val_loss: 2.3002\n",
      "Epoch 4/20\n",
      "41/41 - 85s - 2s/step - accuracy: 0.1009 - loss: 2.3010 - val_accuracy: 0.1220 - val_loss: 2.3002\n",
      "Epoch 5/20\n",
      "41/41 - 84s - 2s/step - accuracy: 0.1055 - loss: 2.3007 - val_accuracy: 0.1165 - val_loss: 2.3000\n",
      "Epoch 6/20\n",
      "41/41 - 79s - 2s/step - accuracy: 0.1217 - loss: 2.2998 - val_accuracy: 0.1165 - val_loss: 2.2994\n",
      "Epoch 7/20\n",
      "41/41 - 67s - 2s/step - accuracy: 0.1163 - loss: 2.2998 - val_accuracy: 0.1165 - val_loss: 2.2992\n",
      "Epoch 8/20\n",
      "41/41 - 68s - 2s/step - accuracy: 0.1163 - loss: 2.3011 - val_accuracy: 0.1165 - val_loss: 2.2993\n",
      "Epoch 9/20\n",
      "41/41 - 69s - 2s/step - accuracy: 0.1171 - loss: 2.2982 - val_accuracy: 0.1165 - val_loss: 2.2986\n",
      "Epoch 10/20\n",
      "41/41 - 63s - 2s/step - accuracy: 0.1179 - loss: 2.2979 - val_accuracy: 0.1328 - val_loss: 2.2985\n",
      "Epoch 11/20\n",
      "41/41 - 66s - 2s/step - accuracy: 0.1233 - loss: 2.3009 - val_accuracy: 0.1165 - val_loss: 2.2989\n",
      "Epoch 12/20\n",
      "41/41 - 67s - 2s/step - accuracy: 0.1140 - loss: 2.2990 - val_accuracy: 0.1165 - val_loss: 2.2978\n",
      "Epoch 13/20\n",
      "41/41 - 81s - 2s/step - accuracy: 0.1310 - loss: 2.2964 - val_accuracy: 0.1165 - val_loss: 2.2966\n",
      "Epoch 14/20\n",
      "41/41 - 68s - 2s/step - accuracy: 0.1079 - loss: 2.2967 - val_accuracy: 0.1192 - val_loss: 2.2965\n",
      "Epoch 15/20\n",
      "41/41 - 66s - 2s/step - accuracy: 0.0963 - loss: 2.2986 - val_accuracy: 0.1165 - val_loss: 2.2963\n",
      "Epoch 16/20\n",
      "41/41 - 67s - 2s/step - accuracy: 0.1071 - loss: 2.2965 - val_accuracy: 0.1165 - val_loss: 2.2954\n",
      "Epoch 17/20\n",
      "41/41 - 68s - 2s/step - accuracy: 0.1148 - loss: 2.2949 - val_accuracy: 0.1247 - val_loss: 2.2948\n",
      "Epoch 18/20\n",
      "41/41 - 67s - 2s/step - accuracy: 0.1186 - loss: 2.2969 - val_accuracy: 0.1165 - val_loss: 2.2948\n",
      "Epoch 19/20\n",
      "41/41 - 67s - 2s/step - accuracy: 0.1140 - loss: 2.2962 - val_accuracy: 0.1165 - val_loss: 2.2942\n",
      "Epoch 20/20\n",
      "41/41 - 67s - 2s/step - accuracy: 0.1256 - loss: 2.2936 - val_accuracy: 0.1165 - val_loss: 2.2933\n"
     ]
    },
    {
     "name": "stderr",
     "output_type": "stream",
     "text": [
      "2024/06/26 15:13:54 WARNING mlflow.keras.save: You are saving a Keras model without specifying model signature.\n"
     ]
    },
    {
     "name": "stdout",
     "output_type": "stream",
     "text": [
      "\u001B[1m7/7\u001B[0m \u001B[32m━━━━━━━━━━━━━━━━━━━━\u001B[0m\u001B[37m\u001B[0m \u001B[1m3s\u001B[0m 320ms/step - accuracy: 0.0510 - loss: 2.3197\n",
      "Test accuracy: 0.11917098611593246\n",
      "Epoch 1/20\n",
      "41/41 - 77s - 2s/step - accuracy: 0.1048 - loss: 2.3043 - val_accuracy: 0.1084 - val_loss: 2.2975\n",
      "Epoch 2/20\n",
      "41/41 - 75s - 2s/step - accuracy: 0.1086 - loss: 2.2992 - val_accuracy: 0.1084 - val_loss: 2.2955\n",
      "Epoch 3/20\n",
      "41/41 - 67s - 2s/step - accuracy: 0.1009 - loss: 2.2991 - val_accuracy: 0.1165 - val_loss: 2.2957\n",
      "Epoch 4/20\n",
      "41/41 - 67s - 2s/step - accuracy: 0.1048 - loss: 2.2970 - val_accuracy: 0.1165 - val_loss: 2.2945\n",
      "Epoch 5/20\n",
      "41/41 - 67s - 2s/step - accuracy: 0.1071 - loss: 2.2982 - val_accuracy: 0.1165 - val_loss: 2.2951\n",
      "Epoch 6/20\n",
      "41/41 - 67s - 2s/step - accuracy: 0.0963 - loss: 2.2971 - val_accuracy: 0.1328 - val_loss: 2.2945\n",
      "Epoch 7/20\n",
      "41/41 - 87s - 2s/step - accuracy: 0.0986 - loss: 2.2985 - val_accuracy: 0.1138 - val_loss: 2.2940\n",
      "Epoch 8/20\n",
      "41/41 - 94s - 2s/step - accuracy: 0.1233 - loss: 2.2918 - val_accuracy: 0.1165 - val_loss: 2.2943\n",
      "Epoch 9/20\n",
      "41/41 - 95s - 2s/step - accuracy: 0.1094 - loss: 2.2994 - val_accuracy: 0.1165 - val_loss: 2.2937\n",
      "Epoch 10/20\n",
      "41/41 - 59s - 1s/step - accuracy: 0.1102 - loss: 2.2977 - val_accuracy: 0.1165 - val_loss: 2.2939\n",
      "Epoch 11/20\n",
      "41/41 - 58s - 1s/step - accuracy: 0.1117 - loss: 2.2981 - val_accuracy: 0.1220 - val_loss: 2.2944\n",
      "Epoch 12/20\n",
      "41/41 - 58s - 1s/step - accuracy: 0.1040 - loss: 2.2987 - val_accuracy: 0.1220 - val_loss: 2.2944\n",
      "Epoch 13/20\n",
      "41/41 - 59s - 1s/step - accuracy: 0.1009 - loss: 2.2973 - val_accuracy: 0.1138 - val_loss: 2.2946\n",
      "Epoch 14/20\n",
      "41/41 - 58s - 1s/step - accuracy: 0.1140 - loss: 2.2967 - val_accuracy: 0.1165 - val_loss: 2.2940\n",
      "Epoch 15/20\n",
      "41/41 - 58s - 1s/step - accuracy: 0.1210 - loss: 2.2953 - val_accuracy: 0.1165 - val_loss: 2.2939\n",
      "Epoch 16/20\n",
      "41/41 - 58s - 1s/step - accuracy: 0.1163 - loss: 2.2955 - val_accuracy: 0.1165 - val_loss: 2.2941\n",
      "Epoch 17/20\n",
      "41/41 - 58s - 1s/step - accuracy: 0.1271 - loss: 2.2953 - val_accuracy: 0.1165 - val_loss: 2.2943\n",
      "Epoch 18/20\n",
      "41/41 - 59s - 1s/step - accuracy: 0.1071 - loss: 2.2972 - val_accuracy: 0.1165 - val_loss: 2.2941\n",
      "Epoch 19/20\n",
      "41/41 - 60s - 1s/step - accuracy: 0.1210 - loss: 2.2947 - val_accuracy: 0.1165 - val_loss: 2.2942\n",
      "Epoch 20/20\n",
      "41/41 - 60s - 1s/step - accuracy: 0.1163 - loss: 2.2909 - val_accuracy: 0.1165 - val_loss: 2.2936\n"
     ]
    },
    {
     "name": "stderr",
     "output_type": "stream",
     "text": [
      "2024/06/26 15:36:32 WARNING mlflow.keras.save: You are saving a Keras model without specifying model signature.\n"
     ]
    },
    {
     "name": "stdout",
     "output_type": "stream",
     "text": [
      "\u001B[1m7/7\u001B[0m \u001B[32m━━━━━━━━━━━━━━━━━━━━\u001B[0m\u001B[37m\u001B[0m \u001B[1m2s\u001B[0m 284ms/step - accuracy: 0.0510 - loss: 2.3125\n",
      "Test accuracy: 0.11917098611593246\n",
      "Epoch 1/10\n",
      "41/41 - 65s - 2s/step - accuracy: 0.0932 - loss: 2.3076 - val_accuracy: 0.1057 - val_loss: 2.2968\n",
      "Epoch 2/10\n",
      "41/41 - 60s - 1s/step - accuracy: 0.0978 - loss: 2.3004 - val_accuracy: 0.1003 - val_loss: 2.2977\n",
      "Epoch 3/10\n",
      "41/41 - 61s - 1s/step - accuracy: 0.1102 - loss: 2.2991 - val_accuracy: 0.1192 - val_loss: 2.2952\n",
      "Epoch 4/10\n",
      "41/41 - 63s - 2s/step - accuracy: 0.1009 - loss: 2.2984 - val_accuracy: 0.1274 - val_loss: 2.2938\n",
      "Epoch 5/10\n",
      "41/41 - 61s - 1s/step - accuracy: 0.1048 - loss: 2.2960 - val_accuracy: 0.1274 - val_loss: 2.2923\n",
      "Epoch 6/10\n",
      "41/41 - 59s - 1s/step - accuracy: 0.1017 - loss: 2.2978 - val_accuracy: 0.1301 - val_loss: 2.2925\n",
      "Epoch 7/10\n",
      "41/41 - 63s - 2s/step - accuracy: 0.1163 - loss: 2.2934 - val_accuracy: 0.1192 - val_loss: 2.2897\n",
      "Epoch 8/10\n",
      "41/41 - 65s - 2s/step - accuracy: 0.1079 - loss: 2.2898 - val_accuracy: 0.1220 - val_loss: 2.2860\n",
      "Epoch 9/10\n",
      "41/41 - 56s - 1s/step - accuracy: 0.1179 - loss: 2.2852 - val_accuracy: 0.1165 - val_loss: 2.2837\n",
      "Epoch 10/10\n",
      "41/41 - 55s - 1s/step - accuracy: 0.1086 - loss: 2.2924 - val_accuracy: 0.1545 - val_loss: 2.2836\n"
     ]
    },
    {
     "name": "stderr",
     "output_type": "stream",
     "text": [
      "2024/06/26 15:46:51 WARNING mlflow.keras.save: You are saving a Keras model without specifying model signature.\n"
     ]
    },
    {
     "name": "stdout",
     "output_type": "stream",
     "text": [
      "\u001B[1m7/7\u001B[0m \u001B[32m━━━━━━━━━━━━━━━━━━━━\u001B[0m\u001B[37m\u001B[0m \u001B[1m2s\u001B[0m 260ms/step - accuracy: 0.0883 - loss: 2.2978\n",
      "Test accuracy: 0.15544041991233826\n",
      "Epoch 1/10\n",
      "41/41 - 57s - 1s/step - accuracy: 0.0963 - loss: 2.3126 - val_accuracy: 0.0976 - val_loss: 2.2974\n",
      "Epoch 2/10\n",
      "41/41 - 56s - 1s/step - accuracy: 0.1071 - loss: 2.3007 - val_accuracy: 0.1030 - val_loss: 2.2957\n",
      "Epoch 3/10\n",
      "41/41 - 55s - 1s/step - accuracy: 0.1102 - loss: 2.2961 - val_accuracy: 0.1165 - val_loss: 2.2945\n",
      "Epoch 4/10\n",
      "41/41 - 52s - 1s/step - accuracy: 0.1156 - loss: 2.2980 - val_accuracy: 0.1165 - val_loss: 2.2932\n",
      "Epoch 5/10\n",
      "41/41 - 53s - 1s/step - accuracy: 0.1102 - loss: 2.3007 - val_accuracy: 0.1165 - val_loss: 2.2937\n",
      "Epoch 6/10\n",
      "41/41 - 54s - 1s/step - accuracy: 0.1148 - loss: 2.2954 - val_accuracy: 0.1111 - val_loss: 2.2937\n",
      "Epoch 7/10\n",
      "41/41 - 57s - 1s/step - accuracy: 0.1217 - loss: 2.2965 - val_accuracy: 0.1192 - val_loss: 2.2931\n",
      "Epoch 8/10\n",
      "41/41 - 57s - 1s/step - accuracy: 0.0955 - loss: 2.3014 - val_accuracy: 0.1084 - val_loss: 2.2937\n",
      "Epoch 9/10\n",
      "41/41 - 58s - 1s/step - accuracy: 0.1271 - loss: 2.2937 - val_accuracy: 0.1057 - val_loss: 2.2932\n",
      "Epoch 10/10\n",
      "41/41 - 59s - 1s/step - accuracy: 0.1009 - loss: 2.2985 - val_accuracy: 0.1138 - val_loss: 2.2935\n"
     ]
    },
    {
     "name": "stderr",
     "output_type": "stream",
     "text": [
      "2024/06/26 15:56:17 WARNING mlflow.keras.save: You are saving a Keras model without specifying model signature.\n"
     ]
    },
    {
     "name": "stdout",
     "output_type": "stream",
     "text": [
      "\u001B[1m7/7\u001B[0m \u001B[32m━━━━━━━━━━━━━━━━━━━━\u001B[0m\u001B[37m\u001B[0m \u001B[1m2s\u001B[0m 295ms/step - accuracy: 0.0966 - loss: 2.3035\n",
      "Test accuracy: 0.10880828648805618\n",
      "Epoch 1/20\n",
      "41/41 - 66s - 2s/step - accuracy: 0.1048 - loss: 2.3063 - val_accuracy: 0.1165 - val_loss: 2.2957\n",
      "Epoch 2/20\n",
      "41/41 - 64s - 2s/step - accuracy: 0.1156 - loss: 2.2963 - val_accuracy: 0.1165 - val_loss: 2.2959\n",
      "Epoch 3/20\n",
      "41/41 - 61s - 1s/step - accuracy: 0.1102 - loss: 2.2960 - val_accuracy: 0.1165 - val_loss: 2.2950\n",
      "Epoch 4/20\n",
      "41/41 - 62s - 2s/step - accuracy: 0.1125 - loss: 2.2946 - val_accuracy: 0.1165 - val_loss: 2.2941\n",
      "Epoch 5/20\n",
      "41/41 - 66s - 2s/step - accuracy: 0.1294 - loss: 2.2932 - val_accuracy: 0.1165 - val_loss: 2.2942\n",
      "Epoch 6/20\n",
      "41/41 - 63s - 2s/step - accuracy: 0.1202 - loss: 2.2959 - val_accuracy: 0.1165 - val_loss: 2.2938\n",
      "Epoch 7/20\n",
      "41/41 - 63s - 2s/step - accuracy: 0.1171 - loss: 2.2923 - val_accuracy: 0.1165 - val_loss: 2.2923\n",
      "Epoch 8/20\n",
      "41/41 - 63s - 2s/step - accuracy: 0.1171 - loss: 2.2931 - val_accuracy: 0.1165 - val_loss: 2.2908\n",
      "Epoch 9/20\n",
      "41/41 - 65s - 2s/step - accuracy: 0.1225 - loss: 2.2925 - val_accuracy: 0.1192 - val_loss: 2.2911\n",
      "Epoch 10/20\n",
      "41/41 - 81s - 2s/step - accuracy: 0.1233 - loss: 2.2925 - val_accuracy: 0.1220 - val_loss: 2.2907\n",
      "Epoch 11/20\n",
      "41/41 - 64s - 2s/step - accuracy: 0.1156 - loss: 2.2938 - val_accuracy: 0.1220 - val_loss: 2.2896\n",
      "Epoch 12/20\n",
      "41/41 - 63s - 2s/step - accuracy: 0.1171 - loss: 2.2919 - val_accuracy: 0.1220 - val_loss: 2.2880\n",
      "Epoch 13/20\n",
      "41/41 - 64s - 2s/step - accuracy: 0.1240 - loss: 2.2902 - val_accuracy: 0.1247 - val_loss: 2.2867\n",
      "Epoch 14/20\n",
      "41/41 - 64s - 2s/step - accuracy: 0.1448 - loss: 2.2880 - val_accuracy: 0.1192 - val_loss: 2.2863\n",
      "Epoch 15/20\n",
      "41/41 - 63s - 2s/step - accuracy: 0.1133 - loss: 2.2888 - val_accuracy: 0.1247 - val_loss: 2.2806\n",
      "Epoch 16/20\n",
      "41/41 - 64s - 2s/step - accuracy: 0.1317 - loss: 2.2832 - val_accuracy: 0.1247 - val_loss: 2.2786\n",
      "Epoch 17/20\n",
      "41/41 - 66s - 2s/step - accuracy: 0.1456 - loss: 2.2852 - val_accuracy: 0.1355 - val_loss: 2.2746\n",
      "Epoch 18/20\n",
      "41/41 - 69s - 2s/step - accuracy: 0.1341 - loss: 2.2821 - val_accuracy: 0.1518 - val_loss: 2.2732\n",
      "Epoch 19/20\n",
      "41/41 - 64s - 2s/step - accuracy: 0.1294 - loss: 2.2781 - val_accuracy: 0.1599 - val_loss: 2.2913\n",
      "Epoch 20/20\n",
      "41/41 - 65s - 2s/step - accuracy: 0.1248 - loss: 2.2831 - val_accuracy: 0.1382 - val_loss: 2.2703\n"
     ]
    },
    {
     "name": "stderr",
     "output_type": "stream",
     "text": [
      "2024/06/26 16:18:09 WARNING mlflow.keras.save: You are saving a Keras model without specifying model signature.\n"
     ]
    },
    {
     "name": "stdout",
     "output_type": "stream",
     "text": [
      "\u001B[1m7/7\u001B[0m \u001B[32m━━━━━━━━━━━━━━━━━━━━\u001B[0m\u001B[37m\u001B[0m \u001B[1m3s\u001B[0m 349ms/step - accuracy: 0.0627 - loss: 2.3083\n",
      "Test accuracy: 0.12953367829322815\n",
      "Epoch 1/20\n",
      "41/41 - 66s - 2s/step - accuracy: 0.1079 - loss: 2.3005 - val_accuracy: 0.0813 - val_loss: 2.2967\n",
      "Epoch 2/20\n",
      "41/41 - 65s - 2s/step - accuracy: 0.1179 - loss: 2.2997 - val_accuracy: 0.1192 - val_loss: 2.2968\n",
      "Epoch 3/20\n",
      "41/41 - 69s - 2s/step - accuracy: 0.1094 - loss: 2.3027 - val_accuracy: 0.1165 - val_loss: 2.2971\n",
      "Epoch 4/20\n",
      "41/41 - 65s - 2s/step - accuracy: 0.1079 - loss: 2.2978 - val_accuracy: 0.1220 - val_loss: 2.2957\n",
      "Epoch 5/20\n",
      "41/41 - 68s - 2s/step - accuracy: 0.1079 - loss: 2.3004 - val_accuracy: 0.1301 - val_loss: 2.2957\n",
      "Epoch 6/20\n",
      "41/41 - 66s - 2s/step - accuracy: 0.0963 - loss: 2.3005 - val_accuracy: 0.1084 - val_loss: 2.2966\n",
      "Epoch 7/20\n",
      "41/41 - 65s - 2s/step - accuracy: 0.1125 - loss: 2.3004 - val_accuracy: 0.1138 - val_loss: 2.2972\n",
      "Epoch 8/20\n",
      "41/41 - 67s - 2s/step - accuracy: 0.1163 - loss: 2.2969 - val_accuracy: 0.1436 - val_loss: 2.2955\n",
      "Epoch 9/20\n",
      "41/41 - 86s - 2s/step - accuracy: 0.1002 - loss: 2.2989 - val_accuracy: 0.1138 - val_loss: 2.2962\n",
      "Epoch 10/20\n",
      "41/41 - 76s - 2s/step - accuracy: 0.1079 - loss: 2.3000 - val_accuracy: 0.1247 - val_loss: 2.2966\n",
      "Epoch 11/20\n",
      "41/41 - 65s - 2s/step - accuracy: 0.1079 - loss: 2.3006 - val_accuracy: 0.1274 - val_loss: 2.2970\n",
      "Epoch 12/20\n",
      "41/41 - 68s - 2s/step - accuracy: 0.1079 - loss: 2.3016 - val_accuracy: 0.1138 - val_loss: 2.2969\n",
      "Epoch 13/20\n",
      "41/41 - 66s - 2s/step - accuracy: 0.1148 - loss: 2.2985 - val_accuracy: 0.1165 - val_loss: 2.2971\n",
      "Epoch 14/20\n",
      "41/41 - 67s - 2s/step - accuracy: 0.1148 - loss: 2.2949 - val_accuracy: 0.1165 - val_loss: 2.2956\n",
      "Epoch 15/20\n",
      "41/41 - 72s - 2s/step - accuracy: 0.1086 - loss: 2.3014 - val_accuracy: 0.1165 - val_loss: 2.2966\n",
      "Epoch 16/20\n",
      "41/41 - 65s - 2s/step - accuracy: 0.1217 - loss: 2.2963 - val_accuracy: 0.1165 - val_loss: 2.2957\n",
      "Epoch 17/20\n",
      "41/41 - 65s - 2s/step - accuracy: 0.1117 - loss: 2.3019 - val_accuracy: 0.1138 - val_loss: 2.2959\n",
      "Epoch 18/20\n",
      "41/41 - 68s - 2s/step - accuracy: 0.1032 - loss: 2.2967 - val_accuracy: 0.1192 - val_loss: 2.2964\n",
      "Epoch 19/20\n",
      "41/41 - 69s - 2s/step - accuracy: 0.1233 - loss: 2.2953 - val_accuracy: 0.1165 - val_loss: 2.2968\n",
      "Epoch 20/20\n",
      "41/41 - 68s - 2s/step - accuracy: 0.1094 - loss: 2.2990 - val_accuracy: 0.1165 - val_loss: 2.2965\n"
     ]
    },
    {
     "name": "stderr",
     "output_type": "stream",
     "text": [
      "2024/06/26 16:41:07 WARNING mlflow.keras.save: You are saving a Keras model without specifying model signature.\n"
     ]
    },
    {
     "name": "stdout",
     "output_type": "stream",
     "text": [
      "\u001B[1m7/7\u001B[0m \u001B[32m━━━━━━━━━━━━━━━━━━━━\u001B[0m\u001B[37m\u001B[0m \u001B[1m3s\u001B[0m 354ms/step - accuracy: 0.0510 - loss: 2.2993\n",
      "Test accuracy: 0.11917098611593246\n"
     ]
    }
   ],
   "source": [
    "# Avec data augmentation\n",
    "# Entraînement de différents modèles à 3 couches avec différentes combinaisons d'hyperparamètres avec data augmentation\n",
    "for batch_size in batch_sizes:\n",
    "    for epochs in epochs_list:\n",
    "        for learning_rate in learning_rates:\n",
    "            train_model_3_couches(batch_size, epochs, learning_rate)"
   ],
   "metadata": {
    "collapsed": false,
    "ExecuteTime": {
     "end_time": "2024-06-26T14:41:20.856747Z",
     "start_time": "2024-06-26T12:26:45.467123Z"
    }
   },
   "id": "5fbd5ebc38e904dc",
   "execution_count": 68
  },
  {
   "cell_type": "code",
   "outputs": [
    {
     "name": "stdout",
     "output_type": "stream",
     "text": [
      "Epoch 1/10\n",
      "41/41 - 66s - 2s/step - accuracy: 0.0824 - loss: 2.3063 - val_accuracy: 0.1138 - val_loss: 2.3003\n",
      "Epoch 2/10\n",
      "41/41 - 80s - 2s/step - accuracy: 0.1179 - loss: 2.3013 - val_accuracy: 0.1165 - val_loss: 2.2995\n",
      "Epoch 3/10\n",
      "41/41 - 86s - 2s/step - accuracy: 0.1086 - loss: 2.2995 - val_accuracy: 0.1165 - val_loss: 2.2981\n",
      "Epoch 4/10\n",
      "41/41 - 80s - 2s/step - accuracy: 0.1163 - loss: 2.2977 - val_accuracy: 0.1165 - val_loss: 2.2960\n",
      "Epoch 5/10\n",
      "41/41 - 104s - 3s/step - accuracy: 0.1086 - loss: 2.2954 - val_accuracy: 0.1301 - val_loss: 2.2957\n",
      "Epoch 6/10\n",
      "41/41 - 82s - 2s/step - accuracy: 0.1071 - loss: 2.2985 - val_accuracy: 0.1165 - val_loss: 2.2948\n",
      "Epoch 7/10\n",
      "41/41 - 97s - 2s/step - accuracy: 0.1163 - loss: 2.2956 - val_accuracy: 0.1274 - val_loss: 2.2947\n",
      "Epoch 8/10\n",
      "41/41 - 81s - 2s/step - accuracy: 0.1186 - loss: 2.2956 - val_accuracy: 0.1409 - val_loss: 2.2940\n",
      "Epoch 9/10\n",
      "41/41 - 78s - 2s/step - accuracy: 0.1240 - loss: 2.2947 - val_accuracy: 0.1247 - val_loss: 2.2927\n",
      "Epoch 10/10\n",
      "41/41 - 78s - 2s/step - accuracy: 0.1148 - loss: 2.2927 - val_accuracy: 0.1355 - val_loss: 2.2921\n"
     ]
    },
    {
     "name": "stderr",
     "output_type": "stream",
     "text": [
      "2024/06/26 17:12:08 WARNING mlflow.keras.save: You are saving a Keras model without specifying model signature.\n"
     ]
    },
    {
     "name": "stdout",
     "output_type": "stream",
     "text": [
      "\u001B[1m7/7\u001B[0m \u001B[32m━━━━━━━━━━━━━━━━━━━━\u001B[0m\u001B[37m\u001B[0m \u001B[1m3s\u001B[0m 433ms/step - accuracy: 0.1083 - loss: 2.3087\n",
      "Test accuracy: 0.13989637792110443\n",
      "Epoch 1/10\n",
      "41/41 - 83s - 2s/step - accuracy: 0.1040 - loss: 2.3043 - val_accuracy: 0.1084 - val_loss: 2.3029\n",
      "Epoch 2/10\n",
      "41/41 - 82s - 2s/step - accuracy: 0.1025 - loss: 2.3029 - val_accuracy: 0.1084 - val_loss: 2.3020\n",
      "Epoch 3/10\n",
      "41/41 - 78s - 2s/step - accuracy: 0.1263 - loss: 2.3021 - val_accuracy: 0.1003 - val_loss: 2.3021\n",
      "Epoch 4/10\n",
      "41/41 - 79s - 2s/step - accuracy: 0.1202 - loss: 2.3014 - val_accuracy: 0.1003 - val_loss: 2.3013\n",
      "Epoch 5/10\n",
      "41/41 - 80s - 2s/step - accuracy: 0.1186 - loss: 2.3006 - val_accuracy: 0.1138 - val_loss: 2.3008\n",
      "Epoch 6/10\n",
      "41/41 - 78s - 2s/step - accuracy: 0.1102 - loss: 2.3019 - val_accuracy: 0.1247 - val_loss: 2.3009\n",
      "Epoch 7/10\n",
      "41/41 - 78s - 2s/step - accuracy: 0.1025 - loss: 2.3022 - val_accuracy: 0.1247 - val_loss: 2.3005\n",
      "Epoch 8/10\n",
      "41/41 - 79s - 2s/step - accuracy: 0.1171 - loss: 2.3005 - val_accuracy: 0.1165 - val_loss: 2.2999\n",
      "Epoch 9/10\n",
      "41/41 - 78s - 2s/step - accuracy: 0.1163 - loss: 2.3004 - val_accuracy: 0.1192 - val_loss: 2.3002\n",
      "Epoch 10/10\n",
      "41/41 - 77s - 2s/step - accuracy: 0.1140 - loss: 2.3013 - val_accuracy: 0.1165 - val_loss: 2.3002\n"
     ]
    },
    {
     "name": "stderr",
     "output_type": "stream",
     "text": [
      "2024/06/26 17:25:36 WARNING mlflow.keras.save: You are saving a Keras model without specifying model signature.\n"
     ]
    },
    {
     "name": "stdout",
     "output_type": "stream",
     "text": [
      "\u001B[1m7/7\u001B[0m \u001B[32m━━━━━━━━━━━━━━━━━━━━\u001B[0m\u001B[37m\u001B[0m \u001B[1m3s\u001B[0m 374ms/step - accuracy: 0.0510 - loss: 2.3060\n",
      "Test accuracy: 0.11917098611593246\n",
      "Epoch 1/20\n",
      "41/41 - 85s - 2s/step - accuracy: 0.1109 - loss: 2.3034 - val_accuracy: 0.1220 - val_loss: 2.3009\n",
      "Epoch 2/20\n",
      "41/41 - 90s - 2s/step - accuracy: 0.1094 - loss: 2.3024 - val_accuracy: 0.1165 - val_loss: 2.2986\n",
      "Epoch 3/20\n",
      "41/41 - 79s - 2s/step - accuracy: 0.1025 - loss: 2.2995 - val_accuracy: 0.1165 - val_loss: 2.2979\n",
      "Epoch 4/20\n",
      "41/41 - 77s - 2s/step - accuracy: 0.1017 - loss: 2.2999 - val_accuracy: 0.1301 - val_loss: 2.2972\n",
      "Epoch 5/20\n",
      "41/41 - 76s - 2s/step - accuracy: 0.1148 - loss: 2.2986 - val_accuracy: 0.1165 - val_loss: 2.2957\n",
      "Epoch 6/20\n",
      "41/41 - 76s - 2s/step - accuracy: 0.1048 - loss: 2.2962 - val_accuracy: 0.1165 - val_loss: 2.2955\n",
      "Epoch 7/20\n",
      "41/41 - 83s - 2s/step - accuracy: 0.1171 - loss: 2.2967 - val_accuracy: 0.1165 - val_loss: 2.2941\n",
      "Epoch 8/20\n",
      "41/41 - 80s - 2s/step - accuracy: 0.1225 - loss: 2.2973 - val_accuracy: 0.1165 - val_loss: 2.2951\n",
      "Epoch 9/20\n",
      "41/41 - 61s - 1s/step - accuracy: 0.1186 - loss: 2.2982 - val_accuracy: 0.1165 - val_loss: 2.2953\n",
      "Epoch 10/20\n",
      "41/41 - 80s - 2s/step - accuracy: 0.1063 - loss: 2.2963 - val_accuracy: 0.1165 - val_loss: 2.2944\n",
      "Epoch 11/20\n",
      "41/41 - 78s - 2s/step - accuracy: 0.1202 - loss: 2.2965 - val_accuracy: 0.1165 - val_loss: 2.2933\n",
      "Epoch 12/20\n",
      "41/41 - 74s - 2s/step - accuracy: 0.0978 - loss: 2.2970 - val_accuracy: 0.1165 - val_loss: 2.2929\n",
      "Epoch 13/20\n",
      "41/41 - 75s - 2s/step - accuracy: 0.1210 - loss: 2.2960 - val_accuracy: 0.1165 - val_loss: 2.2929\n",
      "Epoch 14/20\n",
      "41/41 - 74s - 2s/step - accuracy: 0.1125 - loss: 2.2970 - val_accuracy: 0.1165 - val_loss: 2.2927\n",
      "Epoch 15/20\n",
      "41/41 - 73s - 2s/step - accuracy: 0.1186 - loss: 2.2934 - val_accuracy: 0.1165 - val_loss: 2.2908\n",
      "Epoch 16/20\n",
      "41/41 - 75s - 2s/step - accuracy: 0.1109 - loss: 2.2936 - val_accuracy: 0.1165 - val_loss: 2.2910\n",
      "Epoch 17/20\n",
      "41/41 - 74s - 2s/step - accuracy: 0.1194 - loss: 2.2928 - val_accuracy: 0.1165 - val_loss: 2.2888\n",
      "Epoch 18/20\n",
      "41/41 - 75s - 2s/step - accuracy: 0.1140 - loss: 2.2911 - val_accuracy: 0.1165 - val_loss: 2.2879\n",
      "Epoch 19/20\n",
      "41/41 - 74s - 2s/step - accuracy: 0.1186 - loss: 2.2914 - val_accuracy: 0.1165 - val_loss: 2.2865\n",
      "Epoch 20/20\n",
      "41/41 - 75s - 2s/step - accuracy: 0.1248 - loss: 2.2878 - val_accuracy: 0.1192 - val_loss: 2.2847\n"
     ]
    },
    {
     "name": "stderr",
     "output_type": "stream",
     "text": [
      "2024/06/26 17:51:25 WARNING mlflow.keras.save: You are saving a Keras model without specifying model signature.\n"
     ]
    },
    {
     "name": "stdout",
     "output_type": "stream",
     "text": [
      "\u001B[1m7/7\u001B[0m \u001B[32m━━━━━━━━━━━━━━━━━━━━\u001B[0m\u001B[37m\u001B[0m \u001B[1m3s\u001B[0m 382ms/step - accuracy: 0.0510 - loss: 2.3037\n",
      "Test accuracy: 0.11917098611593246\n",
      "Epoch 1/20\n",
      "41/41 - 76s - 2s/step - accuracy: 0.0894 - loss: 2.3033 - val_accuracy: 0.0921 - val_loss: 2.3017\n",
      "Epoch 2/20\n",
      "41/41 - 74s - 2s/step - accuracy: 0.0909 - loss: 2.3017 - val_accuracy: 0.0976 - val_loss: 2.3013\n",
      "Epoch 3/20\n",
      "41/41 - 76s - 2s/step - accuracy: 0.1109 - loss: 2.3007 - val_accuracy: 0.0949 - val_loss: 2.3012\n",
      "Epoch 4/20\n",
      "41/41 - 68s - 2s/step - accuracy: 0.0863 - loss: 2.3029 - val_accuracy: 0.1382 - val_loss: 2.3001\n",
      "Epoch 5/20\n",
      "41/41 - 79s - 2s/step - accuracy: 0.1055 - loss: 2.3009 - val_accuracy: 0.1192 - val_loss: 2.2996\n",
      "Epoch 6/20\n",
      "41/41 - 69s - 2s/step - accuracy: 0.1025 - loss: 2.3010 - val_accuracy: 0.1165 - val_loss: 2.2991\n",
      "Epoch 7/20\n",
      "41/41 - 68s - 2s/step - accuracy: 0.0978 - loss: 2.2993 - val_accuracy: 0.1165 - val_loss: 2.2989\n",
      "Epoch 8/20\n",
      "41/41 - 68s - 2s/step - accuracy: 0.1063 - loss: 2.2979 - val_accuracy: 0.1165 - val_loss: 2.2986\n",
      "Epoch 9/20\n",
      "41/41 - 66s - 2s/step - accuracy: 0.1071 - loss: 2.2983 - val_accuracy: 0.1165 - val_loss: 2.2980\n",
      "Epoch 10/20\n",
      "41/41 - 67s - 2s/step - accuracy: 0.1140 - loss: 2.2980 - val_accuracy: 0.1165 - val_loss: 2.2976\n",
      "Epoch 11/20\n",
      "41/41 - 66s - 2s/step - accuracy: 0.1233 - loss: 2.2983 - val_accuracy: 0.1165 - val_loss: 2.2973\n",
      "Epoch 12/20\n",
      "41/41 - 67s - 2s/step - accuracy: 0.1086 - loss: 2.2976 - val_accuracy: 0.1165 - val_loss: 2.2966\n",
      "Epoch 13/20\n",
      "41/41 - 66s - 2s/step - accuracy: 0.1071 - loss: 2.2987 - val_accuracy: 0.1165 - val_loss: 2.2970\n",
      "Epoch 14/20\n",
      "41/41 - 73s - 2s/step - accuracy: 0.1055 - loss: 2.2978 - val_accuracy: 0.1165 - val_loss: 2.2966\n",
      "Epoch 15/20\n",
      "41/41 - 67s - 2s/step - accuracy: 0.1079 - loss: 2.2967 - val_accuracy: 0.1165 - val_loss: 2.2963\n",
      "Epoch 16/20\n",
      "41/41 - 67s - 2s/step - accuracy: 0.1032 - loss: 2.2980 - val_accuracy: 0.1165 - val_loss: 2.2962\n",
      "Epoch 17/20\n",
      "41/41 - 68s - 2s/step - accuracy: 0.1063 - loss: 2.2965 - val_accuracy: 0.1165 - val_loss: 2.2962\n",
      "Epoch 18/20\n",
      "41/41 - 70s - 2s/step - accuracy: 0.1117 - loss: 2.2963 - val_accuracy: 0.1165 - val_loss: 2.2960\n",
      "Epoch 19/20\n",
      "41/41 - 72s - 2s/step - accuracy: 0.1163 - loss: 2.2967 - val_accuracy: 0.1165 - val_loss: 2.2959\n",
      "Epoch 20/20\n",
      "41/41 - 69s - 2s/step - accuracy: 0.1025 - loss: 2.2976 - val_accuracy: 0.1165 - val_loss: 2.2953\n"
     ]
    },
    {
     "name": "stderr",
     "output_type": "stream",
     "text": [
      "2024/06/26 18:14:55 WARNING mlflow.keras.save: You are saving a Keras model without specifying model signature.\n"
     ]
    },
    {
     "name": "stdout",
     "output_type": "stream",
     "text": [
      "\u001B[1m7/7\u001B[0m \u001B[32m━━━━━━━━━━━━━━━━━━━━\u001B[0m\u001B[37m\u001B[0m \u001B[1m2s\u001B[0m 337ms/step - accuracy: 0.0510 - loss: 2.3154\n",
      "Test accuracy: 0.11917098611593246\n",
      "Epoch 1/10\n",
      "41/41 - 71s - 2s/step - accuracy: 0.1017 - loss: 2.3013 - val_accuracy: 0.1165 - val_loss: 2.2991\n",
      "Epoch 2/10\n",
      "41/41 - 68s - 2s/step - accuracy: 0.0909 - loss: 2.3018 - val_accuracy: 0.1165 - val_loss: 2.2974\n",
      "Epoch 3/10\n",
      "41/41 - 65s - 2s/step - accuracy: 0.1163 - loss: 2.2986 - val_accuracy: 0.1165 - val_loss: 2.2965\n",
      "Epoch 4/10\n",
      "41/41 - 63s - 2s/step - accuracy: 0.1179 - loss: 2.2990 - val_accuracy: 0.1274 - val_loss: 2.2963\n",
      "Epoch 5/10\n",
      "41/41 - 61s - 1s/step - accuracy: 0.1186 - loss: 2.2978 - val_accuracy: 0.1165 - val_loss: 2.2959\n",
      "Epoch 6/10\n",
      "41/41 - 63s - 2s/step - accuracy: 0.1179 - loss: 2.2979 - val_accuracy: 0.1165 - val_loss: 2.2957\n",
      "Epoch 7/10\n",
      "41/41 - 68s - 2s/step - accuracy: 0.1171 - loss: 2.2955 - val_accuracy: 0.1165 - val_loss: 2.2954\n",
      "Epoch 8/10\n",
      "41/41 - 68s - 2s/step - accuracy: 0.1302 - loss: 2.2937 - val_accuracy: 0.1165 - val_loss: 2.2939\n",
      "Epoch 9/10\n",
      "41/41 - 69s - 2s/step - accuracy: 0.1210 - loss: 2.2998 - val_accuracy: 0.1165 - val_loss: 2.2939\n",
      "Epoch 10/10\n",
      "41/41 - 70s - 2s/step - accuracy: 0.1094 - loss: 2.2995 - val_accuracy: 0.1165 - val_loss: 2.2950\n"
     ]
    },
    {
     "name": "stderr",
     "output_type": "stream",
     "text": [
      "2024/06/26 18:26:14 WARNING mlflow.keras.save: You are saving a Keras model without specifying model signature.\n"
     ]
    },
    {
     "name": "stdout",
     "output_type": "stream",
     "text": [
      "\u001B[1m7/7\u001B[0m \u001B[32m━━━━━━━━━━━━━━━━━━━━\u001B[0m\u001B[37m\u001B[0m \u001B[1m3s\u001B[0m 362ms/step - accuracy: 0.0580 - loss: 2.3039\n",
      "Test accuracy: 0.12435232847929001\n",
      "Epoch 1/10\n",
      "41/41 - 72s - 2s/step - accuracy: 0.1017 - loss: 2.3014 - val_accuracy: 0.1111 - val_loss: 2.3010\n",
      "Epoch 2/10\n",
      "41/41 - 71s - 2s/step - accuracy: 0.1094 - loss: 2.3015 - val_accuracy: 0.0786 - val_loss: 2.3005\n",
      "Epoch 3/10\n",
      "41/41 - 71s - 2s/step - accuracy: 0.0932 - loss: 2.3011 - val_accuracy: 0.1030 - val_loss: 2.3001\n",
      "Epoch 4/10\n",
      "41/41 - 69s - 2s/step - accuracy: 0.1148 - loss: 2.2985 - val_accuracy: 0.1057 - val_loss: 2.3000\n",
      "Epoch 5/10\n",
      "41/41 - 78s - 2s/step - accuracy: 0.1040 - loss: 2.3001 - val_accuracy: 0.1030 - val_loss: 2.2999\n",
      "Epoch 6/10\n",
      "41/41 - 74s - 2s/step - accuracy: 0.0955 - loss: 2.3007 - val_accuracy: 0.1111 - val_loss: 2.2996\n",
      "Epoch 7/10\n",
      "41/41 - 69s - 2s/step - accuracy: 0.1156 - loss: 2.2987 - val_accuracy: 0.1165 - val_loss: 2.2992\n",
      "Epoch 8/10\n",
      "41/41 - 69s - 2s/step - accuracy: 0.1009 - loss: 2.3004 - val_accuracy: 0.1165 - val_loss: 2.2988\n",
      "Epoch 9/10\n",
      "41/41 - 83s - 2s/step - accuracy: 0.1094 - loss: 2.3003 - val_accuracy: 0.1111 - val_loss: 2.2991\n",
      "Epoch 10/10\n",
      "41/41 - 76s - 2s/step - accuracy: 0.0948 - loss: 2.2990 - val_accuracy: 0.1165 - val_loss: 2.2989\n"
     ]
    },
    {
     "name": "stderr",
     "output_type": "stream",
     "text": [
      "2024/06/26 18:38:40 WARNING mlflow.keras.save: You are saving a Keras model without specifying model signature.\n"
     ]
    },
    {
     "name": "stdout",
     "output_type": "stream",
     "text": [
      "\u001B[1m7/7\u001B[0m \u001B[32m━━━━━━━━━━━━━━━━━━━━\u001B[0m\u001B[37m\u001B[0m \u001B[1m3s\u001B[0m 360ms/step - accuracy: 0.0939 - loss: 2.3090\n",
      "Test accuracy: 0.10362694412469864\n",
      "Epoch 1/20\n",
      "41/41 - 78s - 2s/step - accuracy: 0.1140 - loss: 2.3005 - val_accuracy: 0.1165 - val_loss: 2.2959\n",
      "Epoch 2/20\n",
      "41/41 - 78s - 2s/step - accuracy: 0.1009 - loss: 2.3015 - val_accuracy: 0.1165 - val_loss: 2.2954\n",
      "Epoch 3/20\n",
      "41/41 - 91s - 2s/step - accuracy: 0.1248 - loss: 2.2948 - val_accuracy: 0.1165 - val_loss: 2.2929\n",
      "Epoch 4/20\n",
      "41/41 - 94s - 2s/step - accuracy: 0.0978 - loss: 2.2978 - val_accuracy: 0.1165 - val_loss: 2.2944\n",
      "Epoch 5/20\n",
      "41/41 - 94s - 2s/step - accuracy: 0.1163 - loss: 2.2930 - val_accuracy: 0.1165 - val_loss: 2.2930\n",
      "Epoch 6/20\n",
      "41/41 - 69s - 2s/step - accuracy: 0.1109 - loss: 2.2987 - val_accuracy: 0.1301 - val_loss: 2.2951\n",
      "Epoch 7/20\n",
      "41/41 - 68s - 2s/step - accuracy: 0.1102 - loss: 2.2957 - val_accuracy: 0.1165 - val_loss: 2.2930\n",
      "Epoch 8/20\n",
      "41/41 - 68s - 2s/step - accuracy: 0.1263 - loss: 2.2931 - val_accuracy: 0.1165 - val_loss: 2.2894\n",
      "Epoch 9/20\n",
      "41/41 - 68s - 2s/step - accuracy: 0.1148 - loss: 2.2900 - val_accuracy: 0.1165 - val_loss: 2.2886\n",
      "Epoch 10/20\n",
      "41/41 - 68s - 2s/step - accuracy: 0.1048 - loss: 2.2898 - val_accuracy: 0.1165 - val_loss: 2.2863\n",
      "Epoch 11/20\n",
      "41/41 - 68s - 2s/step - accuracy: 0.1333 - loss: 2.2857 - val_accuracy: 0.1192 - val_loss: 2.2842\n",
      "Epoch 12/20\n",
      "41/41 - 68s - 2s/step - accuracy: 0.1310 - loss: 2.2851 - val_accuracy: 0.1274 - val_loss: 2.2822\n",
      "Epoch 13/20\n",
      "41/41 - 67s - 2s/step - accuracy: 0.1171 - loss: 2.2885 - val_accuracy: 0.1247 - val_loss: 2.2798\n",
      "Epoch 14/20\n",
      "41/41 - 69s - 2s/step - accuracy: 0.1256 - loss: 2.2828 - val_accuracy: 0.1274 - val_loss: 2.2770\n",
      "Epoch 15/20\n",
      "41/41 - 66s - 2s/step - accuracy: 0.1133 - loss: 2.2735 - val_accuracy: 0.1355 - val_loss: 2.2736\n",
      "Epoch 16/20\n",
      "41/41 - 64s - 2s/step - accuracy: 0.1287 - loss: 2.2732 - val_accuracy: 0.1355 - val_loss: 2.2698\n",
      "Epoch 17/20\n",
      "41/41 - 66s - 2s/step - accuracy: 0.1310 - loss: 2.2789 - val_accuracy: 0.1382 - val_loss: 2.2683\n",
      "Epoch 18/20\n",
      "41/41 - 64s - 2s/step - accuracy: 0.1471 - loss: 2.2661 - val_accuracy: 0.1599 - val_loss: 2.2604\n",
      "Epoch 19/20\n",
      "41/41 - 65s - 2s/step - accuracy: 0.1464 - loss: 2.2662 - val_accuracy: 0.1707 - val_loss: 2.2528\n",
      "Epoch 20/20\n",
      "41/41 - 63s - 2s/step - accuracy: 0.1579 - loss: 2.2574 - val_accuracy: 0.1545 - val_loss: 2.2496\n"
     ]
    },
    {
     "name": "stderr",
     "output_type": "stream",
     "text": [
      "2024/06/26 19:02:51 WARNING mlflow.keras.save: You are saving a Keras model without specifying model signature.\n"
     ]
    },
    {
     "name": "stdout",
     "output_type": "stream",
     "text": [
      "\u001B[1m7/7\u001B[0m \u001B[32m━━━━━━━━━━━━━━━━━━━━\u001B[0m\u001B[37m\u001B[0m \u001B[1m2s\u001B[0m 313ms/step - accuracy: 0.1066 - loss: 2.2750\n",
      "Test accuracy: 0.14507772028446198\n",
      "Epoch 1/20\n",
      "41/41 - 66s - 2s/step - accuracy: 0.0801 - loss: 2.3062 - val_accuracy: 0.0921 - val_loss: 2.3059\n",
      "Epoch 2/20\n",
      "41/41 - 64s - 2s/step - accuracy: 0.0963 - loss: 2.3059 - val_accuracy: 0.0921 - val_loss: 2.3046\n",
      "Epoch 3/20\n",
      "41/41 - 64s - 2s/step - accuracy: 0.0971 - loss: 2.3044 - val_accuracy: 0.0813 - val_loss: 2.3038\n",
      "Epoch 4/20\n",
      "41/41 - 64s - 2s/step - accuracy: 0.0801 - loss: 2.3044 - val_accuracy: 0.1003 - val_loss: 2.3033\n",
      "Epoch 5/20\n",
      "41/41 - 64s - 2s/step - accuracy: 0.1040 - loss: 2.3030 - val_accuracy: 0.1111 - val_loss: 2.3028\n",
      "Epoch 6/20\n",
      "41/41 - 65s - 2s/step - accuracy: 0.1086 - loss: 2.3027 - val_accuracy: 0.1111 - val_loss: 2.3022\n",
      "Epoch 7/20\n",
      "41/41 - 64s - 2s/step - accuracy: 0.1009 - loss: 2.3021 - val_accuracy: 0.1165 - val_loss: 2.3019\n",
      "Epoch 8/20\n",
      "41/41 - 65s - 2s/step - accuracy: 0.1055 - loss: 2.3024 - val_accuracy: 0.1138 - val_loss: 2.3011\n",
      "Epoch 9/20\n",
      "41/41 - 64s - 2s/step - accuracy: 0.1171 - loss: 2.3012 - val_accuracy: 0.1274 - val_loss: 2.3012\n",
      "Epoch 10/20\n",
      "41/41 - 65s - 2s/step - accuracy: 0.1055 - loss: 2.3013 - val_accuracy: 0.0976 - val_loss: 2.3012\n",
      "Epoch 11/20\n",
      "41/41 - 65s - 2s/step - accuracy: 0.1071 - loss: 2.3015 - val_accuracy: 0.1057 - val_loss: 2.3010\n",
      "Epoch 12/20\n",
      "41/41 - 65s - 2s/step - accuracy: 0.1109 - loss: 2.3008 - val_accuracy: 0.0976 - val_loss: 2.3010\n",
      "Epoch 13/20\n",
      "41/41 - 65s - 2s/step - accuracy: 0.1009 - loss: 2.3017 - val_accuracy: 0.1192 - val_loss: 2.3009\n",
      "Epoch 14/20\n",
      "41/41 - 65s - 2s/step - accuracy: 0.1217 - loss: 2.3004 - val_accuracy: 0.0921 - val_loss: 2.3006\n",
      "Epoch 15/20\n",
      "41/41 - 67s - 2s/step - accuracy: 0.1148 - loss: 2.3009 - val_accuracy: 0.1220 - val_loss: 2.3003\n",
      "Epoch 16/20\n",
      "41/41 - 65s - 2s/step - accuracy: 0.1063 - loss: 2.3003 - val_accuracy: 0.1084 - val_loss: 2.3005\n",
      "Epoch 17/20\n",
      "41/41 - 65s - 2s/step - accuracy: 0.1248 - loss: 2.2988 - val_accuracy: 0.1274 - val_loss: 2.3003\n",
      "Epoch 18/20\n",
      "41/41 - 65s - 2s/step - accuracy: 0.1032 - loss: 2.3003 - val_accuracy: 0.1084 - val_loss: 2.3001\n",
      "Epoch 19/20\n",
      "41/41 - 65s - 2s/step - accuracy: 0.1133 - loss: 2.3001 - val_accuracy: 0.1111 - val_loss: 2.3000\n",
      "Epoch 20/20\n",
      "41/41 - 65s - 2s/step - accuracy: 0.0994 - loss: 2.3002 - val_accuracy: 0.1111 - val_loss: 2.2996\n"
     ]
    },
    {
     "name": "stderr",
     "output_type": "stream",
     "text": [
      "2024/06/26 19:24:42 WARNING mlflow.keras.save: You are saving a Keras model without specifying model signature.\n"
     ]
    },
    {
     "name": "stdout",
     "output_type": "stream",
     "text": [
      "\u001B[1m7/7\u001B[0m \u001B[32m━━━━━━━━━━━━━━━━━━━━\u001B[0m\u001B[37m\u001B[0m \u001B[1m2s\u001B[0m 314ms/step - accuracy: 0.0506 - loss: 2.3068\n",
      "Test accuracy: 0.10362694412469864\n"
     ]
    }
   ],
   "source": [
    "# Avec data augmentation\n",
    "# Entraînement de différents modèles à 5 couches avec différentes combinaisons d'hyperparamètres avec data augmentation\n",
    "for batch_size in batch_sizes:\n",
    "    for epochs in epochs_list:\n",
    "        for learning_rate in learning_rates:\n",
    "            train_model_5_couches(batch_size, epochs, learning_rate)"
   ],
   "metadata": {
    "collapsed": false,
    "ExecuteTime": {
     "end_time": "2024-06-26T17:24:54.473814Z",
     "start_time": "2024-06-26T14:58:15.984837Z"
    }
   },
   "id": "bdad5d23af468c19",
   "execution_count": 69
  },
  {
   "cell_type": "code",
   "outputs": [],
   "source": [],
   "metadata": {
    "collapsed": false
   },
   "id": "edf221abf4050a5d"
  }
 ],
 "metadata": {
  "kernelspec": {
   "display_name": "Python 3",
   "language": "python",
   "name": "python3"
  },
  "language_info": {
   "codemirror_mode": {
    "name": "ipython",
    "version": 2
   },
   "file_extension": ".py",
   "mimetype": "text/x-python",
   "name": "python",
   "nbconvert_exporter": "python",
   "pygments_lexer": "ipython2",
   "version": "2.7.6"
  }
 },
 "nbformat": 4,
 "nbformat_minor": 5
}
